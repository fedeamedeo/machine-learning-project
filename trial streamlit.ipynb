{
 "cells": [
  {
   "cell_type": "code",
   "execution_count": 1,
   "id": "6bb333af",
   "metadata": {},
   "outputs": [
    {
     "name": "stdout",
     "output_type": "stream",
     "text": [
      "Requirement already satisfied: pip in /Users/federicaamedeo/opt/anaconda3/lib/python3.9/site-packages (25.1.1)\n",
      "\u001b[33mWARNING: Error parsing dependencies of pyodbc: Invalid version: '4.0.0-unsupported'\u001b[0m\u001b[33m\n",
      "\u001b[0m\u001b[31mERROR: Exception:\n",
      "Traceback (most recent call last):\n",
      "  File \"/Users/federicaamedeo/opt/anaconda3/lib/python3.9/site-packages/pip/_internal/cli/base_command.py\", line 105, in _run_wrapper\n",
      "    status = _inner_run()\n",
      "  File \"/Users/federicaamedeo/opt/anaconda3/lib/python3.9/site-packages/pip/_internal/cli/base_command.py\", line 96, in _inner_run\n",
      "    return self.run(options, args)\n",
      "  File \"/Users/federicaamedeo/opt/anaconda3/lib/python3.9/site-packages/pip/_internal/cli/req_command.py\", line 68, in wrapper\n",
      "    return func(self, options, args)\n",
      "  File \"/Users/federicaamedeo/opt/anaconda3/lib/python3.9/site-packages/pip/_internal/commands/install.py\", line 486, in run\n",
      "    installed_versions[distribution.canonical_name] = distribution.version\n",
      "  File \"/Users/federicaamedeo/opt/anaconda3/lib/python3.9/site-packages/pip/_internal/metadata/pkg_resources.py\", line 192, in version\n",
      "    return parse_version(self._dist.version)\n",
      "  File \"/Users/federicaamedeo/opt/anaconda3/lib/python3.9/site-packages/pip/_vendor/packaging/version.py\", line 56, in parse\n",
      "    return Version(version)\n",
      "  File \"/Users/federicaamedeo/opt/anaconda3/lib/python3.9/site-packages/pip/_vendor/packaging/version.py\", line 202, in __init__\n",
      "    raise InvalidVersion(f\"Invalid version: {version!r}\")\n",
      "pip._vendor.packaging.version.InvalidVersion: Invalid version: '4.0.0-unsupported'\u001b[0m\u001b[31m\n",
      "\u001b[0mNote: you may need to restart the kernel to use updated packages.\n"
     ]
    }
   ],
   "source": [
    "%pip install --upgrade pip"
   ]
  },
  {
   "cell_type": "code",
   "execution_count": 2,
   "id": "57affe05",
   "metadata": {},
   "outputs": [
    {
     "name": "stdout",
     "output_type": "stream",
     "text": [
      "Requirement already satisfied: streamlit in /Users/federicaamedeo/opt/anaconda3/lib/python3.9/site-packages (1.12.0)\n",
      "Requirement already satisfied: requests>=2.4 in /Users/federicaamedeo/opt/anaconda3/lib/python3.9/site-packages (from streamlit) (2.26.0)\n",
      "Requirement already satisfied: tornado>=5.0 in /Users/federicaamedeo/opt/anaconda3/lib/python3.9/site-packages (from streamlit) (6.1)\n",
      "Requirement already satisfied: click>=7.0 in /Users/federicaamedeo/opt/anaconda3/lib/python3.9/site-packages (from streamlit) (8.0.3)\n",
      "Requirement already satisfied: python-dateutil in /Users/federicaamedeo/opt/anaconda3/lib/python3.9/site-packages (from streamlit) (2.8.2)\n",
      "Requirement already satisfied: tzlocal>=1.1 in /Users/federicaamedeo/opt/anaconda3/lib/python3.9/site-packages (from streamlit) (5.3)\n",
      "Requirement already satisfied: pillow>=6.2.0 in /Users/federicaamedeo/opt/anaconda3/lib/python3.9/site-packages (from streamlit) (8.4.0)\n",
      "Requirement already satisfied: rich>=10.11.0 in /Users/federicaamedeo/opt/anaconda3/lib/python3.9/site-packages (from streamlit) (13.9.4)\n",
      "Requirement already satisfied: importlib-metadata>=1.4 in /Users/federicaamedeo/opt/anaconda3/lib/python3.9/site-packages (from streamlit) (4.8.1)\n",
      "Requirement already satisfied: semver in /Users/federicaamedeo/opt/anaconda3/lib/python3.9/site-packages (from streamlit) (3.0.4)\n",
      "Requirement already satisfied: typing-extensions>=3.10.0.0 in /Users/federicaamedeo/opt/anaconda3/lib/python3.9/site-packages (from streamlit) (4.12.2)\n",
      "Requirement already satisfied: gitpython!=3.1.19 in /Users/federicaamedeo/opt/anaconda3/lib/python3.9/site-packages (from streamlit) (3.1.44)\n",
      "Requirement already satisfied: blinker>=1.0.0 in /Users/federicaamedeo/opt/anaconda3/lib/python3.9/site-packages (from streamlit) (1.9.0)\n",
      "Requirement already satisfied: pydeck>=0.1.dev5 in /Users/federicaamedeo/opt/anaconda3/lib/python3.9/site-packages (from streamlit) (0.9.1)\n",
      "Requirement already satisfied: altair>=3.2.0 in /Users/federicaamedeo/opt/anaconda3/lib/python3.9/site-packages (from streamlit) (5.5.0)\n",
      "Requirement already satisfied: pyarrow>=4.0 in /Users/federicaamedeo/opt/anaconda3/lib/python3.9/site-packages (from streamlit) (15.0.0)\n",
      "Requirement already satisfied: validators>=0.2 in /Users/federicaamedeo/opt/anaconda3/lib/python3.9/site-packages (from streamlit) (0.34.0)\n",
      "Requirement already satisfied: pandas>=0.21.0 in /Users/federicaamedeo/opt/anaconda3/lib/python3.9/site-packages (from streamlit) (2.2.0)\n",
      "Requirement already satisfied: toml in /Users/federicaamedeo/opt/anaconda3/lib/python3.9/site-packages (from streamlit) (0.10.2)\n",
      "Requirement already satisfied: packaging>=14.1 in /Users/federicaamedeo/opt/anaconda3/lib/python3.9/site-packages (from streamlit) (23.2)\n",
      "Requirement already satisfied: cachetools>=4.0 in /Users/federicaamedeo/opt/anaconda3/lib/python3.9/site-packages (from streamlit) (5.5.1)\n",
      "Requirement already satisfied: protobuf<4,>=3.12 in /Users/federicaamedeo/opt/anaconda3/lib/python3.9/site-packages (from streamlit) (3.20.3)\n",
      "Requirement already satisfied: numpy in /Users/federicaamedeo/opt/anaconda3/lib/python3.9/site-packages (from streamlit) (1.26.4)\n",
      "Requirement already satisfied: pympler>=0.9 in /Users/federicaamedeo/opt/anaconda3/lib/python3.9/site-packages (from streamlit) (1.1)\n",
      "Requirement already satisfied: narwhals>=1.14.2 in /Users/federicaamedeo/opt/anaconda3/lib/python3.9/site-packages (from altair>=3.2.0->streamlit) (1.27.1)\n",
      "Requirement already satisfied: jsonschema>=3.0 in /Users/federicaamedeo/opt/anaconda3/lib/python3.9/site-packages (from altair>=3.2.0->streamlit) (3.2.0)\n",
      "Requirement already satisfied: jinja2 in /Users/federicaamedeo/opt/anaconda3/lib/python3.9/site-packages (from altair>=3.2.0->streamlit) (3.1.6)\n",
      "Requirement already satisfied: gitdb<5,>=4.0.1 in /Users/federicaamedeo/opt/anaconda3/lib/python3.9/site-packages (from gitpython!=3.1.19->streamlit) (4.0.12)\n",
      "Requirement already satisfied: smmap<6,>=3.0.1 in /Users/federicaamedeo/opt/anaconda3/lib/python3.9/site-packages (from gitdb<5,>=4.0.1->gitpython!=3.1.19->streamlit) (5.0.2)\n",
      "Requirement already satisfied: zipp>=0.5 in /Users/federicaamedeo/opt/anaconda3/lib/python3.9/site-packages (from importlib-metadata>=1.4->streamlit) (3.6.0)\n",
      "Requirement already satisfied: six>=1.11.0 in /Users/federicaamedeo/opt/anaconda3/lib/python3.9/site-packages (from jsonschema>=3.0->altair>=3.2.0->streamlit) (1.16.0)\n",
      "Requirement already satisfied: attrs>=17.4.0 in /Users/federicaamedeo/opt/anaconda3/lib/python3.9/site-packages (from jsonschema>=3.0->altair>=3.2.0->streamlit) (21.2.0)\n",
      "Requirement already satisfied: pyrsistent>=0.14.0 in /Users/federicaamedeo/opt/anaconda3/lib/python3.9/site-packages (from jsonschema>=3.0->altair>=3.2.0->streamlit) (0.18.0)\n",
      "Requirement already satisfied: setuptools in /Users/federicaamedeo/opt/anaconda3/lib/python3.9/site-packages (from jsonschema>=3.0->altair>=3.2.0->streamlit) (58.0.4)\n",
      "Requirement already satisfied: tzdata>=2022.7 in /Users/federicaamedeo/opt/anaconda3/lib/python3.9/site-packages (from pandas>=0.21.0->streamlit) (2023.4)\n",
      "Requirement already satisfied: pytz>=2020.1 in /Users/federicaamedeo/opt/anaconda3/lib/python3.9/site-packages (from pandas>=0.21.0->streamlit) (2021.3)\n",
      "Requirement already satisfied: MarkupSafe>=2.0 in /Users/federicaamedeo/opt/anaconda3/lib/python3.9/site-packages (from jinja2->altair>=3.2.0->streamlit) (3.0.2)\n",
      "Requirement already satisfied: urllib3<1.27,>=1.21.1 in /Users/federicaamedeo/opt/anaconda3/lib/python3.9/site-packages (from requests>=2.4->streamlit) (1.26.7)\n",
      "Requirement already satisfied: certifi>=2017.4.17 in /Users/federicaamedeo/opt/anaconda3/lib/python3.9/site-packages (from requests>=2.4->streamlit) (2021.10.8)\n",
      "Requirement already satisfied: charset-normalizer~=2.0.0 in /Users/federicaamedeo/opt/anaconda3/lib/python3.9/site-packages (from requests>=2.4->streamlit) (2.0.4)\n",
      "Requirement already satisfied: idna<4,>=2.5 in /Users/federicaamedeo/opt/anaconda3/lib/python3.9/site-packages (from requests>=2.4->streamlit) (3.2)\n",
      "Requirement already satisfied: pygments<3.0.0,>=2.13.0 in /Users/federicaamedeo/opt/anaconda3/lib/python3.9/site-packages (from rich>=10.11.0->streamlit) (2.19.1)\n",
      "Requirement already satisfied: markdown-it-py>=2.2.0 in /Users/federicaamedeo/opt/anaconda3/lib/python3.9/site-packages (from rich>=10.11.0->streamlit) (3.0.0)\n",
      "Requirement already satisfied: mdurl~=0.1 in /Users/federicaamedeo/opt/anaconda3/lib/python3.9/site-packages (from markdown-it-py>=2.2.0->rich>=10.11.0->streamlit) (0.1.2)\n",
      "Note: you may need to restart the kernel to use updated packages.\n"
     ]
    }
   ],
   "source": [
    "pip install streamlit"
   ]
  },
  {
   "cell_type": "code",
   "execution_count": 2,
   "id": "7846dc48",
   "metadata": {},
   "outputs": [
    {
     "name": "stdout",
     "output_type": "stream",
     "text": [
      "Requirement already satisfied: altair in /Users/federicaamedeo/opt/anaconda3/lib/python3.9/site-packages (5.5.0)\n",
      "Requirement already satisfied: packaging in /Users/federicaamedeo/opt/anaconda3/lib/python3.9/site-packages (from altair) (23.2)\n",
      "Requirement already satisfied: jinja2 in /Users/federicaamedeo/opt/anaconda3/lib/python3.9/site-packages (from altair) (3.1.6)\n",
      "Requirement already satisfied: jsonschema>=3.0 in /Users/federicaamedeo/opt/anaconda3/lib/python3.9/site-packages (from altair) (3.2.0)\n",
      "Requirement already satisfied: typing-extensions>=4.10.0 in /Users/federicaamedeo/opt/anaconda3/lib/python3.9/site-packages (from altair) (4.12.2)\n",
      "Requirement already satisfied: narwhals>=1.14.2 in /Users/federicaamedeo/opt/anaconda3/lib/python3.9/site-packages (from altair) (1.27.1)\n",
      "Requirement already satisfied: setuptools in /Users/federicaamedeo/opt/anaconda3/lib/python3.9/site-packages (from jsonschema>=3.0->altair) (58.0.4)\n",
      "Requirement already satisfied: pyrsistent>=0.14.0 in /Users/federicaamedeo/opt/anaconda3/lib/python3.9/site-packages (from jsonschema>=3.0->altair) (0.18.0)\n",
      "Requirement already satisfied: attrs>=17.4.0 in /Users/federicaamedeo/opt/anaconda3/lib/python3.9/site-packages (from jsonschema>=3.0->altair) (21.2.0)\n",
      "Requirement already satisfied: six>=1.11.0 in /Users/federicaamedeo/opt/anaconda3/lib/python3.9/site-packages (from jsonschema>=3.0->altair) (1.16.0)\n",
      "Requirement already satisfied: MarkupSafe>=2.0 in /Users/federicaamedeo/opt/anaconda3/lib/python3.9/site-packages (from jinja2->altair) (3.0.2)\n",
      "Note: you may need to restart the kernel to use updated packages.\n"
     ]
    }
   ],
   "source": [
    "pip install altair"
   ]
  },
  {
   "cell_type": "code",
   "execution_count": 6,
   "id": "06ce0052",
   "metadata": {},
   "outputs": [
    {
     "ename": "ModuleNotFoundError",
     "evalue": "No module named 'altair.vegalite.v4'",
     "output_type": "error",
     "traceback": [
      "\u001b[0;31m---------------------------------------------------------------------------\u001b[0m",
      "\u001b[0;31mModuleNotFoundError\u001b[0m                       Traceback (most recent call last)",
      "\u001b[0;32m/var/folders/f5/kfhjr6d55t3f6fpgzj_trt340000gn/T/ipykernel_29725/942006150.py\u001b[0m in \u001b[0;36m<module>\u001b[0;34m\u001b[0m\n\u001b[0;32m----> 1\u001b[0;31m \u001b[0;32mimport\u001b[0m \u001b[0mstreamlit\u001b[0m \u001b[0;32mas\u001b[0m \u001b[0mst\u001b[0m\u001b[0;34m\u001b[0m\u001b[0;34m\u001b[0m\u001b[0m\n\u001b[0m",
      "\u001b[0;32m~/opt/anaconda3/lib/python3.9/site-packages/streamlit/__init__.py\u001b[0m in \u001b[0;36m<module>\u001b[0;34m\u001b[0m\n\u001b[1;32m     68\u001b[0m \u001b[0;32mfrom\u001b[0m \u001b[0mstreamlit\u001b[0m \u001b[0;32mimport\u001b[0m \u001b[0msource_util\u001b[0m \u001b[0;32mas\u001b[0m \u001b[0m_source_util\u001b[0m\u001b[0;34m\u001b[0m\u001b[0;34m\u001b[0m\u001b[0m\n\u001b[1;32m     69\u001b[0m \u001b[0;32mfrom\u001b[0m \u001b[0mstreamlit\u001b[0m \u001b[0;32mimport\u001b[0m \u001b[0mstring_util\u001b[0m \u001b[0;32mas\u001b[0m \u001b[0m_string_util\u001b[0m\u001b[0;34m\u001b[0m\u001b[0;34m\u001b[0m\u001b[0m\n\u001b[0;32m---> 70\u001b[0;31m \u001b[0;32mfrom\u001b[0m \u001b[0mstreamlit\u001b[0m\u001b[0;34m.\u001b[0m\u001b[0mdelta_generator\u001b[0m \u001b[0;32mimport\u001b[0m \u001b[0mDeltaGenerator\u001b[0m \u001b[0;32mas\u001b[0m \u001b[0m_DeltaGenerator\u001b[0m\u001b[0;34m\u001b[0m\u001b[0;34m\u001b[0m\u001b[0m\n\u001b[0m\u001b[1;32m     71\u001b[0m from streamlit.runtime.scriptrunner import (\n\u001b[1;32m     72\u001b[0m     \u001b[0madd_script_run_ctx\u001b[0m \u001b[0;32mas\u001b[0m \u001b[0m_add_script_run_ctx\u001b[0m\u001b[0;34m,\u001b[0m\u001b[0;34m\u001b[0m\u001b[0;34m\u001b[0m\u001b[0m\n",
      "\u001b[0;32m~/opt/anaconda3/lib/python3.9/site-packages/streamlit/delta_generator.py\u001b[0m in \u001b[0;36m<module>\u001b[0;34m\u001b[0m\n\u001b[1;32m     88\u001b[0m \u001b[0;31m# We select between them with the DataFrameElementSelectorMixin.\u001b[0m\u001b[0;34m\u001b[0m\u001b[0;34m\u001b[0m\u001b[0m\n\u001b[1;32m     89\u001b[0m \u001b[0;32mfrom\u001b[0m \u001b[0mstreamlit\u001b[0m\u001b[0;34m.\u001b[0m\u001b[0melements\u001b[0m\u001b[0;34m.\u001b[0m\u001b[0marrow\u001b[0m \u001b[0;32mimport\u001b[0m \u001b[0mArrowMixin\u001b[0m\u001b[0;34m\u001b[0m\u001b[0;34m\u001b[0m\u001b[0m\n\u001b[0;32m---> 90\u001b[0;31m \u001b[0;32mfrom\u001b[0m \u001b[0mstreamlit\u001b[0m\u001b[0;34m.\u001b[0m\u001b[0melements\u001b[0m\u001b[0;34m.\u001b[0m\u001b[0marrow_altair\u001b[0m \u001b[0;32mimport\u001b[0m \u001b[0mArrowAltairMixin\u001b[0m\u001b[0;34m\u001b[0m\u001b[0;34m\u001b[0m\u001b[0m\n\u001b[0m\u001b[1;32m     91\u001b[0m \u001b[0;32mfrom\u001b[0m \u001b[0mstreamlit\u001b[0m\u001b[0;34m.\u001b[0m\u001b[0melements\u001b[0m\u001b[0;34m.\u001b[0m\u001b[0marrow_vega_lite\u001b[0m \u001b[0;32mimport\u001b[0m \u001b[0mArrowVegaLiteMixin\u001b[0m\u001b[0;34m\u001b[0m\u001b[0;34m\u001b[0m\u001b[0m\n\u001b[1;32m     92\u001b[0m \u001b[0;32mfrom\u001b[0m \u001b[0mstreamlit\u001b[0m\u001b[0;34m.\u001b[0m\u001b[0melements\u001b[0m\u001b[0;34m.\u001b[0m\u001b[0mlegacy_data_frame\u001b[0m \u001b[0;32mimport\u001b[0m \u001b[0mLegacyDataFrameMixin\u001b[0m\u001b[0;34m\u001b[0m\u001b[0;34m\u001b[0m\u001b[0m\n",
      "\u001b[0;32m~/opt/anaconda3/lib/python3.9/site-packages/streamlit/elements/arrow_altair.py\u001b[0m in \u001b[0;36m<module>\u001b[0;34m\u001b[0m\n\u001b[1;32m     33\u001b[0m \u001b[0;32mimport\u001b[0m \u001b[0maltair\u001b[0m \u001b[0;32mas\u001b[0m \u001b[0malt\u001b[0m\u001b[0;34m\u001b[0m\u001b[0;34m\u001b[0m\u001b[0m\n\u001b[1;32m     34\u001b[0m \u001b[0;32mimport\u001b[0m \u001b[0mpandas\u001b[0m \u001b[0;32mas\u001b[0m \u001b[0mpd\u001b[0m\u001b[0;34m\u001b[0m\u001b[0;34m\u001b[0m\u001b[0m\n\u001b[0;32m---> 35\u001b[0;31m \u001b[0;32mfrom\u001b[0m \u001b[0maltair\u001b[0m\u001b[0;34m.\u001b[0m\u001b[0mvegalite\u001b[0m\u001b[0;34m.\u001b[0m\u001b[0mv4\u001b[0m\u001b[0;34m.\u001b[0m\u001b[0mapi\u001b[0m \u001b[0;32mimport\u001b[0m \u001b[0mChart\u001b[0m\u001b[0;34m\u001b[0m\u001b[0;34m\u001b[0m\u001b[0m\n\u001b[0m\u001b[1;32m     36\u001b[0m \u001b[0;32mfrom\u001b[0m \u001b[0mpandas\u001b[0m\u001b[0;34m.\u001b[0m\u001b[0mapi\u001b[0m\u001b[0;34m.\u001b[0m\u001b[0mtypes\u001b[0m \u001b[0;32mimport\u001b[0m \u001b[0minfer_dtype\u001b[0m\u001b[0;34m\u001b[0m\u001b[0;34m\u001b[0m\u001b[0m\n\u001b[1;32m     37\u001b[0m \u001b[0;34m\u001b[0m\u001b[0m\n",
      "\u001b[0;31mModuleNotFoundError\u001b[0m: No module named 'altair.vegalite.v4'"
     ]
    }
   ],
   "source": [
    "import streamlit as st"
   ]
  },
  {
   "cell_type": "code",
   "execution_count": 4,
   "id": "7620c463",
   "metadata": {},
   "outputs": [
    {
     "name": "stdout",
     "output_type": "stream",
     "text": [
      "Requirement already satisfied: altair>=4.0.0 in /Users/federicaamedeo/opt/anaconda3/lib/python3.9/site-packages (5.5.0)\n",
      "Requirement already satisfied: jsonschema>=3.0 in /Users/federicaamedeo/opt/anaconda3/lib/python3.9/site-packages (from altair>=4.0.0) (3.2.0)\n",
      "Requirement already satisfied: packaging in /Users/federicaamedeo/opt/anaconda3/lib/python3.9/site-packages (from altair>=4.0.0) (23.2)\n",
      "Requirement already satisfied: jinja2 in /Users/federicaamedeo/opt/anaconda3/lib/python3.9/site-packages (from altair>=4.0.0) (3.1.6)\n",
      "Requirement already satisfied: narwhals>=1.14.2 in /Users/federicaamedeo/opt/anaconda3/lib/python3.9/site-packages (from altair>=4.0.0) (1.27.1)\n",
      "Requirement already satisfied: typing-extensions>=4.10.0 in /Users/federicaamedeo/opt/anaconda3/lib/python3.9/site-packages (from altair>=4.0.0) (4.12.2)\n",
      "Requirement already satisfied: setuptools in /Users/federicaamedeo/opt/anaconda3/lib/python3.9/site-packages (from jsonschema>=3.0->altair>=4.0.0) (58.0.4)\n",
      "Requirement already satisfied: pyrsistent>=0.14.0 in /Users/federicaamedeo/opt/anaconda3/lib/python3.9/site-packages (from jsonschema>=3.0->altair>=4.0.0) (0.18.0)\n",
      "Requirement already satisfied: six>=1.11.0 in /Users/federicaamedeo/opt/anaconda3/lib/python3.9/site-packages (from jsonschema>=3.0->altair>=4.0.0) (1.16.0)\n",
      "Requirement already satisfied: attrs>=17.4.0 in /Users/federicaamedeo/opt/anaconda3/lib/python3.9/site-packages (from jsonschema>=3.0->altair>=4.0.0) (21.2.0)\n",
      "Requirement already satisfied: MarkupSafe>=2.0 in /Users/federicaamedeo/opt/anaconda3/lib/python3.9/site-packages (from jinja2->altair>=4.0.0) (3.0.2)\n",
      "Note: you may need to restart the kernel to use updated packages.\n"
     ]
    }
   ],
   "source": [
    "pip install \"altair>=4.0.0\""
   ]
  },
  {
   "cell_type": "code",
   "execution_count": 5,
   "id": "7422a382",
   "metadata": {},
   "outputs": [
    {
     "ename": "SyntaxError",
     "evalue": "invalid syntax (3737097518.py, line 1)",
     "output_type": "error",
     "traceback": [
      "\u001b[0;36m  File \u001b[0;32m\"/var/folders/f5/kfhjr6d55t3f6fpgzj_trt340000gn/T/ipykernel_29725/3737097518.py\"\u001b[0;36m, line \u001b[0;32m1\u001b[0m\n\u001b[0;31m    streamlit run app.py\u001b[0m\n\u001b[0m              ^\u001b[0m\n\u001b[0;31mSyntaxError\u001b[0m\u001b[0;31m:\u001b[0m invalid syntax\n"
     ]
    }
   ],
   "source": [
    "streamlit run app.py"
   ]
  },
  {
   "cell_type": "code",
   "execution_count": null,
   "id": "fb1e77be",
   "metadata": {},
   "outputs": [],
   "source": []
  }
 ],
 "metadata": {
  "kernelspec": {
   "display_name": "base",
   "language": "python",
   "name": "python3"
  },
  "language_info": {
   "codemirror_mode": {
    "name": "ipython",
    "version": 3
   },
   "file_extension": ".py",
   "mimetype": "text/x-python",
   "name": "python",
   "nbconvert_exporter": "python",
   "pygments_lexer": "ipython3",
   "version": "3.9.7"
  }
 },
 "nbformat": 4,
 "nbformat_minor": 5
}
