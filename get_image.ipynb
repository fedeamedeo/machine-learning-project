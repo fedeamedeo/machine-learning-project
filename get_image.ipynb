{
 "cells": [
  {
   "cell_type": "code",
   "execution_count": null,
   "id": "b6984b1e",
   "metadata": {},
   "outputs": [
    {
     "name": "stdout",
     "output_type": "stream",
     "text": [
      "✅ Custom cover URLs added.\n"
     ]
    }
   ],
   "source": [
    "import requests\n",
    "\n",
    "def get_google_books_cover(isbn):\n",
    "    try:\n",
    "        url = f\"https://www.googleapis.com/books/v1/volumes?q=isbn:{isbn}\"\n",
    "        response = requests.get(url)\n",
    "        data = response.json()\n",
    "        return data['items'][0]['volumeInfo']['imageLinks']['thumbnail']\n",
    "    except:\n",
    "        return \"https://via.placeholder.com/128x195.png?text=No+Cover\"\n",
    "\n",
    "df[\"cover_url\"] = df[\"i\"].apply(generate_custom_url)\n",
    "\n",
    "df.to_csv(\"items_improved_image1.csv\", index=False)\n",
    "print(\"✅ Custom cover URLs added.\")\n"
   ]
  },
  {
   "cell_type": "code",
   "execution_count": null,
   "id": "7677551a",
   "metadata": {},
   "outputs": [],
   "source": []
  }
 ],
 "metadata": {
  "kernelspec": {
   "display_name": "base",
   "language": "python",
   "name": "python3"
  },
  "language_info": {
   "codemirror_mode": {
    "name": "ipython",
    "version": 3
   },
   "file_extension": ".py",
   "mimetype": "text/x-python",
   "name": "python",
   "nbconvert_exporter": "python",
   "pygments_lexer": "ipython3",
   "version": "3.9.7"
  }
 },
 "nbformat": 4,
 "nbformat_minor": 5
}
