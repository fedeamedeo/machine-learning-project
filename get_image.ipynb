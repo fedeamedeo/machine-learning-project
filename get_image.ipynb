{
 "cells": [
  {
   "cell_type": "code",
   "execution_count": 19,
   "id": "b6984b1e",
   "metadata": {},
   "outputs": [
    {
     "name": "stdout",
     "output_type": "stream",
     "text": [
      "✅ cover_url and link columns added and file saved.\n"
     ]
    }
   ],
   "source": [
    "import pandas as pd\n",
    "import numpy as np  # Import NumPy to fix the error\n",
    "\n",
    "# Load your dataset\n",
    "df = pd.read_csv(\"final_items.csv\")\n",
    "df['Author'] = df['Author'].replace('Unknown Author', np.nan)\n",
    "df['ISBN Valid'] =df[\"ISBN Valid\"].replace('Not Available', np.nan)\n",
    "df['Publisher'] = df['Publisher'].replace('Unknown Publisher', np.nan)\n",
    "df['Subject'] = df['Title'].replace('Uncategorized', np.nan)\n",
    "\n",
    "df.dropna(inplace=True)\n",
    "\n",
    "\n",
    "# Generate cover URL from first valid ISBN\n",
    "def generate_cover_url(isbn_str):\n",
    "    if pd.isna(isbn_str):\n",
    "        return \"\"\n",
    "    isbn_list = [isbn.strip() for isbn in str(isbn_str).split(\";\") if isbn.strip().isdigit()]\n",
    "    if not isbn_list:\n",
    "        return \"\"\n",
    "    return f\"https://covers.openlibrary.org/b/isbn/{isbn_list[0]}-L.jpg\"\n",
    "\n",
    "# Generate Google search link from book title\n",
    "def generate_search_link(title):\n",
    "    if pd.isna(title):\n",
    "        return \"\"\n",
    "    query = \"+\".join(str(title).split())\n",
    "    return f\"https://www.google.com/search?q={query}+book\"\n",
    "\n",
    "# Apply transformations\n",
    "df[\"cover_url\"] = df[\"ISBN Valid\"].apply(generate_cover_url)\n",
    "df[\"link\"] = df[\"Title\"].apply(generate_search_link)\n",
    "\n",
    "# Save updated dataset\n",
    "df.to_csv(\"items_improved_image2.csv\", index=False)\n",
    "\n",
    "print(\"✅ cover_url and link columns added and file saved.\")\n"
   ]
  },
  {
   "cell_type": "code",
   "execution_count": 20,
   "id": "7677551a",
   "metadata": {},
   "outputs": [
    {
     "data": {
      "text/plain": [
       "i                 0\n",
       "Title             0\n",
       "Author            0\n",
       "ISBN Valid        0\n",
       "Publisher         0\n",
       "Subjects          0\n",
       "content           0\n",
       "clean_text_min    0\n",
       "popularity        0\n",
       "Subject           0\n",
       "cover_url         0\n",
       "link              0\n",
       "dtype: int64"
      ]
     },
     "execution_count": 20,
     "metadata": {},
     "output_type": "execute_result"
    }
   ],
   "source": [
    "df.isna().sum()"
   ]
  },
  {
   "cell_type": "code",
   "execution_count": null,
   "id": "8130cda1",
   "metadata": {},
   "outputs": [],
   "source": []
  }
 ],
 "metadata": {
  "kernelspec": {
   "display_name": "base",
   "language": "python",
   "name": "python3"
  },
  "language_info": {
   "codemirror_mode": {
    "name": "ipython",
    "version": 3
   },
   "file_extension": ".py",
   "mimetype": "text/x-python",
   "name": "python",
   "nbconvert_exporter": "python",
   "pygments_lexer": "ipython3",
   "version": "3.9.7"
  }
 },
 "nbformat": 4,
 "nbformat_minor": 5
}
