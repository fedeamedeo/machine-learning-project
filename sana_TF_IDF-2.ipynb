{
  "nbformat": 4,
  "nbformat_minor": 0,
  "metadata": {
    "colab": {
      "provenance": []
    },
    "kernelspec": {
      "name": "python3",
      "display_name": "Python 3"
    },
    "language_info": {
      "name": "python"
    }
  },
  "cells": [
    {
      "cell_type": "code",
      "execution_count": 32,
      "metadata": {
        "id": "H68jI8JhkmZz"
      },
      "outputs": [],
      "source": [
        "import numpy as np\n",
        "import pandas as pd\n",
        "import sklearn\n",
        "from sklearn.metrics.pairwise import cosine_similarity"
      ]
    },
    {
      "cell_type": "code",
      "source": [
        "filepath='https://raw.githubusercontent.com/fedeamedeo/machine-learning-project/main/Data/'\n",
        "interactions = pd.read_csv(filepath + 'interactions_train.csv')\n",
        "filepath='https://raw.githubusercontent.com/fedeamedeo/machine-learning-project/main/'\n",
        "items= pd.read_csv(filepath+'items_improved.csv')"
      ],
      "metadata": {
        "id": "c2ndutNCk3Xw"
      },
      "execution_count": 33,
      "outputs": []
    },
    {
      "cell_type": "code",
      "source": [
        "# Load book metadata\n",
        "items['content'] = items['Title'].fillna('') + ' ' + \\\n",
        "                   items['Author'].fillna('') + ' ' + \\\n",
        "                   items['Subjects'].fillna('') + ' ' + \\\n",
        "                   items['Publisher'].fillna('')"
      ],
      "metadata": {
        "id": "OrWoRsgok-QY"
      },
      "execution_count": 34,
      "outputs": []
    },
    {
      "cell_type": "code",
      "source": [
        "#minimal pre-processing\n",
        "def clean_minimal(text):\n",
        "    return re.sub(r\"[^\\w\\s]\", \" \", str(text).lower())"
      ],
      "metadata": {
        "id": "1akoYuuVrLQO"
      },
      "execution_count": 35,
      "outputs": []
    },
    {
      "cell_type": "code",
      "source": [
        "items[\"clean_text_min\"] = items[\"content\"].fillna(\"\").apply(clean_minimal)"
      ],
      "metadata": {
        "id": "8vdBiKIKrO9P"
      },
      "execution_count": 36,
      "outputs": []
    },
    {
      "cell_type": "code",
      "source": [
        "# Add popularity boost\n",
        "item_popularity = interactions['i'].value_counts(normalize=True)\n",
        "items['popularity'] = items['i'].map(item_popularity).fillna(0)"
      ],
      "metadata": {
        "id": "P1QQKXA2n8ga"
      },
      "execution_count": 37,
      "outputs": []
    },
    {
      "cell_type": "code",
      "source": [
        "from sklearn.feature_extraction.text import TfidfVectorizer\n",
        "from nltk.corpus import stopwords\n",
        "\n",
        "# Download French stopwords if not already\n",
        "import nltk\n",
        "nltk.download('stopwords')\n",
        "\n",
        "# Load French stopwords as a list\n",
        "french_stopwords = stopwords.words('french')\n",
        "vectorizer = TfidfVectorizer(stop_words=french_stopwords, max_features=1000000, sublinear_tf=True, ngram_range=(1, 2))\n",
        "tfidf_matrix = vectorizer.fit_transform(items['clean_text_min'])"
      ],
      "metadata": {
        "colab": {
          "base_uri": "https://localhost:8080/"
        },
        "id": "Z6KtQ06ilDXK",
        "outputId": "1d543e46-3178-4167-bfbd-7279f3df0724"
      },
      "execution_count": 38,
      "outputs": [
        {
          "output_type": "stream",
          "name": "stderr",
          "text": [
            "[nltk_data] Downloading package stopwords to /root/nltk_data...\n",
            "[nltk_data]   Package stopwords is already up-to-date!\n"
          ]
        }
      ]
    },
    {
      "cell_type": "code",
      "source": [
        "from scipy.sparse import csr_matrix\n",
        "\n",
        "# Merge interactions and items to match on 'i'\n",
        "merged = interactions.merge(items[['i']], on='i')\n",
        "\n",
        "# Create a user profile: mean of TF-IDF vectors of books they've interacted with\n",
        "user_profiles = {}\n",
        "for user_id, group in merged.groupby('u'):\n",
        "    indices = group['i'].values\n",
        "    profile = tfidf_matrix[indices].mean(axis=0).A1\n",
        "    user_profiles[user_id] = profile"
      ],
      "metadata": {
        "id": "NA1lMasjlFoP"
      },
      "execution_count": 39,
      "outputs": []
    },
    {
      "cell_type": "code",
      "source": [
        "from sklearn.metrics.pairwise import cosine_similarity\n",
        "import numpy as np\n",
        "\n",
        "recommendations = []\n",
        "\n",
        "for user_id, profile in user_profiles.items():\n",
        "    # Reshape profile to ensure compatibility with tfidf_matrix\n",
        "    sims = cosine_similarity(profile.reshape(1, -1), tfidf_matrix).flatten()\n",
        "    boosted_sims = sims + 0.01 * items['popularity'].values\n",
        "    top_indices = np.argsort(-boosted_sims)[:10]\n",
        "    #top_indices = np.argsort(-sims)[:10]  # top 10\n",
        "    book_ids = items.iloc[top_indices]['i'].tolist()\n",
        "    recommendations.append((user_id, book_ids))"
      ],
      "metadata": {
        "id": "aEGASq3JlHtz"
      },
      "execution_count": 40,
      "outputs": []
    },
    {
      "cell_type": "code",
      "source": [
        "import csv\n",
        "\n",
        "with open(\"tf_idf.csv\", \"w\", newline=\"\") as f:\n",
        "    writer = csv.writer(f)\n",
        "    writer.writerow([\"user_id\", \"recommendation\"])\n",
        "    for user_id, book_ids in recommendations:\n",
        "        writer.writerow([user_id, \" \".join(map(str, book_ids))])"
      ],
      "metadata": {
        "id": "2FI_3kaClK8k"
      },
      "execution_count": 41,
      "outputs": []
    },
    {
      "cell_type": "code",
      "source": [
        "from google.colab import files\n",
        "files.download('tf_idf.csv')"
      ],
      "metadata": {
        "colab": {
          "base_uri": "https://localhost:8080/",
          "height": 17
        },
        "id": "Tt_qI_lxlPSw",
        "outputId": "71d979bd-7af2-4436-bf83-f83a62ae1510"
      },
      "execution_count": 42,
      "outputs": [
        {
          "output_type": "display_data",
          "data": {
            "text/plain": [
              "<IPython.core.display.Javascript object>"
            ],
            "application/javascript": [
              "\n",
              "    async function download(id, filename, size) {\n",
              "      if (!google.colab.kernel.accessAllowed) {\n",
              "        return;\n",
              "      }\n",
              "      const div = document.createElement('div');\n",
              "      const label = document.createElement('label');\n",
              "      label.textContent = `Downloading \"${filename}\": `;\n",
              "      div.appendChild(label);\n",
              "      const progress = document.createElement('progress');\n",
              "      progress.max = size;\n",
              "      div.appendChild(progress);\n",
              "      document.body.appendChild(div);\n",
              "\n",
              "      const buffers = [];\n",
              "      let downloaded = 0;\n",
              "\n",
              "      const channel = await google.colab.kernel.comms.open(id);\n",
              "      // Send a message to notify the kernel that we're ready.\n",
              "      channel.send({})\n",
              "\n",
              "      for await (const message of channel.messages) {\n",
              "        // Send a message to notify the kernel that we're ready.\n",
              "        channel.send({})\n",
              "        if (message.buffers) {\n",
              "          for (const buffer of message.buffers) {\n",
              "            buffers.push(buffer);\n",
              "            downloaded += buffer.byteLength;\n",
              "            progress.value = downloaded;\n",
              "          }\n",
              "        }\n",
              "      }\n",
              "      const blob = new Blob(buffers, {type: 'application/binary'});\n",
              "      const a = document.createElement('a');\n",
              "      a.href = window.URL.createObjectURL(blob);\n",
              "      a.download = filename;\n",
              "      div.appendChild(a);\n",
              "      a.click();\n",
              "      div.remove();\n",
              "    }\n",
              "  "
            ]
          },
          "metadata": {}
        },
        {
          "output_type": "display_data",
          "data": {
            "text/plain": [
              "<IPython.core.display.Javascript object>"
            ],
            "application/javascript": [
              "download(\"download_d7e3bc19-10b5-4242-8daf-c94c25d8a479\", \"tf_idf.csv\", 457501)"
            ]
          },
          "metadata": {}
        }
      ]
    }
  ]
}