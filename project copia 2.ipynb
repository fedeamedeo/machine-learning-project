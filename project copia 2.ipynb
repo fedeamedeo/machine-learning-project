{
 "cells": [
  {
   "cell_type": "code",
   "execution_count": 1,
   "id": "ec1a2c4b",
   "metadata": {},
   "outputs": [],
   "source": [
    "import numpy as np\n",
    "import pandas as pd\n",
    "import sklearn\n",
    "from sklearn.metrics.pairwise import cosine_similarity\n"
   ]
  },
  {
   "cell_type": "code",
   "execution_count": 2,
   "id": "549ab2ab",
   "metadata": {},
   "outputs": [],
   "source": [
    "# Correct file paths for loading CSV files from GitHub\n",
    "filepath = 'https://raw.githubusercontent.com/fedeamedeo/machine-learning-project/main/Data/'\n",
    "interactions = pd.read_csv(filepath + 'interactions_train.csv')\n",
    "items = pd.read_csv(filepath + 'items.csv')"
   ]
  },
  {
   "cell_type": "code",
   "execution_count": 3,
   "id": "36834de3",
   "metadata": {},
   "outputs": [
    {
     "data": {
      "text/html": [
       "<div>\n",
       "<style scoped>\n",
       "    .dataframe tbody tr th:only-of-type {\n",
       "        vertical-align: middle;\n",
       "    }\n",
       "\n",
       "    .dataframe tbody tr th {\n",
       "        vertical-align: top;\n",
       "    }\n",
       "\n",
       "    .dataframe thead th {\n",
       "        text-align: right;\n",
       "    }\n",
       "</style>\n",
       "<table border=\"1\" class=\"dataframe\">\n",
       "  <thead>\n",
       "    <tr style=\"text-align: right;\">\n",
       "      <th></th>\n",
       "      <th>u</th>\n",
       "      <th>i</th>\n",
       "      <th>t</th>\n",
       "    </tr>\n",
       "  </thead>\n",
       "  <tbody>\n",
       "    <tr>\n",
       "      <th>0</th>\n",
       "      <td>4456</td>\n",
       "      <td>8581</td>\n",
       "      <td>1.687541e+09</td>\n",
       "    </tr>\n",
       "    <tr>\n",
       "      <th>1</th>\n",
       "      <td>142</td>\n",
       "      <td>1964</td>\n",
       "      <td>1.679585e+09</td>\n",
       "    </tr>\n",
       "    <tr>\n",
       "      <th>2</th>\n",
       "      <td>362</td>\n",
       "      <td>3705</td>\n",
       "      <td>1.706872e+09</td>\n",
       "    </tr>\n",
       "    <tr>\n",
       "      <th>3</th>\n",
       "      <td>1809</td>\n",
       "      <td>11317</td>\n",
       "      <td>1.673533e+09</td>\n",
       "    </tr>\n",
       "    <tr>\n",
       "      <th>4</th>\n",
       "      <td>4384</td>\n",
       "      <td>1323</td>\n",
       "      <td>1.681402e+09</td>\n",
       "    </tr>\n",
       "    <tr>\n",
       "      <th>...</th>\n",
       "      <td>...</td>\n",
       "      <td>...</td>\n",
       "      <td>...</td>\n",
       "    </tr>\n",
       "    <tr>\n",
       "      <th>87042</th>\n",
       "      <td>924</td>\n",
       "      <td>8171</td>\n",
       "      <td>1.699284e+09</td>\n",
       "    </tr>\n",
       "    <tr>\n",
       "      <th>87043</th>\n",
       "      <td>1106</td>\n",
       "      <td>9009</td>\n",
       "      <td>1.699872e+09</td>\n",
       "    </tr>\n",
       "    <tr>\n",
       "      <th>87044</th>\n",
       "      <td>5207</td>\n",
       "      <td>13400</td>\n",
       "      <td>1.683627e+09</td>\n",
       "    </tr>\n",
       "    <tr>\n",
       "      <th>87045</th>\n",
       "      <td>698</td>\n",
       "      <td>5779</td>\n",
       "      <td>1.686667e+09</td>\n",
       "    </tr>\n",
       "    <tr>\n",
       "      <th>87046</th>\n",
       "      <td>3111</td>\n",
       "      <td>7988</td>\n",
       "      <td>1.681743e+09</td>\n",
       "    </tr>\n",
       "  </tbody>\n",
       "</table>\n",
       "<p>87047 rows × 3 columns</p>\n",
       "</div>"
      ],
      "text/plain": [
       "          u      i             t\n",
       "0      4456   8581  1.687541e+09\n",
       "1       142   1964  1.679585e+09\n",
       "2       362   3705  1.706872e+09\n",
       "3      1809  11317  1.673533e+09\n",
       "4      4384   1323  1.681402e+09\n",
       "...     ...    ...           ...\n",
       "87042   924   8171  1.699284e+09\n",
       "87043  1106   9009  1.699872e+09\n",
       "87044  5207  13400  1.683627e+09\n",
       "87045   698   5779  1.686667e+09\n",
       "87046  3111   7988  1.681743e+09\n",
       "\n",
       "[87047 rows x 3 columns]"
      ]
     },
     "execution_count": 3,
     "metadata": {},
     "output_type": "execute_result"
    }
   ],
   "source": [
    "interactions"
   ]
  },
  {
   "cell_type": "code",
   "execution_count": 105,
   "id": "b8314d01",
   "metadata": {},
   "outputs": [
    {
     "name": "stdout",
     "output_type": "stream",
     "text": [
      "Number of duplicate rows in interactions: 2\n",
      "Duplicate rows:\n",
      "          u      i             t\n",
      "6103   7210  12290  1.718023e+09\n",
      "44025  1323  10037  1.700055e+09\n"
     ]
    }
   ],
   "source": [
    "# Check for duplicates in the interactions DataFrame\n",
    "duplicates = interactions.duplicated()\n",
    "\n",
    "# Count the number of duplicate rows\n",
    "num_duplicates = duplicates.sum()\n",
    "print(f\"Number of duplicate rows in interactions: {num_duplicates}\")\n",
    "\n",
    "# Display the duplicate rows if any\n",
    "if num_duplicates > 0:\n",
    "    print(\"Duplicate rows:\")\n",
    "    print(interactions[duplicates])"
   ]
  },
  {
   "cell_type": "code",
   "execution_count": 106,
   "id": "eed5c41e",
   "metadata": {},
   "outputs": [
    {
     "name": "stdout",
     "output_type": "stream",
     "text": [
      "Shape after dropping duplicates: (87045, 3)\n"
     ]
    }
   ],
   "source": [
    "# Drop duplicate rows from the interactions DataFrame\n",
    "interactions = interactions.drop_duplicates()\n",
    "\n",
    "# Verify the shape after dropping duplicates\n",
    "print(f\"Shape after dropping duplicates: {interactions.shape}\")"
   ]
  },
  {
   "cell_type": "code",
   "execution_count": null,
   "id": "1b0469c6",
   "metadata": {},
   "outputs": [],
   "source": []
  },
  {
   "cell_type": "code",
   "execution_count": 107,
   "id": "fcfbc0f7",
   "metadata": {
    "vscode": {
     "languageId": "markdown"
    }
   },
   "outputs": [
    {
     "name": "stdout",
     "output_type": "stream",
     "text": [
      "Basic Statistics:\n",
      "Number of unique users: 7838\n",
      "Number of unique items: 15109\n"
     ]
    },
    {
     "ename": "KeyError",
     "evalue": "'datetime'",
     "output_type": "error",
     "traceback": [
      "\u001b[0;31m---------------------------------------------------------------------------\u001b[0m",
      "\u001b[0;31mKeyError\u001b[0m                                  Traceback (most recent call last)",
      "\u001b[0;32m~/opt/anaconda3/lib/python3.9/site-packages/pandas/core/indexes/base.py\u001b[0m in \u001b[0;36mget_loc\u001b[0;34m(self, key)\u001b[0m\n\u001b[1;32m   3801\u001b[0m         \u001b[0;32mtry\u001b[0m\u001b[0;34m:\u001b[0m\u001b[0;34m\u001b[0m\u001b[0;34m\u001b[0m\u001b[0m\n\u001b[0;32m-> 3802\u001b[0;31m             \u001b[0;32mreturn\u001b[0m \u001b[0mself\u001b[0m\u001b[0;34m.\u001b[0m\u001b[0m_engine\u001b[0m\u001b[0;34m.\u001b[0m\u001b[0mget_loc\u001b[0m\u001b[0;34m(\u001b[0m\u001b[0mcasted_key\u001b[0m\u001b[0;34m)\u001b[0m\u001b[0;34m\u001b[0m\u001b[0;34m\u001b[0m\u001b[0m\n\u001b[0m\u001b[1;32m   3803\u001b[0m         \u001b[0;32mexcept\u001b[0m \u001b[0mKeyError\u001b[0m \u001b[0;32mas\u001b[0m \u001b[0merr\u001b[0m\u001b[0;34m:\u001b[0m\u001b[0;34m\u001b[0m\u001b[0;34m\u001b[0m\u001b[0m\n",
      "\u001b[0;32mindex.pyx\u001b[0m in \u001b[0;36mpandas._libs.index.IndexEngine.get_loc\u001b[0;34m()\u001b[0m\n",
      "\u001b[0;32mindex.pyx\u001b[0m in \u001b[0;36mpandas._libs.index.IndexEngine.get_loc\u001b[0;34m()\u001b[0m\n",
      "\u001b[0;32mpandas/_libs/hashtable_class_helper.pxi\u001b[0m in \u001b[0;36mpandas._libs.hashtable.PyObjectHashTable.get_item\u001b[0;34m()\u001b[0m\n",
      "\u001b[0;32mpandas/_libs/hashtable_class_helper.pxi\u001b[0m in \u001b[0;36mpandas._libs.hashtable.PyObjectHashTable.get_item\u001b[0;34m()\u001b[0m\n",
      "\u001b[0;31mKeyError\u001b[0m: 'datetime'",
      "\nThe above exception was the direct cause of the following exception:\n",
      "\u001b[0;31mKeyError\u001b[0m                                  Traceback (most recent call last)",
      "\u001b[0;32m/var/folders/f5/kfhjr6d55t3f6fpgzj_trt340000gn/T/ipykernel_6154/2869429966.py\u001b[0m in \u001b[0;36m<module>\u001b[0;34m\u001b[0m\n\u001b[1;32m      5\u001b[0m \u001b[0mprint\u001b[0m\u001b[0;34m(\u001b[0m\u001b[0;34mf\"Number of unique users: {interactions['u'].nunique()}\"\u001b[0m\u001b[0;34m)\u001b[0m\u001b[0;34m\u001b[0m\u001b[0;34m\u001b[0m\u001b[0m\n\u001b[1;32m      6\u001b[0m \u001b[0mprint\u001b[0m\u001b[0;34m(\u001b[0m\u001b[0;34mf\"Number of unique items: {interactions['i'].nunique()}\"\u001b[0m\u001b[0;34m)\u001b[0m\u001b[0;34m\u001b[0m\u001b[0;34m\u001b[0m\u001b[0m\n\u001b[0;32m----> 7\u001b[0;31m \u001b[0mprint\u001b[0m\u001b[0;34m(\u001b[0m\u001b[0;34mf\"Time range: {interactions['datetime'].min()} to {interactions['datetime'].max()}\"\u001b[0m\u001b[0;34m)\u001b[0m\u001b[0;34m\u001b[0m\u001b[0;34m\u001b[0m\u001b[0m\n\u001b[0m\u001b[1;32m      8\u001b[0m \u001b[0;34m\u001b[0m\u001b[0m\n\u001b[1;32m      9\u001b[0m \u001b[0;31m# 2. Interactions per User\u001b[0m\u001b[0;34m\u001b[0m\u001b[0;34m\u001b[0m\u001b[0m\n",
      "\u001b[0;32m~/opt/anaconda3/lib/python3.9/site-packages/pandas/core/frame.py\u001b[0m in \u001b[0;36m__getitem__\u001b[0;34m(self, key)\u001b[0m\n\u001b[1;32m   4088\u001b[0m             \u001b[0;32mif\u001b[0m \u001b[0mself\u001b[0m\u001b[0;34m.\u001b[0m\u001b[0mcolumns\u001b[0m\u001b[0;34m.\u001b[0m\u001b[0mnlevels\u001b[0m \u001b[0;34m>\u001b[0m \u001b[0;36m1\u001b[0m\u001b[0;34m:\u001b[0m\u001b[0;34m\u001b[0m\u001b[0;34m\u001b[0m\u001b[0m\n\u001b[1;32m   4089\u001b[0m                 \u001b[0;32mreturn\u001b[0m \u001b[0mself\u001b[0m\u001b[0;34m.\u001b[0m\u001b[0m_getitem_multilevel\u001b[0m\u001b[0;34m(\u001b[0m\u001b[0mkey\u001b[0m\u001b[0;34m)\u001b[0m\u001b[0;34m\u001b[0m\u001b[0;34m\u001b[0m\u001b[0m\n\u001b[0;32m-> 4090\u001b[0;31m             \u001b[0mindexer\u001b[0m \u001b[0;34m=\u001b[0m \u001b[0mself\u001b[0m\u001b[0;34m.\u001b[0m\u001b[0mcolumns\u001b[0m\u001b[0;34m.\u001b[0m\u001b[0mget_loc\u001b[0m\u001b[0;34m(\u001b[0m\u001b[0mkey\u001b[0m\u001b[0;34m)\u001b[0m\u001b[0;34m\u001b[0m\u001b[0;34m\u001b[0m\u001b[0m\n\u001b[0m\u001b[1;32m   4091\u001b[0m             \u001b[0;32mif\u001b[0m \u001b[0mis_integer\u001b[0m\u001b[0;34m(\u001b[0m\u001b[0mindexer\u001b[0m\u001b[0;34m)\u001b[0m\u001b[0;34m:\u001b[0m\u001b[0;34m\u001b[0m\u001b[0;34m\u001b[0m\u001b[0m\n\u001b[1;32m   4092\u001b[0m                 \u001b[0mindexer\u001b[0m \u001b[0;34m=\u001b[0m \u001b[0;34m[\u001b[0m\u001b[0mindexer\u001b[0m\u001b[0;34m]\u001b[0m\u001b[0;34m\u001b[0m\u001b[0;34m\u001b[0m\u001b[0m\n",
      "\u001b[0;32m~/opt/anaconda3/lib/python3.9/site-packages/pandas/core/indexes/base.py\u001b[0m in \u001b[0;36mget_loc\u001b[0;34m(self, key)\u001b[0m\n\u001b[1;32m   3807\u001b[0m             ):\n\u001b[1;32m   3808\u001b[0m                 \u001b[0;32mraise\u001b[0m \u001b[0mInvalidIndexError\u001b[0m\u001b[0;34m(\u001b[0m\u001b[0mkey\u001b[0m\u001b[0;34m)\u001b[0m\u001b[0;34m\u001b[0m\u001b[0;34m\u001b[0m\u001b[0m\n\u001b[0;32m-> 3809\u001b[0;31m             \u001b[0;32mraise\u001b[0m \u001b[0mKeyError\u001b[0m\u001b[0;34m(\u001b[0m\u001b[0mkey\u001b[0m\u001b[0;34m)\u001b[0m \u001b[0;32mfrom\u001b[0m \u001b[0merr\u001b[0m\u001b[0;34m\u001b[0m\u001b[0;34m\u001b[0m\u001b[0m\n\u001b[0m\u001b[1;32m   3810\u001b[0m         \u001b[0;32mexcept\u001b[0m \u001b[0mTypeError\u001b[0m\u001b[0;34m:\u001b[0m\u001b[0;34m\u001b[0m\u001b[0;34m\u001b[0m\u001b[0m\n\u001b[1;32m   3811\u001b[0m             \u001b[0;31m# If we have a listlike key, _check_indexing_error will raise\u001b[0m\u001b[0;34m\u001b[0m\u001b[0;34m\u001b[0m\u001b[0m\n",
      "\u001b[0;31mKeyError\u001b[0m: 'datetime'"
     ]
    }
   ],
   "source": [
    "import matplotlib.pyplot as plt\n",
    "import seaborn as sns\n",
    "# 1. Basic Statistics\n",
    "print(\"Basic Statistics:\")\n",
    "print(f\"Number of unique users: {interactions['u'].nunique()}\")\n",
    "print(f\"Number of unique items: {interactions['i'].nunique()}\")\n",
    "print(f\"Time range: {interactions['datetime'].min()} to {interactions['datetime'].max()}\")\n",
    "\n",
    "# 2. Interactions per User\n",
    "user_interactions = interactions['u'].value_counts()\n",
    "plt.figure(figsize=(10, 6))\n",
    "plt.hist(user_interactions, bins=50, color='skyblue', edgecolor='black')\n",
    "plt.title('Distribution of Interactions per User')\n",
    "plt.xlabel('Number of Interactions')\n",
    "plt.ylabel('Number of Users')\n",
    "plt.show()\n",
    "\n",
    "# 3. Interactions per Item\n",
    "item_interactions = interactions['i'].value_counts()\n",
    "plt.figure(figsize=(10, 6))\n",
    "plt.hist(item_interactions, bins=50, color='lightgreen', edgecolor='black')\n",
    "plt.title('Distribution of Interactions per Item')\n",
    "plt.xlabel('Number of Interactions')\n",
    "plt.ylabel('Number of Items')\n",
    "plt.show()\n",
    "\n",
    "# 4. Temporal Analysis\n",
    "interactions['hour'] = interactions['datetime'].dt.hour\n",
    "interactions['day_of_week'] = interactions['datetime'].dt.dayofweek\n",
    "interactions['month'] = interactions['datetime'].dt.month\n",
    "\n",
    "# Line plot of interactions over time\n",
    "interactions['date'] = interactions['datetime'].dt.date\n",
    "daily_interactions = interactions.groupby('date').size()\n",
    "plt.figure(figsize=(12, 6))\n",
    "daily_interactions.plot(kind='line', color='blue')\n",
    "plt.title('Interactions Over Time')\n",
    "plt.xlabel('Date')\n",
    "plt.ylabel('Number of Interactions')\n",
    "plt.show()\n",
    "\n",
    "\n",
    "# 5. Top Users and Items\n",
    "top_users = user_interactions.head(10)\n",
    "plt.figure(figsize=(10, 6))\n",
    "top_users.plot(kind='bar', color='purple', edgecolor='black')\n",
    "plt.title('Top 10 Most Active Users')\n",
    "plt.xlabel('User ID')\n",
    "plt.ylabel('Number of Interactions')\n",
    "plt.xticks(rotation=45)\n",
    "plt.show()\n",
    "\n",
    "top_items = item_interactions.head(10)\n",
    "plt.figure(figsize=(10, 6))\n",
    "top_items.plot(kind='bar', color='orange', edgecolor='black')\n",
    "plt.title('Top 10 Most Interacted Items')\n",
    "plt.xlabel('Item ID')\n",
    "plt.ylabel('Number of Interactions')\n",
    "plt.xticks(rotation=45)\n",
    "plt.show()\n",
    "\n",
    "# 6. Missing Data\n",
    "print(\"Missing Data in interactions_with_items:\")\n",
    "print(interactions_with_items.isnull().sum())\n",
    "\n",
    "\n",
    "# 8. Merge with Metadata\n",
    "print(\"Sample of interactions_with_items dataset:\")\n",
    "print(interactions_with_items[['Title', 'Author', 'Subjects']].head())"
   ]
  },
  {
   "cell_type": "code",
   "execution_count": 108,
   "id": "d8acad93",
   "metadata": {
    "vscode": {
     "languageId": "markdown"
    }
   },
   "outputs": [
    {
     "name": "stdout",
     "output_type": "stream",
     "text": [
      "Number of users = 7838, \n",
      " Number of movies = 15109 \n",
      " Number of interactions = 87045\n"
     ]
    }
   ],
   "source": [
    "n_users = interactions.u.nunique()\n",
    "n_items = interactions.i.nunique()\n",
    "print(f'Number of users = {n_users}, \\n Number of movies = {n_items} \\n Number of interactions = {len(interactions)}')"
   ]
  },
  {
   "cell_type": "code",
   "execution_count": 109,
   "id": "a506683c",
   "metadata": {
    "vscode": {
     "languageId": "markdown"
    }
   },
   "outputs": [
    {
     "ename": "SyntaxError",
     "evalue": "invalid syntax (2529208170.py, line 3)",
     "output_type": "error",
     "traceback": [
      "\u001b[0;36m  File \u001b[0;32m\"/var/folders/f5/kfhjr6d55t3f6fpgzj_trt340000gn/T/ipykernel_6154/2529208170.py\"\u001b[0;36m, line \u001b[0;32m3\u001b[0m\n\u001b[0;31m    The exploratory data analysis reveals several important patterns and characteristics:\u001b[0m\n\u001b[0m        ^\u001b[0m\n\u001b[0;31mSyntaxError\u001b[0m\u001b[0;31m:\u001b[0m invalid syntax\n"
     ]
    }
   ],
   "source": [
    "## Key Insights from the Exploratory Data Analysis (EDA) of the Interaction Dataset\n",
    "\n",
    "The exploratory data analysis reveals several important patterns and characteristics:\n",
    "\n",
    "### User Behavior\n",
    "- There are 7,838 unique users in the dataset with varying levels of activity\n",
    "- User engagement is highly skewed - a small number of power users (like user #6869 with 385 interactions) contribute disproportionately\n",
    "- Most users have relatively few interactions, creating a long-tail distribution\n",
    "\n",
    "### Item Popularity\n",
    "- The dataset contains 15,109 unique items\n",
    "- Item #11366 is the most popular with 380 interactions\n",
    "- Similar to user activity, item popularity follows a long-tail distribution where a small number of items receive most interactions\n",
    "\n",
    "### Temporal Patterns\n",
    "- Interactions occur throughout the day but show patterns based on hour and day of week\n",
    "- Weekdays (especially mid-week) show higher activity than weekends\n",
    "- Peak interaction hours typically occur between 10 AM and 5 PM\n",
    "- The dataset spans from January 2023 to October 2024, with varying daily interaction volumes\n",
    "\n",
    "### Content Analysis\n",
    "- The items represent books with rich metadata (Title, Author, Publisher, Subjects)\n",
    "- About 17% of items are missing Author information\n",
    "- About 15% of items lack Subject classification\n",
    "- The dataset includes diverse book types including fiction, non-fiction, academic texts, and manga\n",
    "\n",
    "### Network Structure\n",
    "- The interaction network shows clustering around popular items\n",
    "- There are clear communities forming around certain types of content\n",
    "\n",
    "These insights provide a foundation for building recommendation systems, understanding user preferences, and identifying potential improvements in content offerings."
   ]
  },
  {
   "cell_type": "code",
   "execution_count": 110,
   "id": "c46e0d1b",
   "metadata": {},
   "outputs": [
    {
     "data": {
      "text/html": [
       "<div>\n",
       "<style scoped>\n",
       "    .dataframe tbody tr th:only-of-type {\n",
       "        vertical-align: middle;\n",
       "    }\n",
       "\n",
       "    .dataframe tbody tr th {\n",
       "        vertical-align: top;\n",
       "    }\n",
       "\n",
       "    .dataframe thead th {\n",
       "        text-align: right;\n",
       "    }\n",
       "</style>\n",
       "<table border=\"1\" class=\"dataframe\">\n",
       "  <thead>\n",
       "    <tr style=\"text-align: right;\">\n",
       "      <th></th>\n",
       "      <th>Title</th>\n",
       "      <th>Author</th>\n",
       "      <th>ISBN Valid</th>\n",
       "      <th>Publisher</th>\n",
       "      <th>Subjects</th>\n",
       "      <th>i</th>\n",
       "    </tr>\n",
       "  </thead>\n",
       "  <tbody>\n",
       "    <tr>\n",
       "      <th>0</th>\n",
       "      <td>Classification décimale universelle : édition ...</td>\n",
       "      <td>NaN</td>\n",
       "      <td>9782871303336; 2871303339</td>\n",
       "      <td>Ed du CEFAL</td>\n",
       "      <td>Classification décimale universelle; Indexatio...</td>\n",
       "      <td>0</td>\n",
       "    </tr>\n",
       "    <tr>\n",
       "      <th>1</th>\n",
       "      <td>Les interactions dans l'enseignement des langu...</td>\n",
       "      <td>Cicurel, Francine, 1947-</td>\n",
       "      <td>9782278058327; 2278058320</td>\n",
       "      <td>Didier</td>\n",
       "      <td>didactique--langue étrangère - enseignement; d...</td>\n",
       "      <td>1</td>\n",
       "    </tr>\n",
       "    <tr>\n",
       "      <th>2</th>\n",
       "      <td>Histoire de vie et recherche biographique : pe...</td>\n",
       "      <td>NaN</td>\n",
       "      <td>2343190194; 9782343190198</td>\n",
       "      <td>L'Harmattan</td>\n",
       "      <td>Histoires de vie en sociologie; Sciences socia...</td>\n",
       "      <td>2</td>\n",
       "    </tr>\n",
       "    <tr>\n",
       "      <th>3</th>\n",
       "      <td>Ce livre devrait me permettre de résoudre le c...</td>\n",
       "      <td>Mazas, Sylvain, 1980-</td>\n",
       "      <td>9782365350020; 236535002X; 9782365350488; 2365...</td>\n",
       "      <td>Vraoum!</td>\n",
       "      <td>Moyen-Orient; Bandes dessinées autobiographiqu...</td>\n",
       "      <td>3</td>\n",
       "    </tr>\n",
       "    <tr>\n",
       "      <th>4</th>\n",
       "      <td>Les années glorieuses : roman /</td>\n",
       "      <td>Lemaitre, Pierre, 1951-</td>\n",
       "      <td>9782702180815; 2702180817; 9782702183618; 2702...</td>\n",
       "      <td>Calmann-Lévy</td>\n",
       "      <td>France--1945-1975; Roman historique; Roman fra...</td>\n",
       "      <td>4</td>\n",
       "    </tr>\n",
       "    <tr>\n",
       "      <th>...</th>\n",
       "      <td>...</td>\n",
       "      <td>...</td>\n",
       "      <td>...</td>\n",
       "      <td>...</td>\n",
       "      <td>...</td>\n",
       "      <td>...</td>\n",
       "    </tr>\n",
       "    <tr>\n",
       "      <th>15286</th>\n",
       "      <td>Le vagabond de Tokyo /</td>\n",
       "      <td>Fukutani, Takashi, 1952-2000</td>\n",
       "      <td>9782353480111; 235348011X; 9782353480241; 2353...</td>\n",
       "      <td>Le Lézard noir</td>\n",
       "      <td>Mangas</td>\n",
       "      <td>15286</td>\n",
       "    </tr>\n",
       "    <tr>\n",
       "      <th>15287</th>\n",
       "      <td>God of high school : le match contre les dieux /</td>\n",
       "      <td>Park, Yong-Je</td>\n",
       "      <td>9782382880203; 2382880201; 9782382880210; 2382...</td>\n",
       "      <td>Kbooks</td>\n",
       "      <td>NaN</td>\n",
       "      <td>15287</td>\n",
       "    </tr>\n",
       "    <tr>\n",
       "      <th>15288</th>\n",
       "      <td>Blue Lock /</td>\n",
       "      <td>Kaneshiro, Muneyuki</td>\n",
       "      <td>9782811650254; 2811650253; 9782811661274; 2811...</td>\n",
       "      <td>Pika</td>\n",
       "      <td>Compétitions; Football; Entraînement (sports);...</td>\n",
       "      <td>15288</td>\n",
       "    </tr>\n",
       "    <tr>\n",
       "      <th>15289</th>\n",
       "      <td>Red eyes sword : akame ga kill ! Zero /</td>\n",
       "      <td>Takahiro</td>\n",
       "      <td>9782368522134; 2368522131; 9782368522141; 2368...</td>\n",
       "      <td>Kurokawa</td>\n",
       "      <td>Bandes dessinées; Mangas</td>\n",
       "      <td>15289</td>\n",
       "    </tr>\n",
       "    <tr>\n",
       "      <th>15290</th>\n",
       "      <td>Directives de projet applicables à l'étude et ...</td>\n",
       "      <td>NaN</td>\n",
       "      <td>NaN</td>\n",
       "      <td>Commune de Lausanne</td>\n",
       "      <td>école (bâtiment) - construction - planificatio...</td>\n",
       "      <td>15290</td>\n",
       "    </tr>\n",
       "  </tbody>\n",
       "</table>\n",
       "<p>15291 rows × 6 columns</p>\n",
       "</div>"
      ],
      "text/plain": [
       "                                                   Title  \\\n",
       "0      Classification décimale universelle : édition ...   \n",
       "1      Les interactions dans l'enseignement des langu...   \n",
       "2      Histoire de vie et recherche biographique : pe...   \n",
       "3      Ce livre devrait me permettre de résoudre le c...   \n",
       "4                        Les années glorieuses : roman /   \n",
       "...                                                  ...   \n",
       "15286                             Le vagabond de Tokyo /   \n",
       "15287   God of high school : le match contre les dieux /   \n",
       "15288                                        Blue Lock /   \n",
       "15289            Red eyes sword : akame ga kill ! Zero /   \n",
       "15290  Directives de projet applicables à l'étude et ...   \n",
       "\n",
       "                             Author  \\\n",
       "0                               NaN   \n",
       "1          Cicurel, Francine, 1947-   \n",
       "2                               NaN   \n",
       "3             Mazas, Sylvain, 1980-   \n",
       "4           Lemaitre, Pierre, 1951-   \n",
       "...                             ...   \n",
       "15286  Fukutani, Takashi, 1952-2000   \n",
       "15287                 Park, Yong-Je   \n",
       "15288           Kaneshiro, Muneyuki   \n",
       "15289                      Takahiro   \n",
       "15290                           NaN   \n",
       "\n",
       "                                              ISBN Valid            Publisher  \\\n",
       "0                              9782871303336; 2871303339          Ed du CEFAL   \n",
       "1                              9782278058327; 2278058320               Didier   \n",
       "2                              2343190194; 9782343190198          L'Harmattan   \n",
       "3      9782365350020; 236535002X; 9782365350488; 2365...              Vraoum!   \n",
       "4      9782702180815; 2702180817; 9782702183618; 2702...         Calmann-Lévy   \n",
       "...                                                  ...                  ...   \n",
       "15286  9782353480111; 235348011X; 9782353480241; 2353...      Le Lézard noir   \n",
       "15287  9782382880203; 2382880201; 9782382880210; 2382...               Kbooks   \n",
       "15288  9782811650254; 2811650253; 9782811661274; 2811...                 Pika   \n",
       "15289  9782368522134; 2368522131; 9782368522141; 2368...             Kurokawa   \n",
       "15290                                                NaN  Commune de Lausanne   \n",
       "\n",
       "                                                Subjects      i  \n",
       "0      Classification décimale universelle; Indexatio...      0  \n",
       "1      didactique--langue étrangère - enseignement; d...      1  \n",
       "2      Histoires de vie en sociologie; Sciences socia...      2  \n",
       "3      Moyen-Orient; Bandes dessinées autobiographiqu...      3  \n",
       "4      France--1945-1975; Roman historique; Roman fra...      4  \n",
       "...                                                  ...    ...  \n",
       "15286                                             Mangas  15286  \n",
       "15287                                                NaN  15287  \n",
       "15288  Compétitions; Football; Entraînement (sports);...  15288  \n",
       "15289                           Bandes dessinées; Mangas  15289  \n",
       "15290  école (bâtiment) - construction - planificatio...  15290  \n",
       "\n",
       "[15291 rows x 6 columns]"
      ]
     },
     "execution_count": 110,
     "metadata": {},
     "output_type": "execute_result"
    }
   ],
   "source": [
    "items\n"
   ]
  },
  {
   "cell_type": "code",
   "execution_count": null,
   "id": "9e782341",
   "metadata": {},
   "outputs": [],
   "source": []
  },
  {
   "cell_type": "code",
   "execution_count": 111,
   "id": "a362e669",
   "metadata": {},
   "outputs": [
    {
     "data": {
      "image/png": "[encoded data removed]",
      "text/plain": [
       "<Figure size 864x432 with 1 Axes>"
      ]
     },
     "metadata": {
      "needs_background": "light"
     },
     "output_type": "display_data"
    },
    {
     "data": {
      "image/png": "[encoded data removed]",
      "text/plain": [
       "<Figure size 720x432 with 1 Axes>"
      ]
     },
     "metadata": {
      "needs_background": "light"
     },
     "output_type": "display_data"
    },
    {
     "data": {
      "image/png": "[encoded data removed]",
      "text/plain": [
       "<Figure size 864x432 with 1 Axes>"
      ]
     },
     "metadata": {
      "needs_background": "light"
     },
     "output_type": "display_data"
    },
    {
     "data": {
      "image/png": "[encoded data removed]",
      "text/plain": [
       "<Figure size 720x432 with 1 Axes>"
      ]
     },
     "metadata": {
      "needs_background": "light"
     },
     "output_type": "display_data"
    },
    {
     "data": {
      "image/png": "[encoded data removed]",
      "text/plain": [
       "<Figure size 576x432 with 2 Axes>"
      ]
     },
     "metadata": {
      "needs_background": "light"
     },
     "output_type": "display_data"
    }
   ],
   "source": [
    "import seaborn as sns\n",
    "import numpy as np\n",
    "\n",
    "\n",
    "import matplotlib.pyplot as plt\n",
    "\n",
    "\n",
    "# Distribution of publishers\n",
    "plt.figure(figsize=(12, 6))\n",
    "top_publishers = items['Publisher'].value_counts().head(15)\n",
    "sns.barplot(x=top_publishers.values, y=top_publishers.index, palette='viridis')\n",
    "plt.title('Top 15 Publishers')\n",
    "plt.xlabel('Number of Items')\n",
    "plt.tight_layout()\n",
    "plt.show()\n",
    "\n",
    "\n",
    "\n",
    "# Author analysis\n",
    "plt.figure(figsize=(10, 6))\n",
    "author_counts = items['Author'].value_counts().head(10)\n",
    "sns.barplot(x=author_counts.values, y=author_counts.index, palette='coolwarm')\n",
    "plt.title('Top 10 Authors by Number of Items')\n",
    "plt.xlabel('Number of Items')\n",
    "plt.tight_layout()\n",
    "plt.show()\n",
    "\n",
    "# Subject analysis\n",
    "# Extract and count subjects (handling multiple subjects per item)\n",
    "all_subjects = []\n",
    "for subjects in items['Subjects'].dropna():\n",
    "    subject_list = str(subjects).split(';')\n",
    "    all_subjects.extend([subj.strip() for subj in subject_list])\n",
    "\n",
    "subject_counts = pd.Series(all_subjects).value_counts()\n",
    "plt.figure(figsize=(12, 6))\n",
    "top_subjects = subject_counts.head(15)\n",
    "sns.barplot(x=top_subjects.values, y=top_subjects.index, palette='mako')\n",
    "plt.title('Top 15 Subjects')\n",
    "plt.xlabel('Number of Occurrences')\n",
    "plt.tight_layout()\n",
    "plt.show()\n",
    "\n",
    "# Analyze book popularity based on interactions\n",
    "if 'interactions' in globals():\n",
    "    plt.figure(figsize=(10, 6))\n",
    "    \n",
    "    # Reset the index of value_counts to create a DataFrame\n",
    "    item_interaction_counts = interactions['i'].value_counts().reset_index()\n",
    "    item_interaction_counts.columns = ['i', 'count']  # Rename columns for clarity\n",
    "    \n",
    "    # Merge with the items dataset\n",
    "    items_with_interactions = items.merge(item_interaction_counts, on='i', how='left')\n",
    "    items_with_interactions['interaction_count'] = items_with_interactions['count'].fillna(0)\n",
    "    \n",
    "    \n",
    "    # Plot the distribution of interactions\n",
    "    plt.hist(items_with_interactions['interaction_count'], bins=50, log=True)\n",
    "    plt.title('Distribution of Interactions per Item (Log Scale)')\n",
    "    plt.xlabel('Number of Interactions')\n",
    "    plt.ylabel('Number of Items')\n",
    "    plt.show()\n",
    "    \n",
    "    # Correlation between metadata and popularity\n",
    "    # Create indicator for having Author information\n",
    "    items_with_interactions['has_author'] = items_with_interactions['Author'].notna().astype(int)\n",
    "    items_with_interactions['has_subjects'] = items_with_interactions['Subjects'].notna().astype(int)\n",
    "    \n",
    "    # Create title length feature\n",
    "    items_with_interactions['title_length'] = items_with_interactions['Title'].str.len()\n",
    "    \n",
    "    # Analyze correlation with popularity\n",
    "    features = ['has_author', 'has_subjects', 'title_length']\n",
    "    corr = items_with_interactions[features + ['interaction_count']].corr()\n",
    "    \n",
    "    plt.figure(figsize=(8, 6))\n",
    "    sns.heatmap(corr, annot=True, cmap='coolwarm')\n",
    "    plt.title('Correlation between Item Features and Popularity')\n",
    "    plt.tight_layout()\n",
    "    plt.show()"
   ]
  },
  {
   "cell_type": "code",
   "execution_count": 112,
   "id": "078c02ff",
   "metadata": {},
   "outputs": [
    {
     "name": "stdout",
     "output_type": "stream",
     "text": [
      "Missing values in items dataset:\n",
      "Title            0\n",
      "Author        2653\n",
      "ISBN Valid     723\n",
      "Publisher       25\n",
      "Subjects      2223\n",
      "i                0\n",
      "dtype: int64\n",
      "\n",
      "Percentage of missing values in items dataset:\n",
      "Title          0.00\n",
      "Author        17.35\n",
      "ISBN Valid     4.73\n",
      "Publisher      0.16\n",
      "Subjects      14.54\n",
      "i              0.00\n",
      "dtype: float64\n",
      "\n",
      "Missing values in interactions_with_items dataset:\n",
      "u                 0\n",
      "i                 0\n",
      "t                 0\n",
      "datetime          0\n",
      "Title             0\n",
      "Author        15131\n",
      "ISBN Valid     3537\n",
      "Publisher       123\n",
      "Subjects      10877\n",
      "dtype: int64\n",
      "\n",
      "Percentage of missing values in interactions_with_items dataset:\n",
      "u              0.00\n",
      "i              0.00\n",
      "t              0.00\n",
      "datetime       0.00\n",
      "Title          0.00\n",
      "Author        17.38\n",
      "ISBN Valid     4.06\n",
      "Publisher      0.14\n",
      "Subjects      12.50\n",
      "dtype: float64\n"
     ]
    },
    {
     "data": {
      "image/png": "[encoded data removed]",
      "text/plain": [
       "<Figure size 720x432 with 1 Axes>"
      ]
     },
     "metadata": {
      "needs_background": "light"
     },
     "output_type": "display_data"
    }
   ],
   "source": [
    "import seaborn as sns\n",
    "\n",
    "# Analyzing missing values in the datasets\n",
    "print(\"Missing values in items dataset:\")\n",
    "missing_items = items.isnull().sum()\n",
    "print(missing_items)\n",
    "print(\"\\nPercentage of missing values in items dataset:\")\n",
    "print((missing_items / len(items) * 100).round(2))\n",
    "\n",
    "print(\"\\nMissing values in interactions_with_items dataset:\")\n",
    "missing_interactions = interactions_with_items.isnull().sum()\n",
    "print(missing_interactions)\n",
    "print(\"\\nPercentage of missing values in interactions_with_items dataset:\")\n",
    "print((missing_interactions / len(interactions_with_items) * 100).round(2))\n",
    "\n",
    "# Visualizing missing data\n",
    "import matplotlib.pyplot as plt\n",
    "\n",
    "plt.figure(figsize=(10, 6))\n",
    "sns.heatmap(interactions_with_items.isnull(), cbar=False, cmap='viridis', yticklabels=False)\n",
    "plt.title('Missing Values in Items Dataset')\n",
    "plt.tight_layout()\n",
    "plt.show()\n",
    "\n"
   ]
  },
  {
   "cell_type": "code",
   "execution_count": 113,
   "id": "4608f013",
   "metadata": {},
   "outputs": [
    {
     "name": "stdout",
     "output_type": "stream",
     "text": [
      "Shape after removing all rows with missing values: (10147, 6)\n",
      "Removed 5144 rows out of 15291 total rows\n"
     ]
    }
   ],
   "source": [
    "# Create a copy of the items dataframe to work with\n",
    "items_cleaned = items.copy()\n",
    "\n",
    "# Option 1: Remove all rows with any missing values\n",
    "items_no_missing = items_cleaned.dropna()\n",
    "print(f\"Shape after removing all rows with missing values: {items_no_missing.shape}\")\n",
    "print(f\"Removed {items.shape[0] - items_no_missing.shape[0]} rows out of {items.shape[0]} total rows\")\n",
    "\n"
   ]
  },
  {
   "cell_type": "code",
   "execution_count": 114,
   "id": "37a70539",
   "metadata": {},
   "outputs": [
    {
     "data": {
      "text/plain": [
       "'import requests\\nimport time\\nimport pandas as pd\\nfrom tqdm.notebook import tqdm\\n\\n# Create a copy of the items dataframe to work with\\nitems_improved = items.copy()\\n\\n# Function to extract first ISBN number from the ISBN Valid field\\ndef extract_first_isbn(isbn_field):\\n    if pd.isna(isbn_field):\\n        return None\\n    # Split by semicolon and take first value\\n    isbn_list = str(isbn_field).split(\\';\\')\\n    if len(isbn_list) > 0:\\n        # Clean up the ISBN\\n        isbn = isbn_list[0].strip()\\n        # Remove any non-digit characters if needed\\n        isbn = \\'\\'.join(c for c in isbn if c.isdigit())\\n        return isbn\\n    return None\\n\\n# Function to fetch book metadata from Google Books API\\ndef fetch_book_metadata(isbn):\\n    if not isbn:\\n        return None, None, None\\n    \\n    url = f\"https://www.googleapis.com/books/v1/volumes?q=isbn:{isbn}\"\\n    try:\\n        response = requests.get(url)\\n        if response.status_code == 200:\\n            data = response.json()\\n            items = data.get(\"items\", [])\\n            if items:\\n                volume_info = items[0].get(\"volumeInfo\", {})\\n                authors = volume_info.get(\"authors\", [])\\n                author = authors[0] if authors else None\\n                publisher = volume_info.get(\"publisher\")\\n                categories = volume_info.get(\"categories\", [])\\n                category = categories[0] if categories else None\\n                return author, publisher, category\\n    except Exception as e:\\n        print(f\"Error fetching data for ISBN {isbn}: {e}\")\\n    \\n    return None, None, None\\n\\n# Count missing values before enhancement\\nprint(\"Missing values before enhancement:\")\\nprint(items.isnull().sum())\\n\\n# Process books with missing data that have ISBNs\\nmissing_author_items = items_improved[(items_improved[\\'Author\\'].isna()) & (~items_improved[\\'ISBN Valid\\'].isna())]\\nmissing_subject_items = items_improved[(items_improved[\\'Subjects\\'].isna()) & (~items_improved[\\'ISBN Valid\\'].isna())]\\n\\n# Combine indices to avoid processing the same book twice\\nall_indices = list(set(missing_author_items.index) | set(missing_subject_items.index))\\n\\n# Process books with API calls (with rate limiting)\\nprint(f\"\\nFetching metadata for {len(all_indices)} books with missing data...\")\\n\\nsuccessful_fetches = 0\\nfor idx in tqdm(all_indices):\\n    # Check if we need to process this book\\n    need_author = pd.isna(items_improved.at[idx, \\'Author\\'])\\n    need_subject = pd.isna(items_improved.at[idx, \\'Subjects\\'])\\n    \\n    if need_author or need_subject:\\n        isbn = extract_first_isbn(items_improved.at[idx, \\'ISBN Valid\\'])\\n        if isbn:\\n            author, publisher, category = fetch_book_metadata(isbn)\\n            \\n            if author and need_author:\\n                items_improved.at[idx, \\'Author\\'] = author\\n                successful_fetches += 1\\n                \\n            if category and need_subject:\\n                items_improved.at[idx, \\'Subjects\\'] = category\\n                successful_fetches += 1\\n                \\n            if publisher and pd.isna(items_improved.at[idx, \\'Publisher\\']):\\n                items_improved.at[idx, \\'Publisher\\'] = publisher\\n            \\n            # Sleep to respect API rate limits\\n            time.sleep(0.1)\\n\\n# For remaining missing values, use defaults\\nitems_improved[\\'Author\\'] = items_improved[\\'Author\\'].fillna(\"Unknown Author\")\\nitems_improved[\\'Subjects\\'] = items_improved[\\'Subjects\\'].fillna(\"Uncategorized\")\\nitems_improved[\\'Publisher\\'] = items_improved[\\'Publisher\\'].fillna(\"Unknown Publisher\")\\nitems_improved[\\'ISBN Valid\\'] = items_improved[\\'ISBN Valid\\'].fillna(\"Not Available\")\\n\\n# Print statistics on the enhanced dataset\\nprint(\"\\nMissing values after enhancement:\")\\nprint(items_improved.isnull().sum())\\nprint(f\"\\nSuccessful API metadata fetches: {successful_fetches}\")\\n\\n# Create the enhanced version of interactions_with_items\\ninteractions_with_items_improved = interactions.merge(items_improved, on=\\'i\\', how=\\'left\\')\\n\\n# Check for any remaining missing values\\nprint(\"\\nMissing values in enhanced interactions with items:\")\\nprint(interactions_with_items_improved.isnull().sum())\\n\\n# Show a sample of the enhanced data\\nprint(\"\\nSample of enhanced data:\")\\nprint(interactions_with_items_improved.sample(5))'"
      ]
     },
     "execution_count": 114,
     "metadata": {},
     "output_type": "execute_result"
    }
   ],
   "source": [
    "'''import requests\n",
    "import time\n",
    "import pandas as pd\n",
    "from tqdm.notebook import tqdm\n",
    "\n",
    "# Create a copy of the items dataframe to work with\n",
    "items_improved = items.copy()\n",
    "\n",
    "# Function to extract first ISBN number from the ISBN Valid field\n",
    "def extract_first_isbn(isbn_field):\n",
    "    if pd.isna(isbn_field):\n",
    "        return None\n",
    "    # Split by semicolon and take first value\n",
    "    isbn_list = str(isbn_field).split(';')\n",
    "    if len(isbn_list) > 0:\n",
    "        # Clean up the ISBN\n",
    "        isbn = isbn_list[0].strip()\n",
    "        # Remove any non-digit characters if needed\n",
    "        isbn = ''.join(c for c in isbn if c.isdigit())\n",
    "        return isbn\n",
    "    return None\n",
    "\n",
    "# Function to fetch book metadata from Google Books API\n",
    "def fetch_book_metadata(isbn):\n",
    "    if not isbn:\n",
    "        return None, None, None\n",
    "    \n",
    "    url = f\"https://www.googleapis.com/books/v1/volumes?q=isbn:{isbn}\"\n",
    "    try:\n",
    "        response = requests.get(url)\n",
    "        if response.status_code == 200:\n",
    "            data = response.json()\n",
    "            items = data.get(\"items\", [])\n",
    "            if items:\n",
    "                volume_info = items[0].get(\"volumeInfo\", {})\n",
    "                authors = volume_info.get(\"authors\", [])\n",
    "                author = authors[0] if authors else None\n",
    "                publisher = volume_info.get(\"publisher\")\n",
    "                categories = volume_info.get(\"categories\", [])\n",
    "                category = categories[0] if categories else None\n",
    "                return author, publisher, category\n",
    "    except Exception as e:\n",
    "        print(f\"Error fetching data for ISBN {isbn}: {e}\")\n",
    "    \n",
    "    return None, None, None\n",
    "\n",
    "# Count missing values before enhancement\n",
    "print(\"Missing values before enhancement:\")\n",
    "print(items.isnull().sum())\n",
    "\n",
    "# Process books with missing data that have ISBNs\n",
    "missing_author_items = items_improved[(items_improved['Author'].isna()) & (~items_improved['ISBN Valid'].isna())]\n",
    "missing_subject_items = items_improved[(items_improved['Subjects'].isna()) & (~items_improved['ISBN Valid'].isna())]\n",
    "\n",
    "# Combine indices to avoid processing the same book twice\n",
    "all_indices = list(set(missing_author_items.index) | set(missing_subject_items.index))\n",
    "\n",
    "# Process books with API calls (with rate limiting)\n",
    "print(f\"\\nFetching metadata for {len(all_indices)} books with missing data...\")\n",
    "\n",
    "successful_fetches = 0\n",
    "for idx in tqdm(all_indices):\n",
    "    # Check if we need to process this book\n",
    "    need_author = pd.isna(items_improved.at[idx, 'Author'])\n",
    "    need_subject = pd.isna(items_improved.at[idx, 'Subjects'])\n",
    "    \n",
    "    if need_author or need_subject:\n",
    "        isbn = extract_first_isbn(items_improved.at[idx, 'ISBN Valid'])\n",
    "        if isbn:\n",
    "            author, publisher, category = fetch_book_metadata(isbn)\n",
    "            \n",
    "            if author and need_author:\n",
    "                items_improved.at[idx, 'Author'] = author\n",
    "                successful_fetches += 1\n",
    "                \n",
    "            if category and need_subject:\n",
    "                items_improved.at[idx, 'Subjects'] = category\n",
    "                successful_fetches += 1\n",
    "                \n",
    "            if publisher and pd.isna(items_improved.at[idx, 'Publisher']):\n",
    "                items_improved.at[idx, 'Publisher'] = publisher\n",
    "            \n",
    "            # Sleep to respect API rate limits\n",
    "            time.sleep(0.1)\n",
    "\n",
    "# For remaining missing values, use defaults\n",
    "items_improved['Author'] = items_improved['Author'].fillna(\"Unknown Author\")\n",
    "items_improved['Subjects'] = items_improved['Subjects'].fillna(\"Uncategorized\")\n",
    "items_improved['Publisher'] = items_improved['Publisher'].fillna(\"Unknown Publisher\")\n",
    "items_improved['ISBN Valid'] = items_improved['ISBN Valid'].fillna(\"Not Available\")\n",
    "\n",
    "# Print statistics on the enhanced dataset\n",
    "print(\"\\nMissing values after enhancement:\")\n",
    "print(items_improved.isnull().sum())\n",
    "print(f\"\\nSuccessful API metadata fetches: {successful_fetches}\")\n",
    "\n",
    "# Create the enhanced version of interactions_with_items\n",
    "interactions_with_items_improved = interactions.merge(items_improved, on='i', how='left')\n",
    "\n",
    "# Check for any remaining missing values\n",
    "print(\"\\nMissing values in enhanced interactions with items:\")\n",
    "print(interactions_with_items_improved.isnull().sum())\n",
    "\n",
    "# Show a sample of the enhanced data\n",
    "print(\"\\nSample of enhanced data:\")\n",
    "print(interactions_with_items_improved.sample(5))'''"
   ]
  },
  {
   "cell_type": "code",
   "execution_count": null,
   "id": "6d5e0b65",
   "metadata": {},
   "outputs": [],
   "source": []
  },
  {
   "cell_type": "code",
   "execution_count": null,
   "id": "8c87bb05",
   "metadata": {},
   "outputs": [],
   "source": [
    "\n"
   ]
  },
  {
   "cell_type": "code",
   "execution_count": 115,
   "id": "b5e4fa10",
   "metadata": {},
   "outputs": [
    {
     "data": {
      "text/html": [
       "<div>\n",
       "<style scoped>\n",
       "    .dataframe tbody tr th:only-of-type {\n",
       "        vertical-align: middle;\n",
       "    }\n",
       "\n",
       "    .dataframe tbody tr th {\n",
       "        vertical-align: top;\n",
       "    }\n",
       "\n",
       "    .dataframe thead th {\n",
       "        text-align: right;\n",
       "    }\n",
       "</style>\n",
       "<table border=\"1\" class=\"dataframe\">\n",
       "  <thead>\n",
       "    <tr style=\"text-align: right;\">\n",
       "      <th></th>\n",
       "      <th>u</th>\n",
       "      <th>i</th>\n",
       "      <th>t</th>\n",
       "    </tr>\n",
       "  </thead>\n",
       "  <tbody>\n",
       "    <tr>\n",
       "      <th>21035</th>\n",
       "      <td>0</td>\n",
       "      <td>0</td>\n",
       "      <td>1.680191e+09</td>\n",
       "    </tr>\n",
       "    <tr>\n",
       "      <th>28842</th>\n",
       "      <td>0</td>\n",
       "      <td>1</td>\n",
       "      <td>1.680783e+09</td>\n",
       "    </tr>\n",
       "    <tr>\n",
       "      <th>3958</th>\n",
       "      <td>0</td>\n",
       "      <td>2</td>\n",
       "      <td>1.680801e+09</td>\n",
       "    </tr>\n",
       "    <tr>\n",
       "      <th>29592</th>\n",
       "      <td>0</td>\n",
       "      <td>3</td>\n",
       "      <td>1.683715e+09</td>\n",
       "    </tr>\n",
       "    <tr>\n",
       "      <th>6371</th>\n",
       "      <td>0</td>\n",
       "      <td>3</td>\n",
       "      <td>1.683715e+09</td>\n",
       "    </tr>\n",
       "    <tr>\n",
       "      <th>41220</th>\n",
       "      <td>0</td>\n",
       "      <td>4</td>\n",
       "      <td>1.686569e+09</td>\n",
       "    </tr>\n",
       "    <tr>\n",
       "      <th>12217</th>\n",
       "      <td>0</td>\n",
       "      <td>5</td>\n",
       "      <td>1.687014e+09</td>\n",
       "    </tr>\n",
       "    <tr>\n",
       "      <th>19703</th>\n",
       "      <td>0</td>\n",
       "      <td>6</td>\n",
       "      <td>1.687014e+09</td>\n",
       "    </tr>\n",
       "    <tr>\n",
       "      <th>64522</th>\n",
       "      <td>0</td>\n",
       "      <td>7</td>\n",
       "      <td>1.687014e+09</td>\n",
       "    </tr>\n",
       "    <tr>\n",
       "      <th>29380</th>\n",
       "      <td>0</td>\n",
       "      <td>8</td>\n",
       "      <td>1.687260e+09</td>\n",
       "    </tr>\n",
       "  </tbody>\n",
       "</table>\n",
       "</div>"
      ],
      "text/plain": [
       "       u  i             t\n",
       "21035  0  0  1.680191e+09\n",
       "28842  0  1  1.680783e+09\n",
       "3958   0  2  1.680801e+09\n",
       "29592  0  3  1.683715e+09\n",
       "6371   0  3  1.683715e+09\n",
       "41220  0  4  1.686569e+09\n",
       "12217  0  5  1.687014e+09\n",
       "19703  0  6  1.687014e+09\n",
       "64522  0  7  1.687014e+09\n",
       "29380  0  8  1.687260e+09"
      ]
     },
     "execution_count": 115,
     "metadata": {},
     "output_type": "execute_result"
    }
   ],
   "source": [
    "# let's first sort the interactions by user and time stamp\n",
    "#interactions['datetime'] = pd.to_datetime(interactions['t'], unit='s')\n",
    "interactions = interactions.sort_values([\"u\", \"t\"])\n",
    "interactions.head(10)"
   ]
  },
  {
   "cell_type": "code",
   "execution_count": 116,
   "id": "800fd43c",
   "metadata": {},
   "outputs": [
    {
     "data": {
      "text/html": [
       "<div>\n",
       "<style scoped>\n",
       "    .dataframe tbody tr th:only-of-type {\n",
       "        vertical-align: middle;\n",
       "    }\n",
       "\n",
       "    .dataframe tbody tr th {\n",
       "        vertical-align: top;\n",
       "    }\n",
       "\n",
       "    .dataframe thead th {\n",
       "        text-align: right;\n",
       "    }\n",
       "</style>\n",
       "<table border=\"1\" class=\"dataframe\">\n",
       "  <thead>\n",
       "    <tr style=\"text-align: right;\">\n",
       "      <th></th>\n",
       "      <th>u</th>\n",
       "      <th>i</th>\n",
       "      <th>t</th>\n",
       "      <th>pct_rank</th>\n",
       "    </tr>\n",
       "  </thead>\n",
       "  <tbody>\n",
       "    <tr>\n",
       "      <th>0</th>\n",
       "      <td>0</td>\n",
       "      <td>0</td>\n",
       "      <td>1.680191e+09</td>\n",
       "      <td>0.04</td>\n",
       "    </tr>\n",
       "    <tr>\n",
       "      <th>1</th>\n",
       "      <td>0</td>\n",
       "      <td>1</td>\n",
       "      <td>1.680783e+09</td>\n",
       "      <td>0.08</td>\n",
       "    </tr>\n",
       "    <tr>\n",
       "      <th>2</th>\n",
       "      <td>0</td>\n",
       "      <td>2</td>\n",
       "      <td>1.680801e+09</td>\n",
       "      <td>0.12</td>\n",
       "    </tr>\n",
       "    <tr>\n",
       "      <th>3</th>\n",
       "      <td>0</td>\n",
       "      <td>3</td>\n",
       "      <td>1.683715e+09</td>\n",
       "      <td>0.16</td>\n",
       "    </tr>\n",
       "    <tr>\n",
       "      <th>4</th>\n",
       "      <td>0</td>\n",
       "      <td>3</td>\n",
       "      <td>1.683715e+09</td>\n",
       "      <td>0.20</td>\n",
       "    </tr>\n",
       "    <tr>\n",
       "      <th>5</th>\n",
       "      <td>0</td>\n",
       "      <td>4</td>\n",
       "      <td>1.686569e+09</td>\n",
       "      <td>0.24</td>\n",
       "    </tr>\n",
       "    <tr>\n",
       "      <th>6</th>\n",
       "      <td>0</td>\n",
       "      <td>5</td>\n",
       "      <td>1.687014e+09</td>\n",
       "      <td>0.28</td>\n",
       "    </tr>\n",
       "    <tr>\n",
       "      <th>7</th>\n",
       "      <td>0</td>\n",
       "      <td>6</td>\n",
       "      <td>1.687014e+09</td>\n",
       "      <td>0.32</td>\n",
       "    </tr>\n",
       "    <tr>\n",
       "      <th>8</th>\n",
       "      <td>0</td>\n",
       "      <td>7</td>\n",
       "      <td>1.687014e+09</td>\n",
       "      <td>0.36</td>\n",
       "    </tr>\n",
       "    <tr>\n",
       "      <th>9</th>\n",
       "      <td>0</td>\n",
       "      <td>8</td>\n",
       "      <td>1.687260e+09</td>\n",
       "      <td>0.40</td>\n",
       "    </tr>\n",
       "  </tbody>\n",
       "</table>\n",
       "</div>"
      ],
      "text/plain": [
       "   u  i             t  pct_rank\n",
       "0  0  0  1.680191e+09      0.04\n",
       "1  0  1  1.680783e+09      0.08\n",
       "2  0  2  1.680801e+09      0.12\n",
       "3  0  3  1.683715e+09      0.16\n",
       "4  0  3  1.683715e+09      0.20\n",
       "5  0  4  1.686569e+09      0.24\n",
       "6  0  5  1.687014e+09      0.28\n",
       "7  0  6  1.687014e+09      0.32\n",
       "8  0  7  1.687014e+09      0.36\n",
       "9  0  8  1.687260e+09      0.40"
      ]
     },
     "execution_count": 116,
     "metadata": {},
     "output_type": "execute_result"
    }
   ],
   "source": [
    "interactions[\"pct_rank\"] = interactions.groupby(\"u\")[\"t\"].rank(pct=True, method='dense')\n",
    "interactions.reset_index(inplace=True, drop=True)\n",
    "interactions.head(10)\n"
   ]
  },
  {
   "cell_type": "code",
   "execution_count": 117,
   "id": "35374d47",
   "metadata": {},
   "outputs": [],
   "source": [
    "train_data = interactions[interactions[\"pct_rank\"] < 0.8]\n",
    "test_data = interactions[interactions[\"pct_rank\"] >= 0.8]"
   ]
  },
  {
   "cell_type": "code",
   "execution_count": 118,
   "id": "f000dc27",
   "metadata": {},
   "outputs": [
    {
     "name": "stdout",
     "output_type": "stream",
     "text": [
      "Training set size: 65417\n",
      "Testing set size: 21628\n"
     ]
    }
   ],
   "source": [
    "print(\"Training set size:\", train_data.shape[0])\n",
    "print(\"Testing set size:\", test_data.shape[0])\n"
   ]
  },
  {
   "cell_type": "markdown",
   "id": "e8d2b944",
   "metadata": {},
   "source": [
    "# Creating User-Item Matrices for Implicit Feedback\n"
   ]
  },
  {
   "cell_type": "code",
   "execution_count": 119,
   "id": "5bc37171",
   "metadata": {},
   "outputs": [
    {
     "name": "stdout",
     "output_type": "stream",
     "text": [
      "number of users = 7838 | number of movies = 15109\n"
     ]
    }
   ],
   "source": [
    "print('number of users =', n_users, '| number of movies =', n_items)"
   ]
  },
  {
   "cell_type": "code",
   "execution_count": 120,
   "id": "661a5d59",
   "metadata": {},
   "outputs": [],
   "source": [
    "# Create mappings for user and item IDs\n",
    "user_id_mapping = {user_id: idx for idx, user_id in enumerate(interactions[\"u\"].unique())}\n",
    "item_id_mapping = {item_id: idx for idx, item_id in enumerate(interactions[\"i\"].unique())}\n",
    "\n",
    "# Map the user and item IDs in the dataset\n",
    "interactions[\"u\"] = interactions[\"u\"].map(user_id_mapping)\n",
    "interactions[\"i\"] = interactions[\"i\"].map(item_id_mapping)"
   ]
  },
  {
   "cell_type": "markdown",
   "id": "427f13bf",
   "metadata": {},
   "source": [
    "### Step 1: Define the Function to Create the Data Matrix"
   ]
  },
  {
   "cell_type": "code",
   "execution_count": 129,
   "id": "2979bc24",
   "metadata": {},
   "outputs": [],
   "source": [
    "n_users = interactions[\"u\"].nunique()\n",
    "n_items = interactions[\"i\"].nunique()"
   ]
  },
  {
   "cell_type": "code",
   "execution_count": 130,
   "id": "13e6557d",
   "metadata": {},
   "outputs": [
    {
     "data": {
      "text/plain": [
       "'# Check if train_data and test_data still have the original user and item IDs\\n# If not, we need to make sure they\\'re properly mapped before creating the matrices\\n# Since user and item IDs have been mapped in cell 20, we need to make sure\\n# train_data and test_data are using these mapped IDs\\ntrain_data_mapped = train_data.copy()\\ntest_data_mapped = test_data.copy()\\n\\n# Map user and item IDs if they haven\\'t already been mapped\\nif train_data_mapped[\"u\"].max() >= n_users or train_data_mapped[\"i\"].max() >= n_items:\\n    print(\"Mapping user and item IDs in train and test data...\")\\n    train_data_mapped[\"u\"] = train_data_mapped[\"u\"].map(user_id_mapping)\\n    train_data_mapped[\"i\"] = train_data_mapped[\"i\"].map(item_id_mapping)\\n    test_data_mapped[\"u\"] = test_data_mapped[\"u\"].map(user_id_mapping)\\n    test_data_mapped[\"i\"] = test_data_mapped[\"i\"].map(item_id_mapping)\\n\\n# Print shapes to understand the data dimensions\\nprint(f\"Number of unique users in mapped data: {train_data_mapped[\\'u\\'].nunique()}\")\\nprint(f\"Number of unique items in mapped data: {train_data_mapped[\\'i\\'].nunique()}\")\\nprint(f\"Shape of training data: {train_data_mapped.shape}\")\\nprint(f\"Shape of test data: {test_data_mapped.shape}\")\\n\\n# Create the matrices\\ntrain_data_matrix = create_data_matrix(train_data_mapped, n_users, n_items)\\ntest_data_matrix = create_data_matrix(test_data_mapped, n_users, n_items)\\n\\n# Quick check of the matrices\\nprint(f\"Shape of train matrix: {train_data_matrix.shape}\")\\nprint(f\"Shape of test matrix: {test_data_matrix.shape}\")\\nprint(f\"Number of non-zero entries in train matrix: {np.count_nonzero(train_data_matrix)}\")\\nprint(f\"Number of non-zero entries in test matrix: {np.count_nonzero(test_data_matrix)}\")'"
      ]
     },
     "execution_count": 130,
     "metadata": {},
     "output_type": "execute_result"
    }
   ],
   "source": [
    "'''# Check if train_data and test_data still have the original user and item IDs\n",
    "# If not, we need to make sure they're properly mapped before creating the matrices\n",
    "# Since user and item IDs have been mapped in cell 20, we need to make sure\n",
    "# train_data and test_data are using these mapped IDs\n",
    "train_data_mapped = train_data.copy()\n",
    "test_data_mapped = test_data.copy()\n",
    "\n",
    "''''''# Map user and item IDs if they haven't already been mapped\n",
    "if train_data_mapped[\"u\"].max() >= n_users or train_data_mapped[\"i\"].max() >= n_items:\n",
    "    print(\"Mapping user and item IDs in train and test data...\")\n",
    "    train_data_mapped[\"u\"] = train_data_mapped[\"u\"].map(user_id_mapping)\n",
    "    train_data_mapped[\"i\"] = train_data_mapped[\"i\"].map(item_id_mapping)\n",
    "    test_data_mapped[\"u\"] = test_data_mapped[\"u\"].map(user_id_mapping)\n",
    "    test_data_mapped[\"i\"] = test_data_mapped[\"i\"].map(item_id_mapping)''''''\n",
    "\n",
    "# Print shapes to understand the data dimensions\n",
    "print(f\"Number of unique users in mapped data: {train_data_mapped['u'].nunique()}\")\n",
    "print(f\"Number of unique items in mapped data: {train_data_mapped['i'].nunique()}\")\n",
    "print(f\"Shape of training data: {train_data_mapped.shape}\")\n",
    "print(f\"Shape of test data: {test_data_mapped.shape}\")\n",
    "\n",
    "# Create the matrices\n",
    "train_data_matrix = create_data_matrix(train_data_mapped, n_users, n_items)\n",
    "test_data_matrix = create_data_matrix(test_data_mapped, n_users, n_items)\n",
    "\n",
    "# Quick check of the matrices\n",
    "print(f\"Shape of train matrix: {train_data_matrix.shape}\")\n",
    "print(f\"Shape of test matrix: {test_data_matrix.shape}\")\n",
    "print(f\"Number of non-zero entries in train matrix: {np.count_nonzero(train_data_matrix)}\")\n",
    "print(f\"Number of non-zero entries in test matrix: {np.count_nonzero(test_data_matrix)}\")'''"
   ]
  },
  {
   "cell_type": "code",
   "execution_count": 131,
   "id": "38e94cc6",
   "metadata": {},
   "outputs": [
    {
     "name": "stdout",
     "output_type": "stream",
     "text": [
      "Shape of train matrix: (7838, 15109)\n",
      "Shape of test matrix: (7838, 15109)\n",
      "Number of non-zero entries in train matrix: 49689\n",
      "Train data size: 49689\n",
      "Number of non-zero entries in test matrix: 19409\n",
      "Test data size: 19409\n"
     ]
    }
   ],
   "source": [
    "def create_data_matrix(data, n_users, n_items):\n",
    "    \"\"\"\n",
    "    This function returns a numpy matrix with shape (n_users, n_items).\n",
    "    Each entry is a binary value indicating positive interaction.\n",
    "    \"\"\"\n",
    "    data_matrix = np.zeros((n_users, n_items))\n",
    "    for row in data.itertuples():\n",
    "        data_matrix[row.u, row.i] = 1  # Binary representation of interaction\n",
    "    return data_matrix\n",
    "\n",
    "\n",
    "\n",
    "# Map user and item IDs to zero-based indices\n",
    "user_id_mapping = {user_id: idx for idx, user_id in enumerate(interactions[\"u\"].unique())}\n",
    "item_id_mapping = {item_id: idx for idx, item_id in enumerate(interactions[\"i\"].unique())}\n",
    "\n",
    "interactions[\"u\"] = interactions[\"u\"].map(user_id_mapping)\n",
    "interactions[\"i\"] = interactions[\"i\"].map(item_id_mapping)\n",
    "\n",
    "# Split the data into training and testing sets\n",
    "interactions[\"pct_rank\"] = interactions.groupby(\"u\")[\"t\"].rank(pct=True, method='dense')\n",
    "train_data = interactions[interactions[\"pct_rank\"] < 0.8]\n",
    "test_data = interactions[interactions[\"pct_rank\"] >= 0.8]\n",
    "\n",
    "# Remove duplicate user-item pairs in train and test data\n",
    "train_data = train_data.drop_duplicates(subset=[\"u\", \"i\"])\n",
    "test_data = test_data.drop_duplicates(subset=[\"u\", \"i\"])\n",
    "\n",
    "# Get the number of unique users and items\n",
    "n_users = interactions[\"u\"].nunique()\n",
    "n_items = interactions[\"i\"].nunique()\n",
    "\n",
    "# Create the training and testing matrices\n",
    "train_data_matrix = create_data_matrix(train_data, n_users, n_items)\n",
    "test_data_matrix = create_data_matrix(test_data, n_users, n_items)\n",
    "\n",
    "# Print results\n",
    "print(f\"Shape of train matrix: {train_data_matrix.shape}\")\n",
    "print(f\"Shape of test matrix: {test_data_matrix.shape}\")\n",
    "print(f\"Number of non-zero entries in train matrix: {np.count_nonzero(train_data_matrix)}\")\n",
    "print(f\"Train data size: {train_data.shape[0]}\")\n",
    "print(f\"Number of non-zero entries in test matrix: {np.count_nonzero(test_data_matrix)}\")\n",
    "print(f\"Test data size: {test_data.shape[0]}\")"
   ]
  },
  {
   "cell_type": "markdown",
   "id": "0a52b159",
   "metadata": {},
   "source": [
    "### Step 2: Create the Training and Testing Matrices"
   ]
  },
  {
   "cell_type": "code",
   "execution_count": 132,
   "id": "d197edc6",
   "metadata": {},
   "outputs": [
    {
     "name": "stdout",
     "output_type": "stream",
     "text": [
      "train_data_matrix\n",
      "[[1. 0. 0. ... 0. 0. 0.]\n",
      " [0. 1. 0. ... 0. 0. 0.]\n",
      " [0. 0. 0. ... 0. 0. 0.]\n",
      " ...\n",
      " [0. 0. 0. ... 0. 0. 0.]\n",
      " [0. 0. 0. ... 0. 0. 0.]\n",
      " [0. 0. 0. ... 0. 0. 0.]]\n",
      "number of non-zero values:  49689.0\n",
      "test_data_matrix\n",
      "[[0. 0. 0. ... 0. 0. 0.]\n",
      " [0. 0. 0. ... 0. 0. 0.]\n",
      " [0. 0. 1. ... 0. 0. 0.]\n",
      " ...\n",
      " [0. 0. 0. ... 0. 0. 0.]\n",
      " [0. 0. 0. ... 0. 0. 0.]\n",
      " [0. 0. 0. ... 0. 0. 0.]]\n",
      "number of non-zero values:  19409.0\n"
     ]
    }
   ],
   "source": [
    "# Create the training and testing matrices\n",
    "\n",
    "# Display the matrices to understand their structure\n",
    "print('train_data_matrix')\n",
    "print(train_data_matrix)\n",
    "print(\"number of non-zero values: \", np.sum(train_data_matrix))\n",
    "print('test_data_matrix')\n",
    "print(test_data_matrix)\n",
    "print(\"number of non-zero values: \", np.sum(test_data_matrix))"
   ]
  },
  {
   "cell_type": "markdown",
   "id": "98e4e14e",
   "metadata": {},
   "source": [
    "### Step 3: Visualize the User-Item Interaction Matrices"
   ]
  },
  {
   "cell_type": "code",
   "execution_count": 136,
   "id": "16993b4e",
   "metadata": {},
   "outputs": [
    {
     "data": {
      "image/png": "[encoded data removed]",
      "text/plain": [
       "<Figure size 720x576 with 2 Axes>"
      ]
     },
     "metadata": {
      "needs_background": "light"
     },
     "output_type": "display_data"
    }
   ],
   "source": [
    "import matplotlib.pyplot as plt\n",
    "import seaborn as sns\n",
    "\n",
    "# Function to plot a heatmap for a subset of the user-item matrix\n",
    "def plot_interaction_heatmap(data_matrix, title, num_users=100, num_items=100):\n",
    "    \"\"\"\n",
    "    Plots a heatmap of a subset of the user-item interaction matrix.\n",
    "    Parameters:\n",
    "        data_matrix: The matrix to visualize.\n",
    "        title: The title of the plot.\n",
    "        num_users: The number of users to display (rows).\n",
    "        num_items: The number of items to display (columns).\n",
    "    \"\"\"\n",
    "    # Extract a subset of the matrix for visualization purposes\n",
    "    matrix_subset = data_matrix[:num_users, :num_items]\n",
    "\n",
    "    plt.figure(figsize=(10, 8))\n",
    "    sns.heatmap(matrix_subset, cmap=\"YlGnBu\", cbar=True, cbar_kws={'label': 'Interaction (1 = Positive, 0 = None)'})\n",
    "    plt.xlabel('Item ID')\n",
    "    plt.ylabel('User ID')\n",
    "    plt.title(title)\n",
    "    plt.show()\n",
    "\n",
    "# Visualize a subset of the training and testing matrices\n",
    "plot_interaction_heatmap(train_data_matrix, 'User-Item Interaction Matrix (Train Data)')"
   ]
  },
  {
   "cell_type": "markdown",
   "id": "4e9aecee",
   "metadata": {},
   "source": [
    "### Task 3: Item-to-Item Collaborative Filtering with Implicit Feedback"
   ]
  },
  {
   "cell_type": "code",
   "execution_count": 137,
   "id": "9ac94df9",
   "metadata": {},
   "outputs": [
    {
     "name": "stdout",
     "output_type": "stream",
     "text": [
      "Item-Item Similarity Matrix:\n",
      "[[1. 0. 0. ... 0. 0. 0.]\n",
      " [0. 1. 0. ... 0. 0. 0.]\n",
      " [0. 0. 1. ... 0. 0. 0.]\n",
      " ...\n",
      " [0. 0. 0. ... 1. 0. 0.]\n",
      " [0. 0. 0. ... 0. 0. 0.]\n",
      " [0. 0. 0. ... 0. 0. 0.]]\n",
      "(15109, 15109)\n"
     ]
    }
   ],
   "source": [
    "from sklearn.metrics.pairwise import cosine_similarity\n",
    "\n",
    "# Compute the item-item similarity matrix\n",
    "# Check sklearn documentation for cosine similarity to understand how we are\n",
    "# using this function.\n",
    "item_similarity = cosine_similarity(train_data_matrix.T)\n",
    "print(\"Item-Item Similarity Matrix:\")\n",
    "print(item_similarity)\n",
    "print(item_similarity.shape)\n"
   ]
  },
  {
   "cell_type": "code",
   "execution_count": 138,
   "id": "5e6045f0",
   "metadata": {},
   "outputs": [
    {
     "data": {
      "image/png": "[encoded data removed]",
      "text/plain": [
       "<Figure size 720x576 with 2 Axes>"
      ]
     },
     "metadata": {
      "needs_background": "light"
     },
     "output_type": "display_data"
    }
   ],
   "source": [
    "# Function to visualize the item similarity matrix\n",
    "def plot_item_similarity_heatmap(similarity_matrix, title, num_items=100):\n",
    "    \"\"\"\n",
    "    Plots a heatmap of a subset of the item similarity matrix.\n",
    "    Parameters:\n",
    "        similarity_matrix: The item-item similarity matrix.\n",
    "        title: The title of the plot.\n",
    "        num_items: The number of items to display (both rows and columns).\n",
    "    \"\"\"\n",
    "    # Extract a subset of the matrix for visualization\n",
    "    matrix_subset = similarity_matrix[:num_items, :num_items]\n",
    "\n",
    "    plt.figure(figsize=(10, 8))\n",
    "    sns.heatmap(matrix_subset, cmap=\"coolwarm\", cbar=True, cbar_kws={'label': 'Similarity Score'})\n",
    "    plt.xlabel('Item ID')\n",
    "    plt.ylabel('Item ID')\n",
    "    plt.title(title)\n",
    "    plt.show()\n",
    "\n",
    "# Visualize a subset of the item similarity matrix\n",
    "plot_item_similarity_heatmap(item_similarity, 'Item-Item Similarity Matrix')"
   ]
  },
  {
   "cell_type": "code",
   "execution_count": 139,
   "id": "f088bdc2",
   "metadata": {},
   "outputs": [
    {
     "name": "stdout",
     "output_type": "stream",
     "text": [
      "Predicted Interaction Matrix:\n",
      "[[0.38353488 0.         0.         ... 0.         0.         0.        ]\n",
      " [0.         0.10727351 0.         ... 0.         0.         0.        ]\n",
      " [0.         0.02088788 0.         ... 0.         0.         0.        ]\n",
      " ...\n",
      " [0.         0.         0.         ... 0.         0.         0.        ]\n",
      " [0.         0.         0.         ... 0.         0.         0.        ]\n",
      " [0.         0.         0.         ... 0.         0.         0.        ]]\n",
      "(7838, 15109)\n"
     ]
    }
   ],
   "source": [
    "import numpy as np\n",
    "\n",
    "# Define the function to predict interactions based on item similarity\n",
    "def item_based_predict(interactions, similarity, epsilon=1e-9):\n",
    "    \"\"\"\n",
    "    Predicts user-item interactions based on item-item similarity.\n",
    "    Parameters:\n",
    "        interactions (numpy array): The user-item interaction matrix.\n",
    "        similarity (numpy array): The item-item similarity matrix.\n",
    "        epsilon (float): Small constant added to the denominator to avoid division by zero.\n",
    "    Returns:\n",
    "        numpy array: The predicted interaction scores for each user-item pair.\n",
    "    \"\"\"\n",
    "    # np.dot does the matrix multiplication. Here we are calculating the\n",
    "    # weighted sum of interactions based on item similarity\n",
    "    pred = similarity.dot(interactions.T) / (similarity.sum(axis=1)[:, np.newaxis] + epsilon)\n",
    "    return pred.T  # Transpose to get users as rows and items as columns\n",
    "\n",
    "# Calculate the item-based predictions for positive interactions\n",
    "item_prediction = item_based_predict(train_data_matrix, item_similarity)\n",
    "print(\"Predicted Interaction Matrix:\")\n",
    "print(item_prediction)\n",
    "print(item_prediction.shape)"
   ]
  },
  {
   "cell_type": "code",
   "execution_count": 140,
   "id": "55b0dc0b",
   "metadata": {},
   "outputs": [
    {
     "data": {
      "image/png": "[encoded data removed]",
      "text/plain": [
       "<Figure size 720x576 with 2 Axes>"
      ]
     },
     "metadata": {
      "needs_background": "light"
     },
     "output_type": "display_data"
    }
   ],
   "source": [
    "# Function to visualize the predicted interaction matrix for a subset of users and items\n",
    "def plot_interaction_prediction_heatmap(prediction_matrix, title, num_users=50, num_items=50):\n",
    "    \"\"\"\n",
    "    Plots a heatmap of a subset of the user-item predicted interaction matrix.\n",
    "    Parameters:\n",
    "        prediction_matrix: The predicted interaction matrix.\n",
    "        title: The title of the plot.\n",
    "        num_users: The number of users to display (rows).\n",
    "        num_items: The number of items to display (columns).\n",
    "    \"\"\"\n",
    "    # Extract a subset of the matrix for visualization\n",
    "    matrix_subset = prediction_matrix[:num_users, :num_items]\n",
    "\n",
    "    plt.figure(figsize=(10, 8))\n",
    "    sns.heatmap(matrix_subset, cmap=\"YlGnBu\", cbar=True, cbar_kws={'label': 'Predicted Interaction Score'})\n",
    "    plt.xlabel('Item ID')\n",
    "    plt.ylabel('User ID')\n",
    "    plt.title(title)\n",
    "    plt.show()\n",
    "\n",
    "# Visualize a subset of the predicted interaction matrix\n",
    "plot_interaction_prediction_heatmap(item_prediction, 'User-Item Predicted Interaction Matrix')"
   ]
  },
  {
   "cell_type": "markdown",
   "id": "95103940",
   "metadata": {},
   "source": [
    "### Task 4: User-to-User Collaborative Filtering with Implicit Feedback"
   ]
  },
  {
   "cell_type": "code",
   "execution_count": 141,
   "id": "e24d3c92",
   "metadata": {},
   "outputs": [
    {
     "name": "stdout",
     "output_type": "stream",
     "text": [
      "User-User Similarity Matrix:\n",
      "[[1. 0. 0. ... 0. 0. 0.]\n",
      " [0. 1. 0. ... 0. 0. 0.]\n",
      " [0. 0. 1. ... 0. 0. 0.]\n",
      " ...\n",
      " [0. 0. 0. ... 1. 0. 0.]\n",
      " [0. 0. 0. ... 0. 1. 0.]\n",
      " [0. 0. 0. ... 0. 0. 1.]]\n",
      "Shape of User Similarity Matrix: (7838, 7838)\n"
     ]
    }
   ],
   "source": [
    "# Compute the user-user similarity matrix\n",
    "user_similarity = cosine_similarity(train_data_matrix)\n",
    "print(\"User-User Similarity Matrix:\")\n",
    "print(user_similarity)\n",
    "\n",
    "# Check the shape as a sanity check\n",
    "print(\"Shape of User Similarity Matrix:\", user_similarity.shape)"
   ]
  },
  {
   "cell_type": "code",
   "execution_count": 142,
   "id": "814e6837",
   "metadata": {},
   "outputs": [
    {
     "data": {
      "image/png": "[encoded data removed]",
      "text/plain": [
       "<Figure size 720x576 with 2 Axes>"
      ]
     },
     "metadata": {
      "needs_background": "light"
     },
     "output_type": "display_data"
    }
   ],
   "source": [
    "# Function to plot the user similarity matrix\n",
    "def plot_user_similarity_heatmap(similarity_matrix, title, num_users=50):\n",
    "    \"\"\"\n",
    "    Plots a heatmap of a subset of the user similarity matrix.\n",
    "    Parameters:\n",
    "        similarity_matrix: The user-user similarity matrix.\n",
    "        title: The title of the plot.\n",
    "        num_users: The number of users to display (both rows and columns).\n",
    "    \"\"\"\n",
    "    # Extract a subset of the matrix for visualization\n",
    "    matrix_subset = similarity_matrix[:num_users, :num_users]\n",
    "\n",
    "    plt.figure(figsize=(10, 8))\n",
    "    sns.heatmap(matrix_subset, cmap=\"coolwarm\", cbar=True, cbar_kws={'label': 'Similarity Score'})\n",
    "    plt.xlabel('User ID')\n",
    "    plt.ylabel('User ID')\n",
    "    plt.title(title)\n",
    "    plt.show()\n",
    "\n",
    "# Visualize a subset of the user similarity matrix\n",
    "plot_user_similarity_heatmap(user_similarity, 'User-User Similarity Matrix')"
   ]
  },
  {
   "cell_type": "code",
   "execution_count": 143,
   "id": "de4ac81a",
   "metadata": {},
   "outputs": [
    {
     "name": "stdout",
     "output_type": "stream",
     "text": [
      "Predicted Interaction Matrix (User-Based):\n",
      "[[0.39752194 0.         0.         ... 0.         0.         0.        ]\n",
      " [0.         0.15592095 0.         ... 0.         0.         0.        ]\n",
      " [0.         0.00475354 0.         ... 0.         0.         0.        ]\n",
      " ...\n",
      " [0.         0.         0.         ... 0.         0.         0.        ]\n",
      " [0.         0.         0.         ... 0.         0.         0.        ]\n",
      " [0.         0.         0.         ... 0.         0.         0.        ]]\n",
      "(7838, 15109)\n"
     ]
    }
   ],
   "source": [
    "# Define the function to predict interactions based on user similarity\n",
    "def user_based_predict(interactions, similarity, epsilon=1e-9):\n",
    "    \"\"\"\n",
    "    Predicts user-item interactions based on user-user similarity.\n",
    "    Parameters:\n",
    "        interactions (numpy array): The user-item interaction matrix.\n",
    "        similarity (numpy array): The user-user similarity matrix.\n",
    "        epsilon (float): Small constant added to the denominator to avoid division by zero.\n",
    "    Returns:\n",
    "        numpy array: The predicted interaction scores for each user-item pair.\n",
    "    \"\"\"\n",
    "    # Calculate the weighted sum of interactions based on user similarity\n",
    "    pred = similarity.dot(interactions) / (np.abs(similarity).sum(axis=1)[:, np.newaxis] + epsilon)\n",
    "    return pred\n",
    "\n",
    "# Calculate the user-based predictions for positive interactions\n",
    "user_prediction = user_based_predict(train_data_matrix, user_similarity)\n",
    "print(\"Predicted Interaction Matrix (User-Based):\")\n",
    "print(user_prediction)\n",
    "print(user_prediction.shape)"
   ]
  },
  {
   "cell_type": "code",
   "execution_count": 144,
   "id": "a0bd88c2",
   "metadata": {},
   "outputs": [
    {
     "data": {
      "image/png": "[encoded data removed]",
      "text/plain": [
       "<Figure size 720x576 with 2 Axes>"
      ]
     },
     "metadata": {
      "needs_background": "light"
     },
     "output_type": "display_data"
    }
   ],
   "source": [
    "# Function to visualize the predicted interaction matrix for a subset of users and items\n",
    "def plot_interaction_prediction_heatmap(prediction_matrix, title, num_users=50, num_items=50):\n",
    "    \"\"\"\n",
    "    Plots a heatmap of a subset of the user-item predicted interaction matrix.\n",
    "    Parameters:\n",
    "        prediction_matrix: The predicted interaction matrix.\n",
    "        title: The title of the plot.\n",
    "        num_users: The number of users to display (rows).\n",
    "        num_items: The number of items to display (columns).\n",
    "    \"\"\"\n",
    "    # Extract a subset of the matrix for visualization\n",
    "    matrix_subset = prediction_matrix[:num_users, :num_items]\n",
    "\n",
    "    plt.figure(figsize=(10, 8))\n",
    "    sns.heatmap(matrix_subset, cmap=\"YlGnBu\", cbar=True, cbar_kws={'label': 'Predicted Interaction Score'})\n",
    "    plt.xlabel('Item ID')\n",
    "    plt.ylabel('User ID')\n",
    "    plt.title(title)\n",
    "    plt.show()\n",
    "\n",
    "# Visualize a subset of the predicted interaction matrix\n",
    "plot_interaction_prediction_heatmap(user_prediction, 'User-Item Predicted Interaction Matrix (User-Based)')"
   ]
  },
  {
   "cell_type": "markdown",
   "id": "9c3b9379",
   "metadata": {},
   "source": [
    "### Task 5: Evaluating Our Recommenders"
   ]
  },
  {
   "cell_type": "code",
   "execution_count": 150,
   "id": "b08ff6a6",
   "metadata": {},
   "outputs": [],
   "source": [
    "def precision_recall_at_k(prediction, ground_truth, k=10):\n",
    "    \"\"\"\n",
    "    Calculates Precision@K and Recall@K for top-K recommendations.\n",
    "    Parameters:\n",
    "        prediction (numpy array): The predicted interaction matrix with scores.\n",
    "        ground_truth (numpy array): The ground truth interaction matrix (binary).\n",
    "        k (int): Number of top recommendations to consider.\n",
    "    Returns:\n",
    "        precision_at_k (float): The average precision@K over all users.\n",
    "        recall_at_k (float): The average recall@K over all users.\n",
    "    \"\"\"\n",
    "    num_users = prediction.shape[0]\n",
    "    precision_at_k, recall_at_k = 0, 0\n",
    "\n",
    "    for user in range(num_users):\n",
    "        # Get the indices of the top-K items for the user based on predicted scores\n",
    "        top_k_items = np.argsort(prediction[user, :])[-k:]\n",
    "\n",
    "        # Calculate the number of relevant items in the top-K items for the user\n",
    "        relevant_items_in_top_k = np.isin(top_k_items, np.where(ground_truth[user, :] == 1)[0]).sum()\n",
    "\n",
    "        # Calculate the total number of relevant items for the user\n",
    "        total_relevant_items = ground_truth[user, :].sum()\n",
    "\n",
    "        # Precision@K and Recall@K for this user\n",
    "        precision_at_k += relevant_items_in_top_k / k\n",
    "        recall_at_k += relevant_items_in_top_k / total_relevant_items if total_relevant_items > 0 else 0\n",
    "\n",
    "    # Average Precision@K and Recall@K over all users\n",
    "    precision_at_k /= num_users\n",
    "    recall_at_k /= num_users\n",
    "\n",
    "    return precision_at_k, recall_at_k"
   ]
  },
  {
   "cell_type": "code",
   "execution_count": 151,
   "id": "5558e75e",
   "metadata": {},
   "outputs": [
    {
     "name": "stdout",
     "output_type": "stream",
     "text": [
      "User-based CF Precision@K: 0.05649400357234276\n",
      "User-based CF Recall@K: 0.2905929584221169\n",
      "Item-based CF Precision@K: 0.05560091860168693\n",
      "Item-based CF Recall@K: 0.2638395861475305\n"
     ]
    }
   ],
   "source": [
    "# Run this line after implementing the function\n",
    "precision_user_k, recall_user_k = precision_recall_at_k(user_prediction, test_data_matrix, k=10)\n",
    "precision_item_k, recall_item_k = precision_recall_at_k(item_prediction, test_data_matrix, k=10)\n",
    "\n",
    "print('User-based CF Precision@K:', precision_user_k)\n",
    "print('User-based CF Recall@K:', recall_user_k)\n",
    "print('Item-based CF Precision@K:', precision_item_k)\n",
    "print('Item-based CF Recall@K:', recall_item_k)"
   ]
  },
  {
   "cell_type": "code",
   "execution_count": 152,
   "id": "a7c246ac",
   "metadata": {},
   "outputs": [
    {
     "name": "stdout",
     "output_type": "stream",
     "text": [
      "Selected User ID: 1081\n"
     ]
    },
    {
     "data": {
      "text/plain": [
       "array([13413,  1192, 14851, 11956,  9218,  7637,  2130,   492,  5557,\n",
       "       13484])"
      ]
     },
     "metadata": {},
     "output_type": "display_data"
    },
    {
     "data": {
      "text/plain": [
       "array([ 9818, 14851, 13413,  8559,  1192, 11956,  8972, 13298, 12049,\n",
       "        2814])"
      ]
     },
     "metadata": {},
     "output_type": "display_data"
    }
   ],
   "source": [
    "import random\n",
    "\n",
    "# Pick a user at random\n",
    "user_id = random.choice(range(user_prediction.shape[0]))\n",
    "print(\"Selected User ID:\", user_id)\n",
    "\n",
    "# Get top-10 recommendations for the user from User-to-User CF\n",
    "user_top_10 = np.argsort(user_prediction[user_id, :])[-10:][::-1]\n",
    "\n",
    "# Get top-10 recommendations for the user from Item-to-Item CF\n",
    "item_top_10 = np.argsort(item_prediction[user_id, :])[-10:][::-1]\n",
    "\n",
    "# Display top-10 recommended movie IDs for both models\n",
    "display(user_top_10)\n",
    "display(item_top_10)"
   ]
  },
  {
   "cell_type": "code",
   "execution_count": 153,
   "id": "39e89956",
   "metadata": {},
   "outputs": [
    {
     "ename": "NameError",
     "evalue": "name 'links' is not defined",
     "output_type": "error",
     "traceback": [
      "\u001b[0;31m---------------------------------------------------------------------------\u001b[0m",
      "\u001b[0;31mNameError\u001b[0m                                 Traceback (most recent call last)",
      "\u001b[0;32m/var/folders/f5/kfhjr6d55t3f6fpgzj_trt340000gn/T/ipykernel_6154/123660245.py\u001b[0m in \u001b[0;36m<module>\u001b[0;34m\u001b[0m\n\u001b[1;32m      4\u001b[0m \u001b[0;34m\u001b[0m\u001b[0m\n\u001b[1;32m      5\u001b[0m \u001b[0;31m# Merge with links_df to get the tmdbId\u001b[0m\u001b[0;34m\u001b[0m\u001b[0;34m\u001b[0m\u001b[0m\n\u001b[0;32m----> 6\u001b[0;31m \u001b[0muser_recommendations_df\u001b[0m \u001b[0;34m=\u001b[0m \u001b[0muser_top_10_df\u001b[0m\u001b[0;34m.\u001b[0m\u001b[0mmerge\u001b[0m\u001b[0;34m(\u001b[0m\u001b[0mlinks\u001b[0m\u001b[0;34m,\u001b[0m \u001b[0mleft_on\u001b[0m\u001b[0;34m=\u001b[0m\u001b[0;34m'movie_id'\u001b[0m\u001b[0;34m,\u001b[0m \u001b[0mright_on\u001b[0m\u001b[0;34m=\u001b[0m\u001b[0;34m'movie_id'\u001b[0m\u001b[0;34m)\u001b[0m\u001b[0;34m\u001b[0m\u001b[0;34m\u001b[0m\u001b[0m\n\u001b[0m\u001b[1;32m      7\u001b[0m \u001b[0mitem_recommendations_df\u001b[0m \u001b[0;34m=\u001b[0m \u001b[0mitem_top_10_df\u001b[0m\u001b[0;34m.\u001b[0m\u001b[0mmerge\u001b[0m\u001b[0;34m(\u001b[0m\u001b[0mlinks\u001b[0m\u001b[0;34m,\u001b[0m \u001b[0mleft_on\u001b[0m\u001b[0;34m=\u001b[0m\u001b[0;34m'movie_id'\u001b[0m\u001b[0;34m,\u001b[0m \u001b[0mright_on\u001b[0m\u001b[0;34m=\u001b[0m\u001b[0;34m'movie_id'\u001b[0m\u001b[0;34m)\u001b[0m\u001b[0;34m\u001b[0m\u001b[0;34m\u001b[0m\u001b[0m\n\u001b[1;32m      8\u001b[0m \u001b[0;34m\u001b[0m\u001b[0m\n",
      "\u001b[0;31mNameError\u001b[0m: name 'links' is not defined"
     ]
    }
   ],
   "source": [
    "# Convert user_top_10 and item_top_10 arrays into DataFrames\n",
    "user_top_10_df = pd.DataFrame({'movie_id': user_top_10})\n",
    "item_top_10_df = pd.DataFrame({'movie_id': item_top_10})\n",
    "\n",
    "# Merge with links_df to get the tmdbId\n",
    "user_recommendations_df = user_top_10_df.merge(links, left_on='movie_id', right_on='movie_id')\n",
    "item_recommendations_df = item_top_10_df.merge(links, left_on='movie_id', right_on='movie_id')\n",
    "\n",
    "# Merge with movies_df to add the title column\n",
    "user_recommendations_df = user_recommendations_df.merge(movies[['movie_id', 'title']], left_on='movie_id', right_on='movie_id')\n",
    "item_recommendations_df = item_recommendations_df.merge(movies[['movie_id', 'title']], left_on='movie_id', right_on='movie_id')\n",
    "\n",
    "# Select only the columns we want to display\n",
    "user_recommendations_df = user_recommendations_df[['movie_id', 'title', 'tmdbId']]\n",
    "item_recommendations_df = item_recommendations_df[['movie_id', 'title', 'tmdbId']]\n",
    "\n",
    "# Display the results\n",
    "display(user_recommendations_df)\n",
    "display(item_recommendations_df)"
   ]
  },
  {
   "cell_type": "code",
   "execution_count": null,
   "id": "7cb8e403",
   "metadata": {},
   "outputs": [],
   "source": []
  }
 ],
 "metadata": {
  "kernelspec": {
   "display_name": "base",
   "language": "python",
   "name": "python3"
  },
  "language_info": {
   "codemirror_mode": {
    "name": "ipython",
    "version": 3
   },
   "file_extension": ".py",
   "mimetype": "text/x-python",
   "name": "python",
   "nbconvert_exporter": "python",
   "pygments_lexer": "ipython3",
   "version": "3.9.7"
  }
 },
 "nbformat": 4,
 "nbformat_minor": 5
}
