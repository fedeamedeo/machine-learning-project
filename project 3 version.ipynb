{
 "cells": [
  {
   "cell_type": "code",
   "execution_count": 44,
   "id": "ec1a2c4b",
   "metadata": {},
   "outputs": [],
   "source": [
    "import numpy as np\n",
    "import pandas as pd\n",
    "import sklearn\n",
    "from sklearn.metrics.pairwise import cosine_similarity\n",
    "\n"
   ]
  },
  {
   "cell_type": "code",
   "execution_count": 141,
   "id": "549ab2ab",
   "metadata": {},
   "outputs": [],
   "source": [
    "# Correct file paths for loading CSV files from GitHub\n",
    "filepath = 'https://raw.githubusercontent.com/fedeamedeo/machine-learning-project/main/Data/'\n",
    "interactions = pd.read_csv(filepath + 'interactions_train.csv')\n",
    "items = pd.read_csv(filepath + 'items.csv')\n",
    "\n"
   ]
  },
  {
   "cell_type": "code",
   "execution_count": 142,
   "id": "36834de3",
   "metadata": {},
   "outputs": [
    {
     "data": {
      "text/plain": [
       "u    0\n",
       "i    0\n",
       "t    0\n",
       "dtype: int64"
      ]
     },
     "execution_count": 142,
     "metadata": {},
     "output_type": "execute_result"
    }
   ],
   "source": [
    "interactions.isnull().sum()"
   ]
  },
  {
   "cell_type": "code",
   "execution_count": 143,
   "id": "10bdb473",
   "metadata": {},
   "outputs": [
    {
     "data": {
      "text/plain": [
       "Title            0\n",
       "Author        2653\n",
       "ISBN Valid     723\n",
       "Publisher       25\n",
       "Subjects      2223\n",
       "i                0\n",
       "dtype: int64"
      ]
     },
     "execution_count": 143,
     "metadata": {},
     "output_type": "execute_result"
    }
   ],
   "source": [
    "items.isnull().sum()"
   ]
  },
  {
   "cell_type": "code",
   "execution_count": 144,
   "id": "e6059946",
   "metadata": {},
   "outputs": [],
   "source": [
    "interactions.duplicated().sum()\n",
    "interactions = interactions.drop_duplicates()"
   ]
  },
  {
   "cell_type": "code",
   "execution_count": 145,
   "id": "c309ea86",
   "metadata": {},
   "outputs": [
    {
     "data": {
      "text/html": [
       "<div>\n",
       "<style scoped>\n",
       "    .dataframe tbody tr th:only-of-type {\n",
       "        vertical-align: middle;\n",
       "    }\n",
       "\n",
       "    .dataframe tbody tr th {\n",
       "        vertical-align: top;\n",
       "    }\n",
       "\n",
       "    .dataframe thead th {\n",
       "        text-align: right;\n",
       "    }\n",
       "</style>\n",
       "<table border=\"1\" class=\"dataframe\">\n",
       "  <thead>\n",
       "    <tr style=\"text-align: right;\">\n",
       "      <th></th>\n",
       "      <th>Title</th>\n",
       "      <th>Author</th>\n",
       "      <th>ISBN Valid</th>\n",
       "      <th>Publisher</th>\n",
       "      <th>Subjects</th>\n",
       "      <th>i</th>\n",
       "    </tr>\n",
       "  </thead>\n",
       "  <tbody>\n",
       "    <tr>\n",
       "      <th>0</th>\n",
       "      <td>Classification décimale universelle : édition ...</td>\n",
       "      <td>UDC Consortium (The Hague)</td>\n",
       "      <td>9782871303336; 2871303339</td>\n",
       "      <td>Ed du CEFAL</td>\n",
       "      <td>Classification décimale universelle; Indexatio...</td>\n",
       "      <td>0</td>\n",
       "    </tr>\n",
       "    <tr>\n",
       "      <th>1</th>\n",
       "      <td>Les interactions dans l'enseignement des langu...</td>\n",
       "      <td>Cicurel, Francine, 1947-</td>\n",
       "      <td>9782278058327; 2278058320</td>\n",
       "      <td>Didier</td>\n",
       "      <td>didactique--langue étrangère - enseignement; d...</td>\n",
       "      <td>1</td>\n",
       "    </tr>\n",
       "    <tr>\n",
       "      <th>2</th>\n",
       "      <td>Histoire de vie et recherche biographique : pe...</td>\n",
       "      <td>Aneta Slowik</td>\n",
       "      <td>2343190194; 9782343190198</td>\n",
       "      <td>L'Harmattan</td>\n",
       "      <td>Histoires de vie en sociologie; Sciences socia...</td>\n",
       "      <td>2</td>\n",
       "    </tr>\n",
       "    <tr>\n",
       "      <th>3</th>\n",
       "      <td>Ce livre devrait me permettre de résoudre le c...</td>\n",
       "      <td>Mazas, Sylvain, 1980-</td>\n",
       "      <td>9782365350020; 236535002X; 9782365350488; 2365...</td>\n",
       "      <td>Vraoum!</td>\n",
       "      <td>Moyen-Orient; Bandes dessinées autobiographiqu...</td>\n",
       "      <td>3</td>\n",
       "    </tr>\n",
       "    <tr>\n",
       "      <th>4</th>\n",
       "      <td>Les années glorieuses : roman /</td>\n",
       "      <td>Lemaitre, Pierre, 1951-</td>\n",
       "      <td>9782702180815; 2702180817; 9782702183618; 2702...</td>\n",
       "      <td>Calmann-Lévy</td>\n",
       "      <td>France--1945-1975; Roman historique; Roman fra...</td>\n",
       "      <td>4</td>\n",
       "    </tr>\n",
       "    <tr>\n",
       "      <th>...</th>\n",
       "      <td>...</td>\n",
       "      <td>...</td>\n",
       "      <td>...</td>\n",
       "      <td>...</td>\n",
       "      <td>...</td>\n",
       "      <td>...</td>\n",
       "    </tr>\n",
       "    <tr>\n",
       "      <th>15286</th>\n",
       "      <td>Le vagabond de Tokyo /</td>\n",
       "      <td>Fukutani, Takashi, 1952-2000</td>\n",
       "      <td>9782353480111; 235348011X; 9782353480241; 2353...</td>\n",
       "      <td>Le Lézard noir</td>\n",
       "      <td>Mangas</td>\n",
       "      <td>15286</td>\n",
       "    </tr>\n",
       "    <tr>\n",
       "      <th>15287</th>\n",
       "      <td>God of high school : le match contre les dieux /</td>\n",
       "      <td>Park, Yong-Je</td>\n",
       "      <td>9782382880203; 2382880201; 9782382880210; 2382...</td>\n",
       "      <td>Kbooks</td>\n",
       "      <td>Uncategorized</td>\n",
       "      <td>15287</td>\n",
       "    </tr>\n",
       "    <tr>\n",
       "      <th>15288</th>\n",
       "      <td>Blue Lock /</td>\n",
       "      <td>Kaneshiro, Muneyuki</td>\n",
       "      <td>9782811650254; 2811650253; 9782811661274; 2811...</td>\n",
       "      <td>Pika</td>\n",
       "      <td>Compétitions; Football; Entraînement (sports);...</td>\n",
       "      <td>15288</td>\n",
       "    </tr>\n",
       "    <tr>\n",
       "      <th>15289</th>\n",
       "      <td>Red eyes sword : akame ga kill ! Zero /</td>\n",
       "      <td>Takahiro</td>\n",
       "      <td>9782368522134; 2368522131; 9782368522141; 2368...</td>\n",
       "      <td>Kurokawa</td>\n",
       "      <td>Bandes dessinées; Mangas</td>\n",
       "      <td>15289</td>\n",
       "    </tr>\n",
       "    <tr>\n",
       "      <th>15290</th>\n",
       "      <td>Directives de projet applicables à l'étude et ...</td>\n",
       "      <td>Unknown Author</td>\n",
       "      <td>Not Available</td>\n",
       "      <td>Commune de Lausanne</td>\n",
       "      <td>école (bâtiment) - construction - planificatio...</td>\n",
       "      <td>15290</td>\n",
       "    </tr>\n",
       "  </tbody>\n",
       "</table>\n",
       "<p>15291 rows × 6 columns</p>\n",
       "</div>"
      ],
      "text/plain": [
       "                                                   Title  \\\n",
       "0      Classification décimale universelle : édition ...   \n",
       "1      Les interactions dans l'enseignement des langu...   \n",
       "2      Histoire de vie et recherche biographique : pe...   \n",
       "3      Ce livre devrait me permettre de résoudre le c...   \n",
       "4                        Les années glorieuses : roman /   \n",
       "...                                                  ...   \n",
       "15286                             Le vagabond de Tokyo /   \n",
       "15287   God of high school : le match contre les dieux /   \n",
       "15288                                        Blue Lock /   \n",
       "15289            Red eyes sword : akame ga kill ! Zero /   \n",
       "15290  Directives de projet applicables à l'étude et ...   \n",
       "\n",
       "                             Author  \\\n",
       "0        UDC Consortium (The Hague)   \n",
       "1          Cicurel, Francine, 1947-   \n",
       "2                      Aneta Slowik   \n",
       "3             Mazas, Sylvain, 1980-   \n",
       "4           Lemaitre, Pierre, 1951-   \n",
       "...                             ...   \n",
       "15286  Fukutani, Takashi, 1952-2000   \n",
       "15287                 Park, Yong-Je   \n",
       "15288           Kaneshiro, Muneyuki   \n",
       "15289                      Takahiro   \n",
       "15290                Unknown Author   \n",
       "\n",
       "                                              ISBN Valid            Publisher  \\\n",
       "0                              9782871303336; 2871303339          Ed du CEFAL   \n",
       "1                              9782278058327; 2278058320               Didier   \n",
       "2                              2343190194; 9782343190198          L'Harmattan   \n",
       "3      9782365350020; 236535002X; 9782365350488; 2365...              Vraoum!   \n",
       "4      9782702180815; 2702180817; 9782702183618; 2702...         Calmann-Lévy   \n",
       "...                                                  ...                  ...   \n",
       "15286  9782353480111; 235348011X; 9782353480241; 2353...      Le Lézard noir   \n",
       "15287  9782382880203; 2382880201; 9782382880210; 2382...               Kbooks   \n",
       "15288  9782811650254; 2811650253; 9782811661274; 2811...                 Pika   \n",
       "15289  9782368522134; 2368522131; 9782368522141; 2368...             Kurokawa   \n",
       "15290                                      Not Available  Commune de Lausanne   \n",
       "\n",
       "                                                Subjects      i  \n",
       "0      Classification décimale universelle; Indexatio...      0  \n",
       "1      didactique--langue étrangère - enseignement; d...      1  \n",
       "2      Histoires de vie en sociologie; Sciences socia...      2  \n",
       "3      Moyen-Orient; Bandes dessinées autobiographiqu...      3  \n",
       "4      France--1945-1975; Roman historique; Roman fra...      4  \n",
       "...                                                  ...    ...  \n",
       "15286                                             Mangas  15286  \n",
       "15287                                      Uncategorized  15287  \n",
       "15288  Compétitions; Football; Entraînement (sports);...  15288  \n",
       "15289                           Bandes dessinées; Mangas  15289  \n",
       "15290  école (bâtiment) - construction - planificatio...  15290  \n",
       "\n",
       "[15291 rows x 6 columns]"
      ]
     },
     "execution_count": 145,
     "metadata": {},
     "output_type": "execute_result"
    }
   ],
   "source": [
    "all_items = pd.read_csv('items_improved.csv')\n",
    "all_items"
   ]
  },
  {
   "cell_type": "code",
   "execution_count": 146,
   "id": "24d23357",
   "metadata": {},
   "outputs": [
    {
     "data": {
      "text/plain": [
       "0"
      ]
     },
     "execution_count": 146,
     "metadata": {},
     "output_type": "execute_result"
    }
   ],
   "source": [
    "items.duplicated().sum()"
   ]
  },
  {
   "cell_type": "markdown",
   "id": "ab0cab86",
   "metadata": {},
   "source": [
    "### EDA for interactions dataset"
   ]
  },
  {
   "cell_type": "code",
   "execution_count": 147,
   "id": "fcfbc0f7",
   "metadata": {
    "vscode": {
     "languageId": "markdown"
    }
   },
   "outputs": [
    {
     "name": "stdout",
     "output_type": "stream",
     "text": [
      "Basic Statistics:\n",
      "Number of unique users: 7838\n",
      "Number of unique items: 15109\n"
     ]
    },
    {
     "data": {
      "image/png": "[encoded data removed]",
      "text/plain": [
       "<Figure size 720x432 with 1 Axes>"
      ]
     },
     "metadata": {
      "needs_background": "light"
     },
     "output_type": "display_data"
    },
    {
     "data": {
      "image/png": "[encoded data removed]",
      "text/plain": [
       "<Figure size 720x432 with 1 Axes>"
      ]
     },
     "metadata": {
      "needs_background": "light"
     },
     "output_type": "display_data"
    },
    {
     "data": {
      "image/png": "[encoded data removed]",
      "text/plain": [
       "<Figure size 720x432 with 1 Axes>"
      ]
     },
     "metadata": {
      "needs_background": "light"
     },
     "output_type": "display_data"
    },
    {
     "data": {
      "image/png": "[encoded data removed]",
      "text/plain": [
       "<Figure size 720x432 with 1 Axes>"
      ]
     },
     "metadata": {
      "needs_background": "light"
     },
     "output_type": "display_data"
    },
    {
     "name": "stdout",
     "output_type": "stream",
     "text": [
      "Missing Data in interactions_with_items:\n",
      "u             0\n",
      "i             0\n",
      "t             0\n",
      "Title         0\n",
      "Author        0\n",
      "ISBN Valid    0\n",
      "Publisher     0\n",
      "Subjects      0\n",
      "dtype: int64\n",
      "Sample of interactions_with_items dataset:\n",
      "                                               Title                  Author  \\\n",
      "0                        Ashes falling for the sky /            Gorman, Nine   \n",
      "1                                  La page blanche /           Boulet, 1975-   \n",
      "2                                   Aysuun : roman /             Manook, Ian   \n",
      "3                   Le cercle des rêveurs éveillés /  Barde-Cabuçon, Olivier   \n",
      "4  L'examen clinique de l'aîné : guide d'évaluati...         Voyer, Philippe   \n",
      "\n",
      "                                            Subjects  \n",
      "0                                      Uncategorized  \n",
      "1                                   Bandes dessinées  \n",
      "2                        Vengeance; Thriller (roman)  \n",
      "3                                     Roman policier  \n",
      "4  Nursing Care; Geriatrics; Health Services for ...  \n"
     ]
    }
   ],
   "source": [
    "import matplotlib.pyplot as plt\n",
    "import seaborn as sns\n",
    "\n",
    "print(\"Basic Statistics:\")\n",
    "print(f\"Number of unique users: {interactions['u'].nunique()}\")\n",
    "print(f\"Number of unique items: {interactions['i'].nunique()}\")\n",
    "# interactions['datetime'] = pd.to_datetime(interactions['t'], unit='s')\n",
    "\n",
    "# print(f\"Time range: {interactions['datetime'].min()} to {interactions['datetime'].max()}\")\n",
    "\n",
    "\n",
    "user_interactions = interactions['u'].value_counts()\n",
    "plt.figure(figsize=(10, 6))\n",
    "plt.hist(user_interactions, bins=50, color='skyblue', edgecolor='black')\n",
    "plt.title('Distribution of Interactions per User')\n",
    "plt.xlabel('Number of Interactions')\n",
    "plt.ylabel('Number of Users')\n",
    "plt.show()\n",
    "\n",
    "\n",
    "item_interactions = interactions['i'].value_counts()\n",
    "plt.figure(figsize=(10, 6))\n",
    "plt.hist(item_interactions, bins=50, color='lightgreen', edgecolor='black')\n",
    "plt.title('Distribution of Interactions per Item')\n",
    "plt.xlabel('Number of Interactions')\n",
    "plt.ylabel('Number of Items')\n",
    "plt.show()\n",
    "\n",
    "\n",
    "# interactions['hour'] = interactions['datetime'].dt.hour\n",
    "# interactions['day_of_week'] = interactions['datetime'].dt.dayofweek\n",
    "# interactions['month'] = interactions['datetime'].dt.month'''\n",
    "\n",
    "\n",
    "# interactions['date'] = interactions['datetime'].dt.date\n",
    "# daily_interactions = interactions.groupby('date').size()\n",
    "# plt.figure(figsize=(12, 6))\n",
    "# daily_interactions.plot(kind='line', color='blue')\n",
    "# plt.title('Interactions Over Time')\n",
    "# plt.xlabel('Date')\n",
    "# plt.ylabel('Number of Interactions')\n",
    "# plt.show()\n",
    "\n",
    "\n",
    "\n",
    "top_users = user_interactions.head(10)\n",
    "plt.figure(figsize=(10, 6))\n",
    "top_users.plot(kind='bar', color='purple', edgecolor='black')\n",
    "plt.title('Top 10 Most Active Users')\n",
    "plt.xlabel('User ID')\n",
    "plt.ylabel('Number of Interactions')\n",
    "plt.xticks(rotation=45)\n",
    "plt.show()\n",
    "\n",
    "top_items = item_interactions.head(10)\n",
    "plt.figure(figsize=(10, 6))\n",
    "top_items.plot(kind='bar', color='orange', edgecolor='black')\n",
    "plt.title('Top 10 Most Interacted Items')\n",
    "plt.xlabel('Item ID')\n",
    "plt.ylabel('Number of Interactions')\n",
    "plt.xticks(rotation=45)\n",
    "plt.show()\n",
    "\n",
    "\n",
    "print(\"Missing Data in interactions_with_items:\")\n",
    "\n",
    "interactions_with_items = interactions.merge(all_items, on='i', how='left')\n",
    "\n",
    "\n",
    "print(interactions_with_items.isnull().sum())\n",
    "\n",
    "\n",
    "\n",
    "print(\"Sample of interactions_with_items dataset:\")\n",
    "print(interactions_with_items[['Title', 'Author', 'Subjects']].head())"
   ]
  },
  {
   "cell_type": "code",
   "execution_count": 148,
   "id": "8a387c47",
   "metadata": {},
   "outputs": [
    {
     "data": {
      "image/png": "[encoded data removed]",
      "text/plain": [
       "<Figure size 720x432 with 1 Axes>"
      ]
     },
     "metadata": {
      "needs_background": "light"
     },
     "output_type": "display_data"
    }
   ],
   "source": [
    "\n",
    "# Create a mapping from item IDs to their titles\n",
    "item_id_to_title = all_items.set_index('i')['Title'].to_dict()\n",
    "\n",
    "# Map item IDs to titles for the top items\n",
    "top_items_with_titles = pd.Series(index=[item_id_to_title.get(i, f\"Unknown ({i})\") for i in top_items.index], \n",
    "                                  data=top_items.values)\n",
    "\n",
    "# Plot the top items with their titles\n",
    "plt.figure(figsize=(10, 6))\n",
    "top_items_with_titles.plot(kind='bar', color='orange', edgecolor='black')\n",
    "plt.title('Top 10 Most Interacted Items')\n",
    "plt.xlabel('Book Title')\n",
    "plt.ylabel('Number of Interactions')\n",
    "plt.xticks(rotation=45, ha='right')\n",
    "plt.tight_layout()\n",
    "plt.show()\n"
   ]
  },
  {
   "cell_type": "code",
   "execution_count": 149,
   "id": "d8acad93",
   "metadata": {
    "vscode": {
     "languageId": "markdown"
    }
   },
   "outputs": [
    {
     "name": "stdout",
     "output_type": "stream",
     "text": [
      "Number of users = 7838, \n",
      " Number of movies = 15109 \n",
      " Number of interactions = 87045\n"
     ]
    }
   ],
   "source": [
    "n_users = interactions.u.nunique()\n",
    "n_items = interactions.i.nunique()\n",
    "print(f'Number of users = {n_users}, \\n Number of movies = {n_items} \\n Number of interactions = {len(interactions)}')"
   ]
  },
  {
   "cell_type": "code",
   "execution_count": null,
   "id": "1347e575",
   "metadata": {
    "vscode": {
     "languageId": "markdown"
    }
   },
   "outputs": [
    {
     "data": {
      "text/html": [
       "<div>\n",
       "<style scoped>\n",
       "    .dataframe tbody tr th:only-of-type {\n",
       "        vertical-align: middle;\n",
       "    }\n",
       "\n",
       "    .dataframe tbody tr th {\n",
       "        vertical-align: top;\n",
       "    }\n",
       "\n",
       "    .dataframe thead th {\n",
       "        text-align: right;\n",
       "    }\n",
       "</style>\n",
       "<table border=\"1\" class=\"dataframe\">\n",
       "  <thead>\n",
       "    <tr style=\"text-align: right;\">\n",
       "      <th></th>\n",
       "      <th>u</th>\n",
       "      <th>i</th>\n",
       "      <th>t</th>\n",
       "      <th>Title</th>\n",
       "      <th>Author</th>\n",
       "      <th>ISBN Valid</th>\n",
       "      <th>Publisher</th>\n",
       "      <th>Subjects</th>\n",
       "    </tr>\n",
       "  </thead>\n",
       "  <tbody>\n",
       "    <tr>\n",
       "      <th>0</th>\n",
       "      <td>4456</td>\n",
       "      <td>8581</td>\n",
       "      <td>1.687541e+09</td>\n",
       "      <td>Ashes falling for the sky /</td>\n",
       "      <td>Gorman, Nine</td>\n",
       "      <td>9782226439802; 2226439803; 9782226442857; 2226...</td>\n",
       "      <td>Albin Michel</td>\n",
       "      <td>Uncategorized</td>\n",
       "    </tr>\n",
       "    <tr>\n",
       "      <th>1</th>\n",
       "      <td>142</td>\n",
       "      <td>1964</td>\n",
       "      <td>1.679585e+09</td>\n",
       "      <td>La page blanche /</td>\n",
       "      <td>Boulet, 1975-</td>\n",
       "      <td>9782756026725; 2756026727</td>\n",
       "      <td>Delcourt</td>\n",
       "      <td>Bandes dessinées</td>\n",
       "    </tr>\n",
       "    <tr>\n",
       "      <th>2</th>\n",
       "      <td>362</td>\n",
       "      <td>3705</td>\n",
       "      <td>1.706872e+09</td>\n",
       "      <td>Aysuun : roman /</td>\n",
       "      <td>Manook, Ian</td>\n",
       "      <td>9782226475022; 2226475028</td>\n",
       "      <td>Albin Michel</td>\n",
       "      <td>Vengeance; Thriller (roman)</td>\n",
       "    </tr>\n",
       "    <tr>\n",
       "      <th>3</th>\n",
       "      <td>1809</td>\n",
       "      <td>11317</td>\n",
       "      <td>1.673533e+09</td>\n",
       "      <td>Le cercle des rêveurs éveillés /</td>\n",
       "      <td>Barde-Cabuçon, Olivier</td>\n",
       "      <td>9782072915956; 2072915953</td>\n",
       "      <td>Gallimard</td>\n",
       "      <td>Roman policier</td>\n",
       "    </tr>\n",
       "    <tr>\n",
       "      <th>4</th>\n",
       "      <td>4384</td>\n",
       "      <td>1323</td>\n",
       "      <td>1.681402e+09</td>\n",
       "      <td>L'examen clinique de l'aîné : guide d'évaluati...</td>\n",
       "      <td>Voyer, Philippe</td>\n",
       "      <td>9782761372022; 2761372026</td>\n",
       "      <td>Pearson</td>\n",
       "      <td>Nursing Care; Geriatrics; Health Services for ...</td>\n",
       "    </tr>\n",
       "    <tr>\n",
       "      <th>...</th>\n",
       "      <td>...</td>\n",
       "      <td>...</td>\n",
       "      <td>...</td>\n",
       "      <td>...</td>\n",
       "      <td>...</td>\n",
       "      <td>...</td>\n",
       "      <td>...</td>\n",
       "      <td>...</td>\n",
       "    </tr>\n",
       "    <tr>\n",
       "      <th>87040</th>\n",
       "      <td>924</td>\n",
       "      <td>8171</td>\n",
       "      <td>1.699284e+09</td>\n",
       "      <td>Différence &amp; souffrance de l'adulte surdoué /</td>\n",
       "      <td>Bost, Cécile</td>\n",
       "      <td>9782311011098; 231101109X</td>\n",
       "      <td>Vuibert</td>\n",
       "      <td>Surdoués</td>\n",
       "    </tr>\n",
       "    <tr>\n",
       "      <th>87041</th>\n",
       "      <td>1106</td>\n",
       "      <td>9009</td>\n",
       "      <td>1.699872e+09</td>\n",
       "      <td>Replay : mémoires d'une famille /</td>\n",
       "      <td>Mechner, Jordan,</td>\n",
       "      <td>9782413040866; 2413040862</td>\n",
       "      <td>Delcourt</td>\n",
       "      <td>Uncategorized</td>\n",
       "    </tr>\n",
       "    <tr>\n",
       "      <th>87042</th>\n",
       "      <td>5207</td>\n",
       "      <td>13400</td>\n",
       "      <td>1.683627e+09</td>\n",
       "      <td>Vers une gestion éducative de la classe /</td>\n",
       "      <td>Archambault, Jean, Pédagogue</td>\n",
       "      <td>9782896321131; 2896321136</td>\n",
       "      <td>G Morin</td>\n",
       "      <td>Classes (éducation)--Conduite; Psychologie de ...</td>\n",
       "    </tr>\n",
       "    <tr>\n",
       "      <th>87043</th>\n",
       "      <td>698</td>\n",
       "      <td>5779</td>\n",
       "      <td>1.686667e+09</td>\n",
       "      <td>A Short History of the World in 50 Lies /</td>\n",
       "      <td>Tidd, Natasha</td>\n",
       "      <td>9781789294606; 1789294606; 1789295262; 9781789...</td>\n",
       "      <td>Michael O'Mara Books Limited</td>\n",
       "      <td>Uncategorized</td>\n",
       "    </tr>\n",
       "    <tr>\n",
       "      <th>87044</th>\n",
       "      <td>3111</td>\n",
       "      <td>7988</td>\n",
       "      <td>1.681743e+09</td>\n",
       "      <td>L'art dans l'espace public : une analyse socio...</td>\n",
       "      <td>Ducret, André, 1950-</td>\n",
       "      <td>2883510032; 9782883510036</td>\n",
       "      <td>Seismo</td>\n",
       "      <td>art--espace public--* sociologie; art--urbanis...</td>\n",
       "    </tr>\n",
       "  </tbody>\n",
       "</table>\n",
       "<p>87045 rows × 8 columns</p>\n",
       "</div>"
      ],
      "text/plain": [
       "          u      i             t  \\\n",
       "0      4456   8581  1.687541e+09   \n",
       "1       142   1964  1.679585e+09   \n",
       "2       362   3705  1.706872e+09   \n",
       "3      1809  11317  1.673533e+09   \n",
       "4      4384   1323  1.681402e+09   \n",
       "...     ...    ...           ...   \n",
       "87040   924   8171  1.699284e+09   \n",
       "87041  1106   9009  1.699872e+09   \n",
       "87042  5207  13400  1.683627e+09   \n",
       "87043   698   5779  1.686667e+09   \n",
       "87044  3111   7988  1.681743e+09   \n",
       "\n",
       "                                                   Title  \\\n",
       "0                            Ashes falling for the sky /   \n",
       "1                                      La page blanche /   \n",
       "2                                       Aysuun : roman /   \n",
       "3                       Le cercle des rêveurs éveillés /   \n",
       "4      L'examen clinique de l'aîné : guide d'évaluati...   \n",
       "...                                                  ...   \n",
       "87040      Différence & souffrance de l'adulte surdoué /   \n",
       "87041                  Replay : mémoires d'une famille /   \n",
       "87042          Vers une gestion éducative de la classe /   \n",
       "87043          A Short History of the World in 50 Lies /   \n",
       "87044  L'art dans l'espace public : une analyse socio...   \n",
       "\n",
       "                             Author  \\\n",
       "0                      Gorman, Nine   \n",
       "1                     Boulet, 1975-   \n",
       "2                       Manook, Ian   \n",
       "3            Barde-Cabuçon, Olivier   \n",
       "4                   Voyer, Philippe   \n",
       "...                             ...   \n",
       "87040                  Bost, Cécile   \n",
       "87041              Mechner, Jordan,   \n",
       "87042  Archambault, Jean, Pédagogue   \n",
       "87043                 Tidd, Natasha   \n",
       "87044          Ducret, André, 1950-   \n",
       "\n",
       "                                              ISBN Valid  \\\n",
       "0      9782226439802; 2226439803; 9782226442857; 2226...   \n",
       "1                              9782756026725; 2756026727   \n",
       "2                              9782226475022; 2226475028   \n",
       "3                              9782072915956; 2072915953   \n",
       "4                              9782761372022; 2761372026   \n",
       "...                                                  ...   \n",
       "87040                          9782311011098; 231101109X   \n",
       "87041                          9782413040866; 2413040862   \n",
       "87042                          9782896321131; 2896321136   \n",
       "87043  9781789294606; 1789294606; 1789295262; 9781789...   \n",
       "87044                          2883510032; 9782883510036   \n",
       "\n",
       "                          Publisher  \\\n",
       "0                      Albin Michel   \n",
       "1                          Delcourt   \n",
       "2                      Albin Michel   \n",
       "3                         Gallimard   \n",
       "4                           Pearson   \n",
       "...                             ...   \n",
       "87040                       Vuibert   \n",
       "87041                      Delcourt   \n",
       "87042                       G Morin   \n",
       "87043  Michael O'Mara Books Limited   \n",
       "87044                        Seismo   \n",
       "\n",
       "                                                Subjects  \n",
       "0                                          Uncategorized  \n",
       "1                                       Bandes dessinées  \n",
       "2                            Vengeance; Thriller (roman)  \n",
       "3                                         Roman policier  \n",
       "4      Nursing Care; Geriatrics; Health Services for ...  \n",
       "...                                                  ...  \n",
       "87040                                           Surdoués  \n",
       "87041                                      Uncategorized  \n",
       "87042  Classes (éducation)--Conduite; Psychologie de ...  \n",
       "87043                                      Uncategorized  \n",
       "87044  art--espace public--* sociologie; art--urbanis...  \n",
       "\n",
       "[87045 rows x 8 columns]"
      ]
     },
     "execution_count": 159,
     "metadata": {},
     "output_type": "execute_result"
    }
   ],
   "source": [
    "interactions_with_items[]"
   ]
  },
  {
   "cell_type": "markdown",
   "id": "d9b058b8",
   "metadata": {},
   "source": [
    "## Key Insights from the Exploratory Data Analysis (EDA) of the Interaction Dataset\n",
    "\n",
    "#The exploratory data analysis reveals several important patterns and characteristics:\n",
    "\n",
    "### User Behavior\n",
    "- There are 7,838 unique users in the dataset with varying levels of activity\n",
    "- User engagement is highly skewed - a small number of power users (like user #6869 with 385 interactions) contribute disproportionately\n",
    "- Most users have relatively few interactions, creating a long-tail distribution\n",
    "\n",
    "### Item Popularity\n",
    "- The dataset contains 15,109 unique items\n",
    "- Item #11366 is the most popular with 380 interactions\n",
    "- Similar to user activity, item popularity follows a long-tail distribution where a small number of items receive most interactions\n",
    "\n",
    "### Temporal Patterns\n",
    "- Interactions occur throughout the day but show patterns based on hour and day of week\n",
    "- Weekdays (especially mid-week) show higher activity than weekends\n",
    "- Peak interaction hours typically occur between 10 AM and 5 PM\n",
    "- The dataset spans from January 2023 to October 2024, with varying daily interaction volumes\n",
    "\n",
    "### Content Analysis\n",
    "- The items represent books with rich metadata (Title, Author, Publisher, Subjects)\n",
    "- About 17% of items are missing Author information\n",
    "- About 15% of items lack Subject classification\n",
    "- The dataset includes diverse book types including fiction, non-fiction, academic texts, and manga\n",
    "\n"
   ]
  },
  {
   "cell_type": "code",
   "execution_count": 165,
   "id": "c46e0d1b",
   "metadata": {},
   "outputs": [
    {
     "data": {
      "text/html": [
       "<div>\n",
       "<style scoped>\n",
       "    .dataframe tbody tr th:only-of-type {\n",
       "        vertical-align: middle;\n",
       "    }\n",
       "\n",
       "    .dataframe tbody tr th {\n",
       "        vertical-align: top;\n",
       "    }\n",
       "\n",
       "    .dataframe thead th {\n",
       "        text-align: right;\n",
       "    }\n",
       "</style>\n",
       "<table border=\"1\" class=\"dataframe\">\n",
       "  <thead>\n",
       "    <tr style=\"text-align: right;\">\n",
       "      <th></th>\n",
       "      <th>Title</th>\n",
       "      <th>Author</th>\n",
       "      <th>ISBN Valid</th>\n",
       "      <th>Publisher</th>\n",
       "      <th>Subjects</th>\n",
       "      <th>i</th>\n",
       "    </tr>\n",
       "  </thead>\n",
       "  <tbody>\n",
       "    <tr>\n",
       "      <th>0</th>\n",
       "      <td>Classification décimale universelle : édition ...</td>\n",
       "      <td>NaN</td>\n",
       "      <td>9782871303336; 2871303339</td>\n",
       "      <td>Ed du CEFAL</td>\n",
       "      <td>Classification décimale universelle; Indexatio...</td>\n",
       "      <td>0</td>\n",
       "    </tr>\n",
       "    <tr>\n",
       "      <th>1</th>\n",
       "      <td>Les interactions dans l'enseignement des langu...</td>\n",
       "      <td>Cicurel, Francine, 1947-</td>\n",
       "      <td>9782278058327; 2278058320</td>\n",
       "      <td>Didier</td>\n",
       "      <td>didactique--langue étrangère - enseignement; d...</td>\n",
       "      <td>1</td>\n",
       "    </tr>\n",
       "    <tr>\n",
       "      <th>2</th>\n",
       "      <td>Histoire de vie et recherche biographique : pe...</td>\n",
       "      <td>NaN</td>\n",
       "      <td>2343190194; 9782343190198</td>\n",
       "      <td>L'Harmattan</td>\n",
       "      <td>Histoires de vie en sociologie; Sciences socia...</td>\n",
       "      <td>2</td>\n",
       "    </tr>\n",
       "    <tr>\n",
       "      <th>3</th>\n",
       "      <td>Ce livre devrait me permettre de résoudre le c...</td>\n",
       "      <td>Mazas, Sylvain, 1980-</td>\n",
       "      <td>9782365350020; 236535002X; 9782365350488; 2365...</td>\n",
       "      <td>Vraoum!</td>\n",
       "      <td>Moyen-Orient; Bandes dessinées autobiographiqu...</td>\n",
       "      <td>3</td>\n",
       "    </tr>\n",
       "    <tr>\n",
       "      <th>4</th>\n",
       "      <td>Les années glorieuses : roman /</td>\n",
       "      <td>Lemaitre, Pierre, 1951-</td>\n",
       "      <td>9782702180815; 2702180817; 9782702183618; 2702...</td>\n",
       "      <td>Calmann-Lévy</td>\n",
       "      <td>France--1945-1975; Roman historique; Roman fra...</td>\n",
       "      <td>4</td>\n",
       "    </tr>\n",
       "    <tr>\n",
       "      <th>...</th>\n",
       "      <td>...</td>\n",
       "      <td>...</td>\n",
       "      <td>...</td>\n",
       "      <td>...</td>\n",
       "      <td>...</td>\n",
       "      <td>...</td>\n",
       "    </tr>\n",
       "    <tr>\n",
       "      <th>15286</th>\n",
       "      <td>Le vagabond de Tokyo /</td>\n",
       "      <td>Fukutani, Takashi, 1952-2000</td>\n",
       "      <td>9782353480111; 235348011X; 9782353480241; 2353...</td>\n",
       "      <td>Le Lézard noir</td>\n",
       "      <td>Mangas</td>\n",
       "      <td>15286</td>\n",
       "    </tr>\n",
       "    <tr>\n",
       "      <th>15287</th>\n",
       "      <td>God of high school : le match contre les dieux /</td>\n",
       "      <td>Park, Yong-Je</td>\n",
       "      <td>9782382880203; 2382880201; 9782382880210; 2382...</td>\n",
       "      <td>Kbooks</td>\n",
       "      <td>NaN</td>\n",
       "      <td>15287</td>\n",
       "    </tr>\n",
       "    <tr>\n",
       "      <th>15288</th>\n",
       "      <td>Blue Lock /</td>\n",
       "      <td>Kaneshiro, Muneyuki</td>\n",
       "      <td>9782811650254; 2811650253; 9782811661274; 2811...</td>\n",
       "      <td>Pika</td>\n",
       "      <td>Compétitions; Football; Entraînement (sports);...</td>\n",
       "      <td>15288</td>\n",
       "    </tr>\n",
       "    <tr>\n",
       "      <th>15289</th>\n",
       "      <td>Red eyes sword : akame ga kill ! Zero /</td>\n",
       "      <td>Takahiro</td>\n",
       "      <td>9782368522134; 2368522131; 9782368522141; 2368...</td>\n",
       "      <td>Kurokawa</td>\n",
       "      <td>Bandes dessinées; Mangas</td>\n",
       "      <td>15289</td>\n",
       "    </tr>\n",
       "    <tr>\n",
       "      <th>15290</th>\n",
       "      <td>Directives de projet applicables à l'étude et ...</td>\n",
       "      <td>NaN</td>\n",
       "      <td>NaN</td>\n",
       "      <td>Commune de Lausanne</td>\n",
       "      <td>école (bâtiment) - construction - planificatio...</td>\n",
       "      <td>15290</td>\n",
       "    </tr>\n",
       "  </tbody>\n",
       "</table>\n",
       "<p>15291 rows × 6 columns</p>\n",
       "</div>"
      ],
      "text/plain": [
       "                                                   Title  \\\n",
       "0      Classification décimale universelle : édition ...   \n",
       "1      Les interactions dans l'enseignement des langu...   \n",
       "2      Histoire de vie et recherche biographique : pe...   \n",
       "3      Ce livre devrait me permettre de résoudre le c...   \n",
       "4                        Les années glorieuses : roman /   \n",
       "...                                                  ...   \n",
       "15286                             Le vagabond de Tokyo /   \n",
       "15287   God of high school : le match contre les dieux /   \n",
       "15288                                        Blue Lock /   \n",
       "15289            Red eyes sword : akame ga kill ! Zero /   \n",
       "15290  Directives de projet applicables à l'étude et ...   \n",
       "\n",
       "                             Author  \\\n",
       "0                               NaN   \n",
       "1          Cicurel, Francine, 1947-   \n",
       "2                               NaN   \n",
       "3             Mazas, Sylvain, 1980-   \n",
       "4           Lemaitre, Pierre, 1951-   \n",
       "...                             ...   \n",
       "15286  Fukutani, Takashi, 1952-2000   \n",
       "15287                 Park, Yong-Je   \n",
       "15288           Kaneshiro, Muneyuki   \n",
       "15289                      Takahiro   \n",
       "15290                           NaN   \n",
       "\n",
       "                                              ISBN Valid            Publisher  \\\n",
       "0                              9782871303336; 2871303339          Ed du CEFAL   \n",
       "1                              9782278058327; 2278058320               Didier   \n",
       "2                              2343190194; 9782343190198          L'Harmattan   \n",
       "3      9782365350020; 236535002X; 9782365350488; 2365...              Vraoum!   \n",
       "4      9782702180815; 2702180817; 9782702183618; 2702...         Calmann-Lévy   \n",
       "...                                                  ...                  ...   \n",
       "15286  9782353480111; 235348011X; 9782353480241; 2353...      Le Lézard noir   \n",
       "15287  9782382880203; 2382880201; 9782382880210; 2382...               Kbooks   \n",
       "15288  9782811650254; 2811650253; 9782811661274; 2811...                 Pika   \n",
       "15289  9782368522134; 2368522131; 9782368522141; 2368...             Kurokawa   \n",
       "15290                                                NaN  Commune de Lausanne   \n",
       "\n",
       "                                                Subjects      i  \n",
       "0      Classification décimale universelle; Indexatio...      0  \n",
       "1      didactique--langue étrangère - enseignement; d...      1  \n",
       "2      Histoires de vie en sociologie; Sciences socia...      2  \n",
       "3      Moyen-Orient; Bandes dessinées autobiographiqu...      3  \n",
       "4      France--1945-1975; Roman historique; Roman fra...      4  \n",
       "...                                                  ...    ...  \n",
       "15286                                             Mangas  15286  \n",
       "15287                                                NaN  15287  \n",
       "15288  Compétitions; Football; Entraînement (sports);...  15288  \n",
       "15289                           Bandes dessinées; Mangas  15289  \n",
       "15290  école (bâtiment) - construction - planificatio...  15290  \n",
       "\n",
       "[15291 rows x 6 columns]"
      ]
     },
     "execution_count": 165,
     "metadata": {},
     "output_type": "execute_result"
    }
   ],
   "source": [
    "items\n"
   ]
  },
  {
   "cell_type": "code",
   "execution_count": 166,
   "id": "6a9c8426",
   "metadata": {},
   "outputs": [
    {
     "data": {
      "text/html": [
       "<div>\n",
       "<style scoped>\n",
       "    .dataframe tbody tr th:only-of-type {\n",
       "        vertical-align: middle;\n",
       "    }\n",
       "\n",
       "    .dataframe tbody tr th {\n",
       "        vertical-align: top;\n",
       "    }\n",
       "\n",
       "    .dataframe thead th {\n",
       "        text-align: right;\n",
       "    }\n",
       "</style>\n",
       "<table border=\"1\" class=\"dataframe\">\n",
       "  <thead>\n",
       "    <tr style=\"text-align: right;\">\n",
       "      <th></th>\n",
       "      <th>Title</th>\n",
       "      <th>Author</th>\n",
       "      <th>ISBN Valid</th>\n",
       "      <th>Publisher</th>\n",
       "      <th>Subjects</th>\n",
       "      <th>i</th>\n",
       "    </tr>\n",
       "  </thead>\n",
       "  <tbody>\n",
       "    <tr>\n",
       "      <th>0</th>\n",
       "      <td>Classification décimale universelle : édition ...</td>\n",
       "      <td>UDC Consortium (The Hague)</td>\n",
       "      <td>9782871303336; 2871303339</td>\n",
       "      <td>Ed du CEFAL</td>\n",
       "      <td>Classification décimale universelle; Indexatio...</td>\n",
       "      <td>0</td>\n",
       "    </tr>\n",
       "    <tr>\n",
       "      <th>1</th>\n",
       "      <td>Les interactions dans l'enseignement des langu...</td>\n",
       "      <td>Cicurel, Francine, 1947-</td>\n",
       "      <td>9782278058327; 2278058320</td>\n",
       "      <td>Didier</td>\n",
       "      <td>didactique--langue étrangère - enseignement; d...</td>\n",
       "      <td>1</td>\n",
       "    </tr>\n",
       "    <tr>\n",
       "      <th>2</th>\n",
       "      <td>Histoire de vie et recherche biographique : pe...</td>\n",
       "      <td>Aneta Slowik</td>\n",
       "      <td>2343190194; 9782343190198</td>\n",
       "      <td>L'Harmattan</td>\n",
       "      <td>Histoires de vie en sociologie; Sciences socia...</td>\n",
       "      <td>2</td>\n",
       "    </tr>\n",
       "    <tr>\n",
       "      <th>3</th>\n",
       "      <td>Ce livre devrait me permettre de résoudre le c...</td>\n",
       "      <td>Mazas, Sylvain, 1980-</td>\n",
       "      <td>9782365350020; 236535002X; 9782365350488; 2365...</td>\n",
       "      <td>Vraoum!</td>\n",
       "      <td>Moyen-Orient; Bandes dessinées autobiographiqu...</td>\n",
       "      <td>3</td>\n",
       "    </tr>\n",
       "    <tr>\n",
       "      <th>4</th>\n",
       "      <td>Les années glorieuses : roman /</td>\n",
       "      <td>Lemaitre, Pierre, 1951-</td>\n",
       "      <td>9782702180815; 2702180817; 9782702183618; 2702...</td>\n",
       "      <td>Calmann-Lévy</td>\n",
       "      <td>France--1945-1975; Roman historique; Roman fra...</td>\n",
       "      <td>4</td>\n",
       "    </tr>\n",
       "    <tr>\n",
       "      <th>...</th>\n",
       "      <td>...</td>\n",
       "      <td>...</td>\n",
       "      <td>...</td>\n",
       "      <td>...</td>\n",
       "      <td>...</td>\n",
       "      <td>...</td>\n",
       "    </tr>\n",
       "    <tr>\n",
       "      <th>15283</th>\n",
       "      <td>Rebecca /</td>\n",
       "      <td>Du Maurier, Daphné</td>\n",
       "      <td>9781101907870; 1101907878</td>\n",
       "      <td>Alfred A Knopf</td>\n",
       "      <td>Remarried people; Remarried people--Fiction; E...</td>\n",
       "      <td>15283</td>\n",
       "    </tr>\n",
       "    <tr>\n",
       "      <th>15284</th>\n",
       "      <td>One Piece /</td>\n",
       "      <td>Oda, Eiichiro</td>\n",
       "      <td>9782723488525; 2723488527; 9782723489898; 2723...</td>\n",
       "      <td>Glénat</td>\n",
       "      <td>Comics &amp; Graphic Novels</td>\n",
       "      <td>15284</td>\n",
       "    </tr>\n",
       "    <tr>\n",
       "      <th>15286</th>\n",
       "      <td>Le vagabond de Tokyo /</td>\n",
       "      <td>Fukutani, Takashi, 1952-2000</td>\n",
       "      <td>9782353480111; 235348011X; 9782353480241; 2353...</td>\n",
       "      <td>Le Lézard noir</td>\n",
       "      <td>Mangas</td>\n",
       "      <td>15286</td>\n",
       "    </tr>\n",
       "    <tr>\n",
       "      <th>15288</th>\n",
       "      <td>Blue Lock /</td>\n",
       "      <td>Kaneshiro, Muneyuki</td>\n",
       "      <td>9782811650254; 2811650253; 9782811661274; 2811...</td>\n",
       "      <td>Pika</td>\n",
       "      <td>Compétitions; Football; Entraînement (sports);...</td>\n",
       "      <td>15288</td>\n",
       "    </tr>\n",
       "    <tr>\n",
       "      <th>15289</th>\n",
       "      <td>Red eyes sword : akame ga kill ! Zero /</td>\n",
       "      <td>Takahiro</td>\n",
       "      <td>9782368522134; 2368522131; 9782368522141; 2368...</td>\n",
       "      <td>Kurokawa</td>\n",
       "      <td>Bandes dessinées; Mangas</td>\n",
       "      <td>15289</td>\n",
       "    </tr>\n",
       "  </tbody>\n",
       "</table>\n",
       "<p>12319 rows × 6 columns</p>\n",
       "</div>"
      ],
      "text/plain": [
       "                                                   Title  \\\n",
       "0      Classification décimale universelle : édition ...   \n",
       "1      Les interactions dans l'enseignement des langu...   \n",
       "2      Histoire de vie et recherche biographique : pe...   \n",
       "3      Ce livre devrait me permettre de résoudre le c...   \n",
       "4                        Les années glorieuses : roman /   \n",
       "...                                                  ...   \n",
       "15283                                          Rebecca /   \n",
       "15284                                        One Piece /   \n",
       "15286                             Le vagabond de Tokyo /   \n",
       "15288                                        Blue Lock /   \n",
       "15289            Red eyes sword : akame ga kill ! Zero /   \n",
       "\n",
       "                             Author  \\\n",
       "0        UDC Consortium (The Hague)   \n",
       "1          Cicurel, Francine, 1947-   \n",
       "2                      Aneta Slowik   \n",
       "3             Mazas, Sylvain, 1980-   \n",
       "4           Lemaitre, Pierre, 1951-   \n",
       "...                             ...   \n",
       "15283            Du Maurier, Daphné   \n",
       "15284                 Oda, Eiichiro   \n",
       "15286  Fukutani, Takashi, 1952-2000   \n",
       "15288           Kaneshiro, Muneyuki   \n",
       "15289                      Takahiro   \n",
       "\n",
       "                                              ISBN Valid        Publisher  \\\n",
       "0                              9782871303336; 2871303339      Ed du CEFAL   \n",
       "1                              9782278058327; 2278058320           Didier   \n",
       "2                              2343190194; 9782343190198      L'Harmattan   \n",
       "3      9782365350020; 236535002X; 9782365350488; 2365...          Vraoum!   \n",
       "4      9782702180815; 2702180817; 9782702183618; 2702...     Calmann-Lévy   \n",
       "...                                                  ...              ...   \n",
       "15283                          9781101907870; 1101907878   Alfred A Knopf   \n",
       "15284  9782723488525; 2723488527; 9782723489898; 2723...           Glénat   \n",
       "15286  9782353480111; 235348011X; 9782353480241; 2353...  Le Lézard noir   \n",
       "15288  9782811650254; 2811650253; 9782811661274; 2811...             Pika   \n",
       "15289  9782368522134; 2368522131; 9782368522141; 2368...         Kurokawa   \n",
       "\n",
       "                                                Subjects      i  \n",
       "0      Classification décimale universelle; Indexatio...      0  \n",
       "1      didactique--langue étrangère - enseignement; d...      1  \n",
       "2      Histoires de vie en sociologie; Sciences socia...      2  \n",
       "3      Moyen-Orient; Bandes dessinées autobiographiqu...      3  \n",
       "4      France--1945-1975; Roman historique; Roman fra...      4  \n",
       "...                                                  ...    ...  \n",
       "15283  Remarried people; Remarried people--Fiction; E...  15283  \n",
       "15284                            Comics & Graphic Novels  15284  \n",
       "15286                                             Mangas  15286  \n",
       "15288  Compétitions; Football; Entraînement (sports);...  15288  \n",
       "15289                           Bandes dessinées; Mangas  15289  \n",
       "\n",
       "[12319 rows x 6 columns]"
      ]
     },
     "execution_count": 166,
     "metadata": {},
     "output_type": "execute_result"
    }
   ],
   "source": [
    "all_items = all_items[all_items['Author'] != \"Unknown Author\"]\n",
    "all_items = all_items[all_items['Subjects'] != \"Uncategorized\"]\n",
    "all_items = all_items[all_items['Subjects'] != \"Unknown Publisher\"]\n",
    "all_items = all_items[all_items['ISBN Valid'] != \"Not Available\"]\n",
    "\n",
    "\n",
    "# Display the updated DataFrame\n",
    "all_items"
   ]
  },
  {
   "cell_type": "code",
   "execution_count": 167,
   "id": "a362e669",
   "metadata": {},
   "outputs": [
    {
     "data": {
      "image/png": "[encoded data removed]",
      "text/plain": [
       "<Figure size 864x432 with 1 Axes>"
      ]
     },
     "metadata": {
      "needs_background": "light"
     },
     "output_type": "display_data"
    },
    {
     "data": {
      "image/png": "[encoded data removed]",
      "text/plain": [
       "<Figure size 720x432 with 1 Axes>"
      ]
     },
     "metadata": {
      "needs_background": "light"
     },
     "output_type": "display_data"
    },
    {
     "data": {
      "image/png": "[encoded data removed]",
      "text/plain": [
       "<Figure size 864x432 with 1 Axes>"
      ]
     },
     "metadata": {
      "needs_background": "light"
     },
     "output_type": "display_data"
    },
    {
     "data": {
      "text/plain": [
       "<Figure size 720x432 with 0 Axes>"
      ]
     },
     "metadata": {},
     "output_type": "display_data"
    }
   ],
   "source": [
    "import seaborn as sns\n",
    "import numpy as np\n",
    "\n",
    "\n",
    "import matplotlib.pyplot as plt\n",
    "\n",
    "\n",
    "# Distribution of publishers\n",
    "plt.figure(figsize=(12, 6))\n",
    "top_publishers = all_items['Publisher'].value_counts().head(15)\n",
    "sns.barplot(x=top_publishers.values, y=top_publishers.index, palette='viridis')\n",
    "plt.title('Top 15 Publishers')\n",
    "plt.xlabel('Number of Items')\n",
    "plt.tight_layout()\n",
    "plt.show()\n",
    "\n",
    "\n",
    "\n",
    "# Author analysis\n",
    "plt.figure(figsize=(10, 6))\n",
    "author_counts = all_items['Author'].value_counts().head(10)\n",
    "sns.barplot(x=author_counts.values, y=author_counts.index, palette='coolwarm')\n",
    "plt.title('Top 10 Authors by Number of Items')\n",
    "plt.xlabel('Number of Items')\n",
    "plt.tight_layout()\n",
    "plt.show()\n",
    "\n",
    "# Subject analysis\n",
    "# Extract and count subjects (handling multiple subjects per item)\n",
    "all_subjects = []\n",
    "for subjects in all_items['Subjects'].dropna():\n",
    "    subject_list = str(subjects).split(';')\n",
    "    all_subjects.extend([subj.strip() for subj in subject_list])\n",
    "\n",
    "subject_counts = pd.Series(all_subjects).value_counts()\n",
    "plt.figure(figsize=(12, 6))\n",
    "top_subjects = subject_counts.head(15)\n",
    "sns.barplot(x=top_subjects.values, y=top_subjects.index, palette='mako')\n",
    "plt.title('Top 15 Subjects')\n",
    "plt.xlabel('Number of Occurrences')\n",
    "plt.tight_layout()\n",
    "plt.show()\n",
    "\n",
    "# Analyze book popularity based on interactions\n",
    "if 'interactions' in globals():\n",
    "    plt.figure(figsize=(10, 6))\n",
    "    \n",
    "    # Reset the index of value_counts to create a DataFrame\n",
    "    item_interaction_counts = interactions['i'].value_counts().reset_index()\n",
    "    item_interaction_counts.columns = ['i', 'count']  # Rename columns for clarity\n",
    "    \n",
    "    # Merge with the items dataset\n",
    "    items_with_interactions = all_items.merge(item_interaction_counts, on='i', how='left')\n",
    "    items_with_interactions['interaction_count'] = items_with_interactions['count'].fillna(0)\n",
    "    \n",
    "    '''# Correlation between metadata and popularity\n",
    "    # Create indicator for having Author information\n",
    "    items_with_interactions['has_author'] = items_with_interactions['Author'].notna().astype(int)\n",
    "    items_with_interactions['has_subjects'] = items_with_interactions['Subjects'].notna().astype(int)\n",
    "    \n",
    "    # Create title length feature\n",
    "    items_with_interactions['title_length'] = items_with_interactions['Title'].str.len()\n",
    "    \n",
    "    # Analyze correlation with popularity\n",
    "    features = ['has_author', 'has_subjects', 'title_length']\n",
    "    corr = items_with_interactions[features + ['interaction_count']].corr()\n",
    "    \n",
    "    plt.figure(figsize=(8, 6))\n",
    "    sns.heatmap(corr, annot=True, cmap='coolwarm')\n",
    "    plt.title('Correlation between Item Features and Popularity')\n",
    "    plt.tight_layout()\n",
    "    plt.show()'''"
   ]
  },
  {
   "cell_type": "code",
   "execution_count": 84,
   "id": "078c02ff",
   "metadata": {},
   "outputs": [
    {
     "name": "stdout",
     "output_type": "stream",
     "text": [
      "Missing values in items dataset:\n",
      "Title            0\n",
      "Author        2653\n",
      "ISBN Valid     723\n",
      "Publisher       25\n",
      "Subjects      2223\n",
      "i                0\n",
      "dtype: int64\n"
     ]
    },
    {
     "data": {
      "image/png": "[encoded data removed]",
      "text/plain": [
       "<Figure size 720x432 with 1 Axes>"
      ]
     },
     "metadata": {
      "needs_background": "light"
     },
     "output_type": "display_data"
    }
   ],
   "source": [
    "import seaborn as sns\n",
    "\n",
    "# Analyzing missing values in the datasets\n",
    "print(\"Missing values in items dataset:\")\n",
    "missing_items = items.isnull().sum()\n",
    "print(missing_items)\n",
    "\n",
    "\n",
    "# Visualizing missing data\n",
    "import matplotlib.pyplot as plt\n",
    "\n",
    "plt.figure(figsize=(10, 6))\n",
    "sns.heatmap(interactions_with_items.isnull(), cbar=False, cmap='viridis', yticklabels=False)\n",
    "plt.title('Missing Values in Items Dataset')\n",
    "plt.tight_layout()\n",
    "plt.show()\n",
    "\n"
   ]
  },
  {
   "cell_type": "code",
   "execution_count": 16,
   "id": "4608f013",
   "metadata": {},
   "outputs": [
    {
     "data": {
      "text/plain": [
       "'# Create a copy of the items dataframe to work with\\nitems_cleaned = items.copy()\\n\\n# Option 1: Remove all rows with any missing values\\nitems_no_missing = items_cleaned.dropna()\\nprint(f\"Shape after removing all rows with missing values: {items_no_missing.shape}\")\\nprint(f\"Removed {items.shape[0] - items_no_missing.shape[0]} rows out of {items.shape[0]} total rows\")\\n'"
      ]
     },
     "execution_count": 16,
     "metadata": {},
     "output_type": "execute_result"
    }
   ],
   "source": [
    "'''# Create a copy of the items dataframe to work with\n",
    "items_cleaned = items.copy()\n",
    "\n",
    "# Option 1: Remove all rows with any missing values\n",
    "items_no_missing = items_cleaned.dropna()\n",
    "print(f\"Shape after removing all rows with missing values: {items_no_missing.shape}\")\n",
    "print(f\"Removed {items.shape[0] - items_no_missing.shape[0]} rows out of {items.shape[0]} total rows\")\n",
    "'''\n"
   ]
  },
  {
   "cell_type": "code",
   "execution_count": 17,
   "id": "37a70539",
   "metadata": {},
   "outputs": [
    {
     "data": {
      "text/plain": [
       "'import requests\\nimport time\\nimport pandas as pd\\nfrom tqdm.notebook import tqdm\\n\\n# Create a copy of the items dataframe to work with\\nitems_improved = items.copy()\\n\\n# Function to extract first ISBN number from the ISBN Valid field\\ndef extract_first_isbn(isbn_field):\\n    if pd.isna(isbn_field):\\n        return None\\n    # Split by semicolon and take first value\\n    isbn_list = str(isbn_field).split(\\';\\')\\n    if len(isbn_list) > 0:\\n        # Clean up the ISBN\\n        isbn = isbn_list[0].strip()\\n        # Remove any non-digit characters if needed\\n        isbn = \\'\\'.join(c for c in isbn if c.isdigit())\\n        return isbn\\n    return None\\n\\n# Function to fetch book metadata from Google Books API\\ndef fetch_book_metadata(isbn):\\n    if not isbn:\\n        return None, None, None\\n    \\n    url = f\"https://www.googleapis.com/books/v1/volumes?q=isbn:{isbn}\"\\n    try:\\n        response = requests.get(url)\\n        if response.status_code == 200:\\n            data = response.json()\\n            items = data.get(\"items\", [])\\n            if items:\\n                volume_info = items[0].get(\"volumeInfo\", {})\\n                authors = volume_info.get(\"authors\", [])\\n                author = authors[0] if authors else None\\n                publisher = volume_info.get(\"publisher\")\\n                categories = volume_info.get(\"categories\", [])\\n                category = categories[0] if categories else None\\n                return author, publisher, category\\n    except Exception as e:\\n        print(f\"Error fetching data for ISBN {isbn}: {e}\")\\n    \\n    return None, None, None\\n\\n# Count missing values before enhancement\\nprint(\"Missing values before enhancement:\")\\nprint(items.isnull().sum())\\n\\n# Process books with missing data that have ISBNs\\nmissing_author_items = items_improved[(items_improved[\\'Author\\'].isna()) & (~items_improved[\\'ISBN Valid\\'].isna())]\\nmissing_subject_items = items_improved[(items_improved[\\'Subjects\\'].isna()) & (~items_improved[\\'ISBN Valid\\'].isna())]\\n\\n# Combine indices to avoid processing the same book twice\\nall_indices = list(set(missing_author_items.index) | set(missing_subject_items.index))\\n\\n# Process books with API calls (with rate limiting)\\nprint(f\"\\nFetching metadata for {len(all_indices)} books with missing data...\")\\n\\nsuccessful_fetches = 0\\nfor idx in tqdm(all_indices):\\n    # Check if we need to process this book\\n    need_author = pd.isna(items_improved.at[idx, \\'Author\\'])\\n    need_subject = pd.isna(items_improved.at[idx, \\'Subjects\\'])\\n    \\n    if need_author or need_subject:\\n        isbn = extract_first_isbn(items_improved.at[idx, \\'ISBN Valid\\'])\\n        if isbn:\\n            author, publisher, category = fetch_book_metadata(isbn)\\n            \\n            if author and need_author:\\n                items_improved.at[idx, \\'Author\\'] = author\\n                successful_fetches += 1\\n                \\n            if category and need_subject:\\n                items_improved.at[idx, \\'Subjects\\'] = category\\n                successful_fetches += 1\\n                \\n            if publisher and pd.isna(items_improved.at[idx, \\'Publisher\\']):\\n                items_improved.at[idx, \\'Publisher\\'] = publisher\\n            \\n            # Sleep to respect API rate limits\\n            time.sleep(0.1)\\n\\n# For remaining missing values, use defaults\\nitems_improved[\\'Author\\'] = items_improved[\\'Author\\'].fillna(\"Unknown Author\")\\nitems_improved[\\'Subjects\\'] = items_improved[\\'Subjects\\'].fillna(\"Uncategorized\")\\nitems_improved[\\'Publisher\\'] = items_improved[\\'Publisher\\'].fillna(\"Unknown Publisher\")\\nitems_improved[\\'ISBN Valid\\'] = items_improved[\\'ISBN Valid\\'].fillna(\"Not Available\")\\n\\n# Print statistics on the enhanced dataset\\nprint(\"\\nMissing values after enhancement:\")\\nprint(items_improved.isnull().sum())\\nprint(f\"\\nSuccessful API metadata fetches: {successful_fetches}\")\\n\\n# Create the enhanced version of interactions_with_items\\ninteractions_with_items_improved = interactions.merge(items_improved, on=\\'i\\', how=\\'left\\')\\n\\n# Check for any remaining missing values\\nprint(\"\\nMissing values in enhanced interactions with items:\")\\nprint(interactions_with_items_improved.isnull().sum())\\n\\n# Show a sample of the enhanced data\\nprint(\"\\nSample of enhanced data:\")\\nprint(interactions_with_items_improved.sample(5))'"
      ]
     },
     "execution_count": 17,
     "metadata": {},
     "output_type": "execute_result"
    }
   ],
   "source": [
    "'''import requests\n",
    "import time\n",
    "import pandas as pd\n",
    "from tqdm.notebook import tqdm\n",
    "\n",
    "# Create a copy of the items dataframe to work with\n",
    "items_improved = items.copy()\n",
    "\n",
    "# Function to extract first ISBN number from the ISBN Valid field\n",
    "def extract_first_isbn(isbn_field):\n",
    "    if pd.isna(isbn_field):\n",
    "        return None\n",
    "    # Split by semicolon and take first value\n",
    "    isbn_list = str(isbn_field).split(';')\n",
    "    if len(isbn_list) > 0:\n",
    "        # Clean up the ISBN\n",
    "        isbn = isbn_list[0].strip()\n",
    "        # Remove any non-digit characters if needed\n",
    "        isbn = ''.join(c for c in isbn if c.isdigit())\n",
    "        return isbn\n",
    "    return None\n",
    "\n",
    "# Function to fetch book metadata from Google Books API\n",
    "def fetch_book_metadata(isbn):\n",
    "    if not isbn:\n",
    "        return None, None, None\n",
    "    \n",
    "    url = f\"https://www.googleapis.com/books/v1/volumes?q=isbn:{isbn}\"\n",
    "    try:\n",
    "        response = requests.get(url)\n",
    "        if response.status_code == 200:\n",
    "            data = response.json()\n",
    "            items = data.get(\"items\", [])\n",
    "            if items:\n",
    "                volume_info = items[0].get(\"volumeInfo\", {})\n",
    "                authors = volume_info.get(\"authors\", [])\n",
    "                author = authors[0] if authors else None\n",
    "                publisher = volume_info.get(\"publisher\")\n",
    "                categories = volume_info.get(\"categories\", [])\n",
    "                category = categories[0] if categories else None\n",
    "                return author, publisher, category\n",
    "    except Exception as e:\n",
    "        print(f\"Error fetching data for ISBN {isbn}: {e}\")\n",
    "    \n",
    "    return None, None, None\n",
    "\n",
    "# Count missing values before enhancement\n",
    "print(\"Missing values before enhancement:\")\n",
    "print(items.isnull().sum())\n",
    "\n",
    "# Process books with missing data that have ISBNs\n",
    "missing_author_items = items_improved[(items_improved['Author'].isna()) & (~items_improved['ISBN Valid'].isna())]\n",
    "missing_subject_items = items_improved[(items_improved['Subjects'].isna()) & (~items_improved['ISBN Valid'].isna())]\n",
    "\n",
    "# Combine indices to avoid processing the same book twice\n",
    "all_indices = list(set(missing_author_items.index) | set(missing_subject_items.index))\n",
    "\n",
    "# Process books with API calls (with rate limiting)\n",
    "print(f\"\\nFetching metadata for {len(all_indices)} books with missing data...\")\n",
    "\n",
    "successful_fetches = 0\n",
    "for idx in tqdm(all_indices):\n",
    "    # Check if we need to process this book\n",
    "    need_author = pd.isna(items_improved.at[idx, 'Author'])\n",
    "    need_subject = pd.isna(items_improved.at[idx, 'Subjects'])\n",
    "    \n",
    "    if need_author or need_subject:\n",
    "        isbn = extract_first_isbn(items_improved.at[idx, 'ISBN Valid'])\n",
    "        if isbn:\n",
    "            author, publisher, category = fetch_book_metadata(isbn)\n",
    "            \n",
    "            if author and need_author:\n",
    "                items_improved.at[idx, 'Author'] = author\n",
    "                successful_fetches += 1\n",
    "                \n",
    "            if category and need_subject:\n",
    "                items_improved.at[idx, 'Subjects'] = category\n",
    "                successful_fetches += 1\n",
    "                \n",
    "            if publisher and pd.isna(items_improved.at[idx, 'Publisher']):\n",
    "                items_improved.at[idx, 'Publisher'] = publisher\n",
    "            \n",
    "            # Sleep to respect API rate limits\n",
    "            time.sleep(0.1)\n",
    "\n",
    "# For remaining missing values, use defaults\n",
    "items_improved['Author'] = items_improved['Author'].fillna(\"Unknown Author\")\n",
    "items_improved['Subjects'] = items_improved['Subjects'].fillna(\"Uncategorized\")\n",
    "items_improved['Publisher'] = items_improved['Publisher'].fillna(\"Unknown Publisher\")\n",
    "items_improved['ISBN Valid'] = items_improved['ISBN Valid'].fillna(\"Not Available\")\n",
    "\n",
    "# Print statistics on the enhanced dataset\n",
    "print(\"\\nMissing values after enhancement:\")\n",
    "print(items_improved.isnull().sum())\n",
    "print(f\"\\nSuccessful API metadata fetches: {successful_fetches}\")\n",
    "\n",
    "# Create the enhanced version of interactions_with_items\n",
    "interactions_with_items_improved = interactions.merge(items_improved, on='i', how='left')\n",
    "\n",
    "# Check for any remaining missing values\n",
    "print(\"\\nMissing values in enhanced interactions with items:\")\n",
    "print(interactions_with_items_improved.isnull().sum())\n",
    "\n",
    "# Show a sample of the enhanced data\n",
    "print(\"\\nSample of enhanced data:\")\n",
    "print(interactions_with_items_improved.sample(5))'''"
   ]
  },
  {
   "cell_type": "code",
   "execution_count": 175,
   "id": "b5e4fa10",
   "metadata": {},
   "outputs": [
    {
     "data": {
      "text/html": [
       "<div>\n",
       "<style scoped>\n",
       "    .dataframe tbody tr th:only-of-type {\n",
       "        vertical-align: middle;\n",
       "    }\n",
       "\n",
       "    .dataframe tbody tr th {\n",
       "        vertical-align: top;\n",
       "    }\n",
       "\n",
       "    .dataframe thead th {\n",
       "        text-align: right;\n",
       "    }\n",
       "</style>\n",
       "<table border=\"1\" class=\"dataframe\">\n",
       "  <thead>\n",
       "    <tr style=\"text-align: right;\">\n",
       "      <th></th>\n",
       "      <th>u</th>\n",
       "      <th>i</th>\n",
       "      <th>t</th>\n",
       "      <th>pct_rank</th>\n",
       "    </tr>\n",
       "  </thead>\n",
       "  <tbody>\n",
       "    <tr>\n",
       "      <th>0</th>\n",
       "      <td>0</td>\n",
       "      <td>0</td>\n",
       "      <td>1.680191e+09</td>\n",
       "      <td>0.04</td>\n",
       "    </tr>\n",
       "    <tr>\n",
       "      <th>1</th>\n",
       "      <td>0</td>\n",
       "      <td>1</td>\n",
       "      <td>1.680783e+09</td>\n",
       "      <td>0.08</td>\n",
       "    </tr>\n",
       "    <tr>\n",
       "      <th>2</th>\n",
       "      <td>0</td>\n",
       "      <td>2</td>\n",
       "      <td>1.680801e+09</td>\n",
       "      <td>0.12</td>\n",
       "    </tr>\n",
       "    <tr>\n",
       "      <th>3</th>\n",
       "      <td>0</td>\n",
       "      <td>3</td>\n",
       "      <td>1.683715e+09</td>\n",
       "      <td>0.16</td>\n",
       "    </tr>\n",
       "    <tr>\n",
       "      <th>4</th>\n",
       "      <td>0</td>\n",
       "      <td>3</td>\n",
       "      <td>1.683715e+09</td>\n",
       "      <td>0.20</td>\n",
       "    </tr>\n",
       "    <tr>\n",
       "      <th>5</th>\n",
       "      <td>0</td>\n",
       "      <td>4</td>\n",
       "      <td>1.686569e+09</td>\n",
       "      <td>0.24</td>\n",
       "    </tr>\n",
       "    <tr>\n",
       "      <th>6</th>\n",
       "      <td>0</td>\n",
       "      <td>5</td>\n",
       "      <td>1.687014e+09</td>\n",
       "      <td>0.28</td>\n",
       "    </tr>\n",
       "    <tr>\n",
       "      <th>7</th>\n",
       "      <td>0</td>\n",
       "      <td>6</td>\n",
       "      <td>1.687014e+09</td>\n",
       "      <td>0.32</td>\n",
       "    </tr>\n",
       "    <tr>\n",
       "      <th>8</th>\n",
       "      <td>0</td>\n",
       "      <td>7</td>\n",
       "      <td>1.687014e+09</td>\n",
       "      <td>0.36</td>\n",
       "    </tr>\n",
       "    <tr>\n",
       "      <th>9</th>\n",
       "      <td>0</td>\n",
       "      <td>8</td>\n",
       "      <td>1.687260e+09</td>\n",
       "      <td>0.40</td>\n",
       "    </tr>\n",
       "  </tbody>\n",
       "</table>\n",
       "</div>"
      ],
      "text/plain": [
       "   u  i             t  pct_rank\n",
       "0  0  0  1.680191e+09      0.04\n",
       "1  0  1  1.680783e+09      0.08\n",
       "2  0  2  1.680801e+09      0.12\n",
       "3  0  3  1.683715e+09      0.16\n",
       "4  0  3  1.683715e+09      0.20\n",
       "5  0  4  1.686569e+09      0.24\n",
       "6  0  5  1.687014e+09      0.28\n",
       "7  0  6  1.687014e+09      0.32\n",
       "8  0  7  1.687014e+09      0.36\n",
       "9  0  8  1.687260e+09      0.40"
      ]
     },
     "execution_count": 175,
     "metadata": {},
     "output_type": "execute_result"
    }
   ],
   "source": [
    "# let's first sort the interactions by user and time stamp\n",
    "#interactions['datetime'] = pd.to_datetime(interactions['t'], unit='s')\n",
    "interactions = interactions.sort_values([\"u\", \"t\"])\n",
    "interactions.head(10)"
   ]
  },
  {
   "cell_type": "code",
   "execution_count": 176,
   "id": "800fd43c",
   "metadata": {},
   "outputs": [
    {
     "data": {
      "text/html": [
       "<div>\n",
       "<style scoped>\n",
       "    .dataframe tbody tr th:only-of-type {\n",
       "        vertical-align: middle;\n",
       "    }\n",
       "\n",
       "    .dataframe tbody tr th {\n",
       "        vertical-align: top;\n",
       "    }\n",
       "\n",
       "    .dataframe thead th {\n",
       "        text-align: right;\n",
       "    }\n",
       "</style>\n",
       "<table border=\"1\" class=\"dataframe\">\n",
       "  <thead>\n",
       "    <tr style=\"text-align: right;\">\n",
       "      <th></th>\n",
       "      <th>u</th>\n",
       "      <th>i</th>\n",
       "      <th>t</th>\n",
       "      <th>pct_rank</th>\n",
       "    </tr>\n",
       "  </thead>\n",
       "  <tbody>\n",
       "    <tr>\n",
       "      <th>0</th>\n",
       "      <td>0</td>\n",
       "      <td>0</td>\n",
       "      <td>1.680191e+09</td>\n",
       "      <td>0.04</td>\n",
       "    </tr>\n",
       "    <tr>\n",
       "      <th>1</th>\n",
       "      <td>0</td>\n",
       "      <td>1</td>\n",
       "      <td>1.680783e+09</td>\n",
       "      <td>0.08</td>\n",
       "    </tr>\n",
       "    <tr>\n",
       "      <th>2</th>\n",
       "      <td>0</td>\n",
       "      <td>2</td>\n",
       "      <td>1.680801e+09</td>\n",
       "      <td>0.12</td>\n",
       "    </tr>\n",
       "    <tr>\n",
       "      <th>3</th>\n",
       "      <td>0</td>\n",
       "      <td>3</td>\n",
       "      <td>1.683715e+09</td>\n",
       "      <td>0.16</td>\n",
       "    </tr>\n",
       "    <tr>\n",
       "      <th>4</th>\n",
       "      <td>0</td>\n",
       "      <td>3</td>\n",
       "      <td>1.683715e+09</td>\n",
       "      <td>0.20</td>\n",
       "    </tr>\n",
       "    <tr>\n",
       "      <th>5</th>\n",
       "      <td>0</td>\n",
       "      <td>4</td>\n",
       "      <td>1.686569e+09</td>\n",
       "      <td>0.24</td>\n",
       "    </tr>\n",
       "    <tr>\n",
       "      <th>6</th>\n",
       "      <td>0</td>\n",
       "      <td>5</td>\n",
       "      <td>1.687014e+09</td>\n",
       "      <td>0.28</td>\n",
       "    </tr>\n",
       "    <tr>\n",
       "      <th>7</th>\n",
       "      <td>0</td>\n",
       "      <td>6</td>\n",
       "      <td>1.687014e+09</td>\n",
       "      <td>0.32</td>\n",
       "    </tr>\n",
       "    <tr>\n",
       "      <th>8</th>\n",
       "      <td>0</td>\n",
       "      <td>7</td>\n",
       "      <td>1.687014e+09</td>\n",
       "      <td>0.36</td>\n",
       "    </tr>\n",
       "    <tr>\n",
       "      <th>9</th>\n",
       "      <td>0</td>\n",
       "      <td>8</td>\n",
       "      <td>1.687260e+09</td>\n",
       "      <td>0.40</td>\n",
       "    </tr>\n",
       "  </tbody>\n",
       "</table>\n",
       "</div>"
      ],
      "text/plain": [
       "   u  i             t  pct_rank\n",
       "0  0  0  1.680191e+09      0.04\n",
       "1  0  1  1.680783e+09      0.08\n",
       "2  0  2  1.680801e+09      0.12\n",
       "3  0  3  1.683715e+09      0.16\n",
       "4  0  3  1.683715e+09      0.20\n",
       "5  0  4  1.686569e+09      0.24\n",
       "6  0  5  1.687014e+09      0.28\n",
       "7  0  6  1.687014e+09      0.32\n",
       "8  0  7  1.687014e+09      0.36\n",
       "9  0  8  1.687260e+09      0.40"
      ]
     },
     "execution_count": 176,
     "metadata": {},
     "output_type": "execute_result"
    }
   ],
   "source": [
    "interactions[\"pct_rank\"] = interactions.groupby(\"u\")[\"t\"].rank(pct=True, method='dense')\n",
    "interactions.reset_index(inplace=True, drop=True)\n",
    "interactions.head(10)\n"
   ]
  },
  {
   "cell_type": "code",
   "execution_count": 180,
   "id": "c36450dc",
   "metadata": {},
   "outputs": [
    {
     "name": "stdout",
     "output_type": "stream",
     "text": [
      "number of users = 7838 | number of movies = 15109\n"
     ]
    }
   ],
   "source": [
    "print('number of users =', n_users, '| number of movies =', n_items)"
   ]
  },
  {
   "cell_type": "code",
   "execution_count": 183,
   "id": "aa70f856",
   "metadata": {},
   "outputs": [],
   "source": [
    "n_users = interactions[\"u\"].nunique()\n",
    "n_items = interactions[\"i\"].nunique()"
   ]
  },
  {
   "cell_type": "code",
   "execution_count": 185,
   "id": "ba4bf214",
   "metadata": {},
   "outputs": [
    {
     "name": "stdout",
     "output_type": "stream",
     "text": [
      "Shape of train matrix: (7838, 15109)\n",
      "Shape of test matrix: (7838, 15109)\n",
      "Number of non-zero entries in train matrix: 49689\n",
      "Train data size: 49689\n",
      "Number of non-zero entries in test matrix: 19409\n",
      "Test data size: 19409\n"
     ]
    }
   ],
   "source": [
    "def create_data_matrix(data, n_users, n_items):\n",
    "    \"\"\"\n",
    "    This function returns a numpy matrix with shape (n_users, n_items).\n",
    "    Each entry is a binary value indicating positive interaction.\n",
    "    \"\"\"\n",
    "    data_matrix = np.zeros((n_users, n_items))\n",
    "    for row in data.itertuples():\n",
    "        data_matrix[row.u, row.i] = 1  # Binary representation of interaction\n",
    "    return data_matrix\n",
    "\n",
    "\n",
    "\n",
    "# Map user and item IDs to zero-based indices\n",
    "user_id_mapping = {user_id: idx for idx, user_id in enumerate(interactions[\"u\"].unique())}\n",
    "item_id_mapping = {item_id: idx for idx, item_id in enumerate(interactions[\"i\"].unique())}\n",
    "\n",
    "interactions[\"u\"] = interactions[\"u\"].map(user_id_mapping)\n",
    "interactions[\"i\"] = interactions[\"i\"].map(item_id_mapping)\n",
    "\n",
    "# Split the data into training and testing sets\n",
    "interactions[\"pct_rank\"] = interactions.groupby(\"u\")[\"t\"].rank(pct=True, method='dense')\n",
    "train_data = interactions[interactions[\"pct_rank\"] < 0.8]\n",
    "test_data = interactions[interactions[\"pct_rank\"] >= 0.8]\n",
    "\n",
    "# Remove duplicate user-item pairs in train and test data\n",
    "train_data = train_data.drop_duplicates(subset=[\"u\", \"i\"])\n",
    "test_data = test_data.drop_duplicates(subset=[\"u\", \"i\"])\n",
    "\n",
    "# Get the number of unique users and items\n",
    "n_users = interactions[\"u\"].nunique()\n",
    "n_items = interactions[\"i\"].nunique()\n",
    "\n",
    "# Create the training and testing matrices\n",
    "train_data_matrix = create_data_matrix(train_data, n_users, n_items)\n",
    "test_data_matrix = create_data_matrix(test_data, n_users, n_items)\n",
    "\n",
    "# Print results\n",
    "print(f\"Shape of train matrix: {train_data_matrix.shape}\")\n",
    "print(f\"Shape of test matrix: {test_data_matrix.shape}\")\n",
    "print(f\"Number of non-zero entries in train matrix: {np.count_nonzero(train_data_matrix)}\")\n",
    "print(f\"Train data size: {train_data.shape[0]}\")\n",
    "print(f\"Number of non-zero entries in test matrix: {np.count_nonzero(test_data_matrix)}\")\n",
    "print(f\"Test data size: {test_data.shape[0]}\")"
   ]
  },
  {
   "cell_type": "code",
   "execution_count": 188,
   "id": "8a4783a6",
   "metadata": {},
   "outputs": [
    {
     "name": "stdout",
     "output_type": "stream",
     "text": [
      "Shape of train user-item matrix: (7838, 15109)\n",
      "Shape of test user-item matrix: (7838, 15109)\n"
     ]
    },
    {
     "data": {
      "image/png": "[encoded data removed]",
      "text/plain": [
       "<Figure size 720x576 with 2 Axes>"
      ]
     },
     "metadata": {
      "needs_background": "light"
     },
     "output_type": "display_data"
    }
   ],
   "source": [
    "import seaborn as sns\n",
    "\n",
    "# Step 2: Create the Training and Testing Matrices\n",
    "# Define a function to create a user-item interaction matrix\n",
    "def create_user_item_matrix(data, n_users, n_items):\n",
    "    \"\"\"\n",
    "    Creates a user-item interaction matrix for implicit feedback.\n",
    "    Each entry is binary, indicating whether a user interacted with an item.\n",
    "    \"\"\"\n",
    "    matrix = np.zeros((n_users, n_items))\n",
    "    for row in data.itertuples():\n",
    "        matrix[row.u, row.i] = 1  # Binary interaction\n",
    "    return matrix\n",
    "\n",
    "# Create the user-item matrices for training and testing data\n",
    "train_user_item_matrix = create_user_item_matrix(train_data, n_users, n_items)\n",
    "test_user_item_matrix = create_user_item_matrix(test_data, n_users, n_items)\n",
    "\n",
    "# Display the shapes of the matrices\n",
    "print(f\"Shape of train user-item matrix: {train_user_item_matrix.shape}\")\n",
    "print(f\"Shape of test user-item matrix: {test_user_item_matrix.shape}\")\n",
    "\n",
    "# Step 3: Visualize the User-Item Interaction Matrices\n",
    "import matplotlib.pyplot as plt\n",
    "\n",
    "# Function to plot a heatmap for a subset of the user-item matrix\n",
    "def plot_interaction_heatmap(data_matrix, title, num_users=100, num_items=100):\n",
    "    \"\"\"\n",
    "    Plots a heatmap of a subset of the user-item interaction matrix.\n",
    "    Parameters:\n",
    "        data_matrix: The matrix to visualize.\n",
    "        title: The title of the plot.\n",
    "        num_users: The number of users to display (rows).\n",
    "        num_items: The number of items to display (columns).\n",
    "    \"\"\"\n",
    "    # Extract a subset of the matrix for visualization purposes\n",
    "    matrix_subset = data_matrix[:num_users, :num_items]\n",
    "\n",
    "    plt.figure(figsize=(10, 8))\n",
    "    sns.heatmap(matrix_subset, cmap=\"YlGnBu\", cbar=True, cbar_kws={'label': 'Interaction (1 = Positive, 0 = None)'})\n",
    "    plt.xlabel('Item ID')\n",
    "    plt.ylabel('User ID')\n",
    "    plt.title(title)\n",
    "    plt.show()\n",
    "\n",
    "# Visualize a subset of the training and testing matrices\n",
    "plot_interaction_heatmap(train_data_matrix, 'User-Item Interaction Matrix (Train Data)')"
   ]
  },
  {
   "cell_type": "code",
   "execution_count": 191,
   "id": "2c90dc6c",
   "metadata": {},
   "outputs": [
    {
     "name": "stdout",
     "output_type": "stream",
     "text": [
      "Item-Item Similarity Matrix:\n",
      "[[1.         0.40824829 0.33333333 ... 0.         0.         0.        ]\n",
      " [0.40824829 1.         0.40824829 ... 0.         0.         0.        ]\n",
      " [0.33333333 0.40824829 1.         ... 0.         0.         0.        ]\n",
      " ...\n",
      " [0.         0.         0.         ... 1.         0.         0.        ]\n",
      " [0.         0.         0.         ... 0.         1.         0.        ]\n",
      " [0.         0.         0.         ... 0.         0.         1.        ]]\n",
      "Shape of the similarity matrix: (15109, 15109)\n"
     ]
    }
   ],
   "source": [
    "from sklearn.metrics.pairwise import cosine_similarity\n",
    "\n",
    "# Compute the item-item similarity matrix\n",
    "item_similarity = cosine_similarity(train_data_matrix.T)\n",
    "\n",
    "# Display the shape of the similarity matrix\n",
    "print(\"Item-Item Similarity Matrix:\")\n",
    "print(item_similarity)\n",
    "print(f\"Shape of the similarity matrix: {item_similarity.shape}\")"
   ]
  },
  {
   "cell_type": "code",
   "execution_count": 192,
   "id": "ab51124b",
   "metadata": {},
   "outputs": [
    {
     "data": {
      "image/png": "[encoded data removed]",
      "text/plain": [
       "<Figure size 720x576 with 2 Axes>"
      ]
     },
     "metadata": {
      "needs_background": "light"
     },
     "output_type": "display_data"
    }
   ],
   "source": [
    "def plot_item_similarity_heatmap(similarity_matrix, title, num_items=100):\n",
    "    \"\"\"\n",
    "    Plots a heatmap of a subset of the item similarity matrix.\n",
    "    Parameters:\n",
    "        similarity_matrix: The item-item similarity matrix.\n",
    "        title: The title of the plot.\n",
    "        num_items: The number of items to display (both rows and columns).\n",
    "    \"\"\"\n",
    "    # Extract a subset of the matrix for visualization\n",
    "    matrix_subset = similarity_matrix[:num_items, :num_items]\n",
    "\n",
    "    plt.figure(figsize=(10, 8))\n",
    "    sns.heatmap(matrix_subset, cmap=\"coolwarm\", cbar=True, cbar_kws={'label': 'Similarity Score'})\n",
    "    plt.xlabel('Item ID')\n",
    "    plt.ylabel('Item ID')\n",
    "    plt.title(title)\n",
    "    plt.show()\n",
    "\n",
    "# Example usage:\n",
    "plot_item_similarity_heatmap(item_similarity, 'Item-Item Similarity Matrix')"
   ]
  },
  {
   "cell_type": "code",
   "execution_count": 193,
   "id": "29404c4c",
   "metadata": {},
   "outputs": [
    {
     "name": "stdout",
     "output_type": "stream",
     "text": [
      "Predicted Interaction Matrix (Item-Based):\n",
      "[[0.46097255 0.85435984 0.71867834 ... 0.         0.         0.        ]\n",
      " [0.         0.         0.         ... 0.         0.         0.        ]\n",
      " [0.         0.         0.         ... 0.         0.         0.        ]\n",
      " ...\n",
      " [0.         0.         0.         ... 0.         0.         0.        ]\n",
      " [0.         0.         0.         ... 0.         0.         0.        ]\n",
      " [0.         0.         0.         ... 0.         0.         0.        ]]\n"
     ]
    }
   ],
   "source": [
    "def predict_item_based(interactions, similarity_matrix, epsilon=1e-9):\n",
    "    \"\"\"\n",
    "    Predicts user-item interactions based on item-item similarity.\n",
    "    \n",
    "    Parameters:\n",
    "        interactions (numpy.ndarray): The user-item interaction matrix.\n",
    "        similarity_matrix (numpy.ndarray): The item-item similarity matrix.\n",
    "        epsilon (float): A small constant to avoid division by zero.\n",
    "    \n",
    "    Returns:\n",
    "        numpy.ndarray: The predicted interaction scores for each user-item pair.\n",
    "    \"\"\"\n",
    "    # Compute the weighted sum of interactions based on item similarity\n",
    "    predictions = similarity_matrix.dot(interactions.T) / (similarity_matrix.sum(axis=1)[:, np.newaxis] + epsilon)\n",
    "    return predictions.T  # Transpose to get users as rows and items as columns\n",
    "\n",
    "# Example usage:\n",
    "item_based_predictions = predict_item_based(train_data_matrix, item_similarity)\n",
    "print(\"Predicted Interaction Matrix (Item-Based):\")\n",
    "print(item_based_predictions)"
   ]
  },
  {
   "cell_type": "code",
   "execution_count": 194,
   "id": "83fc28aa",
   "metadata": {},
   "outputs": [
    {
     "data": {
      "image/png": "[encoded data removed]",
      "text/plain": [
       "<Figure size 720x576 with 2 Axes>"
      ]
     },
     "metadata": {
      "needs_background": "light"
     },
     "output_type": "display_data"
    }
   ],
   "source": [
    "import seaborn as sns\n",
    "\n",
    "import matplotlib.pyplot as plt\n",
    "\n",
    "def plot_interaction_prediction_heatmap(prediction_matrix, title, num_users=300, num_items=300):\n",
    "    \"\"\"\n",
    "    Plots a heatmap of a subset of the user-item predicted interaction matrix.\n",
    "    Parameters:\n",
    "        prediction_matrix: The predicted interaction matrix.\n",
    "        title: The title of the plot.\n",
    "        num_users: The number of users to display (rows).\n",
    "        num_items: The number of items to display (columns).\n",
    "    \"\"\"\n",
    "    # Extract a subset of the matrix for visualization\n",
    "    matrix_subset = prediction_matrix[:num_users, :num_items]\n",
    "\n",
    "    plt.figure(figsize=(10, 8))\n",
    "    sns.heatmap(matrix_subset, cmap=\"YlGnBu\", cbar=True, cbar_kws={'label': 'Predicted Interaction Score'})\n",
    "    plt.xlabel('Item ID')\n",
    "    plt.ylabel('User ID')\n",
    "    plt.title(title)\n",
    "    plt.show()\n",
    "\n",
    "# Example usage:\n",
    "plot_interaction_prediction_heatmap(user_prediction, 'User-Item Predicted Interaction Matrix (User-Based)')"
   ]
  },
  {
   "cell_type": "code",
   "execution_count": 195,
   "id": "0926e3d0",
   "metadata": {},
   "outputs": [
    {
     "name": "stdout",
     "output_type": "stream",
     "text": [
      "User-User Similarity Matrix:\n",
      "[[1. 0. 0. ... 0. 0. 0.]\n",
      " [0. 1. 0. ... 0. 0. 0.]\n",
      " [0. 0. 1. ... 0. 0. 0.]\n",
      " ...\n",
      " [0. 0. 0. ... 1. 0. 0.]\n",
      " [0. 0. 0. ... 0. 1. 0.]\n",
      " [0. 0. 0. ... 0. 0. 1.]]\n",
      "Shape of the similarity matrix: (7838, 7838)\n"
     ]
    }
   ],
   "source": [
    "from sklearn.metrics.pairwise import cosine_similarity\n",
    "\n",
    "# Compute the user-user similarity matrix\n",
    "user_similarity = cosine_similarity(train_user_item_matrix)\n",
    "\n",
    "# Display the shape of the similarity matrix\n",
    "print(\"User-User Similarity Matrix:\")\n",
    "print(user_similarity)\n",
    "print(f\"Shape of the similarity matrix: {user_similarity.shape}\")"
   ]
  },
  {
   "cell_type": "code",
   "execution_count": 196,
   "id": "097b9e9d",
   "metadata": {},
   "outputs": [
    {
     "data": {
      "image/png": "[encoded data removed]",
      "text/plain": [
       "<Figure size 720x576 with 2 Axes>"
      ]
     },
     "metadata": {
      "needs_background": "light"
     },
     "output_type": "display_data"
    }
   ],
   "source": [
    "def plot_user_similarity_heatmap(similarity_matrix, title, num_users=100):\n",
    "    \"\"\"\n",
    "    Plots a heatmap of a subset of the user similarity matrix.\n",
    "    Parameters:\n",
    "        similarity_matrix: The user-user similarity matrix.\n",
    "        title: The title of the plot.\n",
    "        num_users: The number of users to display (both rows and columns).\n",
    "    \"\"\"\n",
    "    # Extract a subset of the matrix for visualization\n",
    "    matrix_subset = similarity_matrix[:num_users, :num_users]\n",
    "\n",
    "    plt.figure(figsize=(10, 8))\n",
    "    sns.heatmap(matrix_subset, cmap=\"coolwarm\", cbar=True, cbar_kws={'label': 'Similarity Score'})\n",
    "    plt.xlabel('User ID')\n",
    "    plt.ylabel('User ID')\n",
    "    plt.title(title)\n",
    "    plt.show()\n",
    "\n",
    "# Visualize a subset of the user similarity matrix\n",
    "plot_user_similarity_heatmap(user_similarity, 'User-User Similarity Matrix')"
   ]
  },
  {
   "cell_type": "code",
   "execution_count": 197,
   "id": "17f50cd6",
   "metadata": {},
   "outputs": [
    {
     "name": "stdout",
     "output_type": "stream",
     "text": [
      "Predicted Interaction Matrix (User-Based):\n",
      "[[0.13171649 0.13259591 0.14274867 ... 0.         0.         0.        ]\n",
      " [0.         0.         0.         ... 0.         0.         0.        ]\n",
      " [0.         0.         0.         ... 0.         0.         0.        ]\n",
      " ...\n",
      " [0.         0.         0.         ... 0.         0.         0.        ]\n",
      " [0.         0.         0.         ... 0.         0.         0.        ]\n",
      " [0.         0.         0.         ... 0.         0.         0.        ]]\n"
     ]
    }
   ],
   "source": [
    "def predict_user_based(interactions, similarity_matrix, epsilon=1e-9):\n",
    "    \"\"\"\n",
    "    Predicts user-item interactions based on user-user similarity.\n",
    "\n",
    "    Parameters:\n",
    "        interactions (numpy.ndarray): The user-item interaction matrix.\n",
    "        similarity_matrix (numpy.ndarray): The user-user similarity matrix.\n",
    "        epsilon (float): A small constant to avoid division by zero.\n",
    "\n",
    "    Returns:\n",
    "        numpy.ndarray: The predicted interaction scores for each user-item pair.\n",
    "    \"\"\"\n",
    "    # Compute the weighted sum of interactions based on user similarity\n",
    "    predictions = similarity_matrix.dot(interactions) / (np.abs(similarity_matrix).sum(axis=1)[:, np.newaxis] + epsilon)\n",
    "    return predictions\n",
    "\n",
    "# Example usage:\n",
    "user_based_predictions = predict_user_based(train_user_item_matrix, user_similarity)\n",
    "print(\"Predicted Interaction Matrix (User-Based):\")\n",
    "print(user_based_predictions)"
   ]
  },
  {
   "cell_type": "code",
   "execution_count": 198,
   "id": "523373e0",
   "metadata": {},
   "outputs": [
    {
     "data": {
      "image/png": "[encoded data removed]",
      "text/plain": [
       "<Figure size 720x576 with 2 Axes>"
      ]
     },
     "metadata": {
      "needs_background": "light"
     },
     "output_type": "display_data"
    }
   ],
   "source": [
    "import seaborn as sns\n",
    "\n",
    "import matplotlib.pyplot as plt\n",
    "\n",
    "def plot_interaction_prediction_heatmap(prediction_matrix, title, num_users=100, num_items=100):\n",
    "    \"\"\"\n",
    "    Plots a heatmap of a subset of the user-item predicted interaction matrix.\n",
    "    Parameters:\n",
    "        prediction_matrix: The predicted interaction matrix.\n",
    "        title: The title of the plot.\n",
    "        num_users: The number of users to display (rows).\n",
    "        num_items: The number of items to display (columns).\n",
    "    \"\"\"\n",
    "    # Extract a subset of the matrix for visualization\n",
    "    matrix_subset = prediction_matrix[:num_users, :num_items]\n",
    "\n",
    "    plt.figure(figsize=(10, 8))\n",
    "    sns.heatmap(matrix_subset, cmap=\"YlGnBu\", cbar=True, cbar_kws={'label': 'Predicted Interaction Score'})\n",
    "    plt.xlabel('Item ID')\n",
    "    plt.ylabel('User ID')\n",
    "    plt.title(title)\n",
    "    plt.show()\n",
    "\n",
    "# Example usage:\n",
    "plot_interaction_prediction_heatmap(user_prediction, 'User-Item Predicted Interaction Matrix (User-Based)')"
   ]
  },
  {
   "cell_type": "code",
   "execution_count": 199,
   "id": "354375ca",
   "metadata": {},
   "outputs": [
    {
     "name": "stdout",
     "output_type": "stream",
     "text": [
      "User-based CF Precision@K: 0.056455728502171655\n",
      "User-based CF Recall@K: 0.2899013913583887\n",
      "Item-based CF Precision@K: 0.05567746874202883\n",
      "Item-based CF Recall@K: 0.2640441131423877\n"
     ]
    }
   ],
   "source": [
    "def precision_recall_at_k(prediction, ground_truth, k=10):\n",
    "    \"\"\"\n",
    "    Calculates Precision@K and Recall@K for top-K recommendations.\n",
    "    Parameters:\n",
    "        prediction (numpy array): The predicted interaction matrix with scores.\n",
    "        ground_truth (numpy array): The ground truth interaction matrix (binary).\n",
    "        k (int): Number of top recommendations to consider.\n",
    "    Returns:\n",
    "        precision_at_k (float): The average precision@K over all users.\n",
    "        recall_at_k (float): The average recall@K over all users.\n",
    "    \"\"\"\n",
    "    num_users = prediction.shape[0]\n",
    "    precision_at_k, recall_at_k = 0, 0\n",
    "\n",
    "    for user in range(num_users):\n",
    "        # Get the indices of the top-K items for the user based on predicted scores\n",
    "        top_k_items = np.argsort(prediction[user, :])[-k:]\n",
    "\n",
    "        # Calculate the number of relevant items in the top-K items for the user\n",
    "        relevant_items_in_top_k = np.isin(top_k_items, np.where(ground_truth[user, :] == 1)[0]).sum()\n",
    "\n",
    "        # Calculate the total number of relevant items for the user\n",
    "        total_relevant_items = ground_truth[user, :].sum()\n",
    "\n",
    "        # Precision@K and Recall@K for this user\n",
    "        precision_at_k += relevant_items_in_top_k / k\n",
    "        recall_at_k += relevant_items_in_top_k / total_relevant_items if total_relevant_items > 0 else 0\n",
    "\n",
    "    # Average Precision@K and Recall@K over all users\n",
    "    precision_at_k /= num_users\n",
    "    recall_at_k /= num_users\n",
    "\n",
    "    return precision_at_k, recall_at_k\n",
    "\n",
    "# Example usage\n",
    "precision_user_k, recall_user_k = precision_recall_at_k(user_based_predictions, test_data_matrix, k=10)\n",
    "precision_item_k, recall_item_k = precision_recall_at_k(item_based_predictions, test_data_matrix, k=10)\n",
    "\n",
    "print('User-based CF Precision@K:', precision_user_k)\n",
    "print('User-based CF Recall@K:', recall_user_k)\n",
    "print('Item-based CF Precision@K:', precision_item_k)\n",
    "print('Item-based CF Recall@K:', recall_item_k)"
   ]
  },
  {
   "cell_type": "code",
   "execution_count": 202,
   "id": "2f374e95",
   "metadata": {},
   "outputs": [],
   "source": [
    "sample_submission= pd.read_csv(filepath + 'sample_submission.csv')"
   ]
  },
  {
   "cell_type": "code",
   "execution_count": 214,
   "id": "608246ec",
   "metadata": {},
   "outputs": [
    {
     "data": {
      "text/html": [
       "<div>\n",
       "<style scoped>\n",
       "    .dataframe tbody tr th:only-of-type {\n",
       "        vertical-align: middle;\n",
       "    }\n",
       "\n",
       "    .dataframe tbody tr th {\n",
       "        vertical-align: top;\n",
       "    }\n",
       "\n",
       "    .dataframe thead th {\n",
       "        text-align: right;\n",
       "    }\n",
       "</style>\n",
       "<table border=\"1\" class=\"dataframe\">\n",
       "  <thead>\n",
       "    <tr style=\"text-align: right;\">\n",
       "      <th></th>\n",
       "      <th>user_id</th>\n",
       "      <th>recommendation</th>\n",
       "    </tr>\n",
       "  </thead>\n",
       "  <tbody>\n",
       "    <tr>\n",
       "      <th>0</th>\n",
       "      <td>0</td>\n",
       "      <td>12 4 13 15 14 11 8 10 9 5</td>\n",
       "    </tr>\n",
       "    <tr>\n",
       "      <th>1</th>\n",
       "      <td>1</td>\n",
       "      <td>30 26 25 33 27 28 29 32 31 1272</td>\n",
       "    </tr>\n",
       "    <tr>\n",
       "      <th>2</th>\n",
       "      <td>2</td>\n",
       "      <td>38 50 45 41 48 74 56 67 37 59</td>\n",
       "    </tr>\n",
       "    <tr>\n",
       "      <th>3</th>\n",
       "      <td>3</td>\n",
       "      <td>121 96 110 127 100 114 115 128 105 111</td>\n",
       "    </tr>\n",
       "    <tr>\n",
       "      <th>4</th>\n",
       "      <td>4</td>\n",
       "      <td>156 152 145 157 147 155 151 150 153 149</td>\n",
       "    </tr>\n",
       "  </tbody>\n",
       "</table>\n",
       "</div>"
      ],
      "text/plain": [
       "   user_id                           recommendation\n",
       "0        0                12 4 13 15 14 11 8 10 9 5\n",
       "1        1          30 26 25 33 27 28 29 32 31 1272\n",
       "2        2            38 50 45 41 48 74 56 67 37 59\n",
       "3        3   121 96 110 127 100 114 115 128 105 111\n",
       "4        4  156 152 145 157 147 155 151 150 153 149"
      ]
     },
     "execution_count": 214,
     "metadata": {},
     "output_type": "execute_result"
    }
   ],
   "source": [
    "# Define the number of top recommendations to include\n",
    "top_k = 10\n",
    "\n",
    "# Create a dataset with user IDs and their recommended items\n",
    "recommended_items = []\n",
    "\n",
    "for user_id in range(user_prediction.shape[0]):\n",
    "    # Get the top-k recommended items for the user\n",
    "    top_items = np.argsort(user_prediction[user_id, :])[-top_k:][::-1]\n",
    "    recommended_items.append({\n",
    "        'user_id': user_id,\n",
    "        'recommendation': ' '.join(map(str, top_items))\n",
    "    })\n",
    "\n",
    "# Convert the list of recommendations into a DataFrame\n",
    "recommendations_df = pd.DataFrame(recommended_items)\n",
    "\n",
    "# Display the resulting dataset\n",
    "recommendations_df.head()"
   ]
  },
  {
   "cell_type": "code",
   "execution_count": 213,
   "id": "ef85b70e",
   "metadata": {},
   "outputs": [],
   "source": [
    "recommendations_df.to_csv('submission.csv', index=False)"
   ]
  },
  {
   "cell_type": "code",
   "execution_count": 209,
   "id": "8ddc008f",
   "metadata": {},
   "outputs": [
    {
     "name": "stdout",
     "output_type": "stream",
     "text": [
      "Selected User ID: 4\n"
     ]
    },
    {
     "data": {
      "text/plain": [
       "array([156, 152, 145, 157, 147, 155, 151, 150, 153, 149])"
      ]
     },
     "metadata": {},
     "output_type": "display_data"
    },
    {
     "data": {
      "text/plain": [
       "array([146, 158, 156, 157, 149, 154, 145, 148, 150, 151])"
      ]
     },
     "metadata": {},
     "output_type": "display_data"
    }
   ],
   "source": [
    "# Pick a user at random\n",
    "user_id = 4\n",
    "#random.choice(range(user_prediction.shape[0]))\n",
    "print(\"Selected User ID:\", user_id)\n",
    "\n",
    "# Get top-10 recommendations for the user from User-to-User CF\n",
    "user_top_10 = np.argsort(user_prediction[user_id, :])[-10:][::-1]\n",
    "\n",
    "# Get top-10 recommendations for the user from Item-to-Item CF\n",
    "item_top_10 = np.argsort(item_prediction[user_id, :])[-10:][::-1]\n",
    "\n",
    "# Display top-10 recommended movie IDs for both models\n",
    "display(user_top_10)\n",
    "display(item_top_10)"
   ]
  },
  {
   "cell_type": "code",
   "execution_count": 200,
   "id": "185af5c5",
   "metadata": {},
   "outputs": [],
   "source": [
    "from scipy.sparse.linalg import svds\n",
    "import numpy as np\n",
    "from sklearn.feature_extraction.text import TfidfVectorizer\n",
    "from sklearn.metrics.pairwise import cosine_similarity\n",
    "\n",
    "# Here are several ways to improve the collaborative filtering model:\n",
    "\n",
    "# 1. Matrix Factorization with SVD\n",
    "\n",
    "def matrix_factorization_recommendations(ratings_matrix, k=50):\n",
    "    # Apply SVD to get latent features\n",
    "    U, sigma, Vt = svds(ratings_matrix, k=k)\n",
    "    \n",
    "    # Convert sigma to diagonal matrix\n",
    "    sigma_diag = np.diag(sigma)\n",
    "    \n",
    "    # Reconstruct the prediction matrix\n",
    "    predictions = np.dot(np.dot(U, sigma_diag), Vt)\n",
    "    \n",
    "    return predictions\n",
    "\n",
    "# Apply matrix factorization\n",
    "mf_predictions = matrix_factorization_recommendations(train_data_matrix)\n",
    "\n",
    "# 2. Hybrid model combining user and item similarities\n",
    "def hybrid_recommendations(user_pred, item_pred, alpha=0.5):\n",
    "    \"\"\"\n",
    "    Combine user-based and item-based predictions\n",
    "    \n",
    "    Parameters:\n",
    "        user_pred: user-based prediction matrix\n",
    "        item_pred: item-based prediction matrix\n",
    "        alpha: weight for user-based predictions (0-1)\n",
    "    \n",
    "    Returns:\n",
    "        Combined prediction matrix\n",
    "    \"\"\"\n",
    "    return alpha * user_pred + (1 - alpha) * item_pred\n",
    "\n",
    "# Create hybrid predictions\n",
    "hybrid_pred = hybrid_recommendations(user_prediction, item_prediction, alpha=0.6)\n",
    "\n",
    "# 3. Incorporate content features using TF-IDF\n",
    "\n",
    "# Create text representation for content-based filtering\n",
    "def create_content_based_similarity(items_df):\n",
    "    # Combine relevant text fields\n",
    "    items_df['content'] = items_df['Title'] + ' ' + items_df['Author'].fillna('') + ' ' + items_df['Subjects'].fillna('')\n",
    "    \n",
    "    # Create TF-IDF vectors\n",
    "    tfidf = TfidfVectorizer(stop_words='english')\n",
    "    tfidf_matrix = tfidf.fit_transform(items_df['content'])\n",
    "    \n",
    "    # Calculate item-item similarity based on content\n",
    "    content_similarity = cosine_similarity(tfidf_matrix)\n",
    "    \n",
    "    return content_similarity\n",
    "\n",
    "# 4. Time-weighted collaborative filtering\n",
    "def time_decay_matrix(interactions, alpha=0.1):\n",
    "    \"\"\"\n",
    "    Create a time-decayed user-item matrix\n",
    "    \n",
    "    Parameters:\n",
    "        interactions: dataframe with u, i, t columns\n",
    "        alpha: decay parameter\n",
    "    \n",
    "    Returns:\n",
    "        Time-decayed interaction matrix\n",
    "    \"\"\"\n",
    "    # Copy interactions\n",
    "    time_weighted = interactions.copy()\n",
    "    \n",
    "    # Min-max scaling of timestamps to [0,1]\n",
    "    max_time = interactions['t'].max()\n",
    "    min_time = interactions['t'].min()\n",
    "    time_weighted['time_weight'] = (interactions['t'] - min_time) / (max_time - min_time)\n",
    "    \n",
    "    # Apply exponential decay\n",
    "    time_weighted['weight'] = 1 + alpha * time_weighted['time_weight']\n",
    "    \n",
    "    # Create weighted matrix\n",
    "    matrix = np.zeros((n_users, n_items))\n",
    "    for row in time_weighted.itertuples():\n",
    "        matrix[row.u, row.i] = row.weight\n",
    "    \n",
    "    return matrix"
   ]
  },
  {
   "cell_type": "code",
   "execution_count": 201,
   "id": "aa42edb3",
   "metadata": {
    "vscode": {
     "languageId": "markdown"
    }
   },
   "outputs": [
    {
     "name": "stdout",
     "output_type": "stream",
     "text": [
      "           Model   K  Precision    Recall\n",
      "0  User-Based CF   5   0.082802  0.241277\n",
      "1  User-Based CF  10   0.056456  0.289901\n",
      "2  User-Based CF  20   0.035366  0.329049\n",
      "3  Item-Based CF   5   0.083618  0.216458\n",
      "4  Item-Based CF  10   0.055677  0.264044\n",
      "5  Item-Based CF  20   0.033778  0.301319\n",
      "6   Hybrid Model   5   0.093774  0.251458\n",
      "7   Hybrid Model  10   0.061074  0.293531\n",
      "8   Hybrid Model  20   0.036706  0.330831\n"
     ]
    },
    {
     "data": {
      "image/png": "[encoded data removed]",
      "text/plain": [
       "<Figure size 864x432 with 1 Axes>"
      ]
     },
     "metadata": {
      "needs_background": "light"
     },
     "output_type": "display_data"
    },
    {
     "data": {
      "image/png": "[encoded data removed]",
      "text/plain": [
       "<Figure size 864x432 with 1 Axes>"
      ]
     },
     "metadata": {
      "needs_background": "light"
     },
     "output_type": "display_data"
    }
   ],
   "source": [
    "# Evaluate Recommendation Models: Compare Precision@K and Recall@K\n",
    "\n",
    "# Define the K values to evaluate\n",
    "k_values = [5, 10, 20]\n",
    "\n",
    "# Store the results for each model\n",
    "evaluation_results = []\n",
    "\n",
    "# Evaluate User-Based Collaborative Filtering\n",
    "for k in k_values:\n",
    "    precision, recall = precision_recall_at_k(user_based_predictions, test_data_matrix, k=k)\n",
    "    evaluation_results.append({'Model': 'User-Based CF', 'K': k, 'Precision': precision, 'Recall': recall})\n",
    "\n",
    "# Evaluate Item-Based Collaborative Filtering\n",
    "for k in k_values:\n",
    "    precision, recall = precision_recall_at_k(item_based_predictions, test_data_matrix, k=k)\n",
    "    evaluation_results.append({'Model': 'Item-Based CF', 'K': k, 'Precision': precision, 'Recall': recall})\n",
    "\n",
    "# Evaluate Hybrid Model\n",
    "for k in k_values:\n",
    "    precision, recall = precision_recall_at_k(hybrid_pred, test_data_matrix, k=k)\n",
    "    evaluation_results.append({'Model': 'Hybrid Model', 'K': k, 'Precision': precision, 'Recall': recall})\n",
    "\n",
    "# Convert results to a DataFrame for better visualization\n",
    "evaluation_df = pd.DataFrame(evaluation_results)\n",
    "\n",
    "# Display the evaluation results\n",
    "print(evaluation_df)\n",
    "\n",
    "# Visualize the results\n",
    "plt.figure(figsize=(12, 6))\n",
    "sns.barplot(data=evaluation_df, x='K', y='Precision', hue='Model', palette='viridis')\n",
    "plt.title('Precision@K for Different Models')\n",
    "plt.ylabel('Precision')\n",
    "plt.xlabel('K')\n",
    "plt.legend(title='Model')\n",
    "plt.tight_layout()\n",
    "plt.show()\n",
    "\n",
    "plt.figure(figsize=(12, 6))\n",
    "sns.barplot(data=evaluation_df, x='K', y='Recall', hue='Model', palette='mako')\n",
    "plt.title('Recall@K for Different Models')\n",
    "plt.ylabel('Recall')\n",
    "plt.xlabel('K')\n",
    "plt.legend(title='Model')\n",
    "plt.tight_layout()\n",
    "plt.show()"
   ]
  },
  {
   "cell_type": "code",
   "execution_count": null,
   "id": "3b45a271",
   "metadata": {
    "vscode": {
     "languageId": "markdown"
    }
   },
   "outputs": [],
   "source": [
    "# Improving Recommendation System Performance\n",
    "\n",
    "## Data Enhancement Strategies\n",
    "- **Temporal Dynamics**: Incorporate time decay factors to give higher weight to recent interactions\n",
    "- **Implicit Feedback Weighting**: Use repeated interactions as stronger preference signals\n",
    "- **Text Embeddings**: Replace TF-IDF with BERT/Word2Vec embeddings for richer content representation\n",
    "- **Data Augmentation**: Apply techniques like item attribute expansion and synthetic user generation\n",
    "\n",
    "## Advanced Model Architecture\n",
    "- **Neural Collaborative Filtering**: Implement deep learning architectures (MLP, CNN) to capture non-linear relationships\n",
    "- **Graph Neural Networks**: Model user-item interactions as a graph to capture higher-order connections\n",
    "- **Sequential Models**: Use RNNs or Transformers to incorporate interaction sequences\n",
    "- **Two-Tower Models**: Separate encoders for users and items to improve embedding quality\n",
    "\n",
    "## Optimization Techniques\n",
    "- **Hyperparameter Tuning**: Systematically optimize model parameters (latent factors, learning rates)\n",
    "- **Cross-Validation**: Use time-based cross-validation for more robust evaluation\n",
    "- **Negative Sampling**: Improve training by sampling meaningful negative examples\n",
    "- **Regularization**: Apply L1/L2 regularization to prevent overfitting, especially on sparse data\n",
    "\n",
    "## Hybrid Approach Refinements\n",
    "- **Dynamic Weighting**: Adjust model weights based on user activity level or item popularity\n",
    "- **Stacking**: Use a meta-model to learn optimal combinations of different recommenders\n",
    "- **Multi-Objective Optimization**: Balance accuracy with diversity and novelty metrics\n",
    "\n",
    "## Evaluation Beyond Standard Metrics\n",
    "- **Diversity Metrics**: Enhance recommendations by measuring intra-list diversity\n",
    "- **Novelty Scoring**: Reward systems for suggesting non-obvious but relevant items\n",
    "- **User Segmentation Analysis**: Different strategies for casual vs. power users"
   ]
  },
  {
   "cell_type": "code",
   "execution_count": 133,
   "id": "104171e5",
   "metadata": {},
   "outputs": [
    {
     "name": "stderr",
     "output_type": "stream",
     "text": [
      "/var/folders/f5/kfhjr6d55t3f6fpgzj_trt340000gn/T/ipykernel_10063/2708619884.py:15: SettingWithCopyWarning: \n",
      "A value is trying to be set on a copy of a slice from a DataFrame.\n",
      "Try using .loc[row_indexer,col_indexer] = value instead\n",
      "\n",
      "See the caveats in the documentation: https://pandas.pydata.org/pandas-docs/stable/user_guide/indexing.html#returning-a-view-versus-a-copy\n",
      "  interactions['time_weight'] = (interactions['t'] - min_time) / (max_time - min_time)\n",
      "/var/folders/f5/kfhjr6d55t3f6fpgzj_trt340000gn/T/ipykernel_10063/2708619884.py:18: SettingWithCopyWarning: \n",
      "A value is trying to be set on a copy of a slice from a DataFrame.\n",
      "Try using .loc[row_indexer,col_indexer] = value instead\n",
      "\n",
      "See the caveats in the documentation: https://pandas.pydata.org/pandas-docs/stable/user_guide/indexing.html#returning-a-view-versus-a-copy\n",
      "  interactions['decay_weight'] = 1 + alpha * interactions['time_weight']\n"
     ]
    },
    {
     "name": "stdout",
     "output_type": "stream",
     "text": [
      "User-based CF with Time Decay Precision@K: 0.056583312069408226\n",
      "User-based CF with Time Decay Recall@K: 0.2911638280704375\n",
      "Item-based CF with Time Decay Precision@K: 0.05565195202858152\n",
      "Item-based CF with Time Decay Recall@K: 0.2640810718741666\n"
     ]
    },
    {
     "data": {
      "text/plain": [
       "'This approach adjusts the interaction matrix by weighting interactions based on their recency, which can improve the relevance of recommendations.'"
      ]
     },
     "execution_count": 133,
     "metadata": {},
     "output_type": "execute_result"
    }
   ],
   "source": [
    "\n",
    "def apply_time_decay(interactions, alpha=0.1):\n",
    "    \"\"\"\n",
    "    Applies a time decay factor to the interaction matrix.\n",
    "    \n",
    "    Parameters:\n",
    "        interactions (pd.DataFrame): The interactions dataframe containing columns 'u', 'i', and 't'.\n",
    "        alpha (float): The decay parameter. Higher values give more weight to recent interactions.\n",
    "    \n",
    "    Returns:\n",
    "        np.ndarray: A time-decayed user-item interaction matrix.\n",
    "    \"\"\"\n",
    "    # Normalize timestamps to a range of [0, 1]\n",
    "    max_time = interactions['t'].max()\n",
    "    min_time = interactions['t'].min()\n",
    "    interactions['time_weight'] = (interactions['t'] - min_time) / (max_time - min_time)\n",
    "    \n",
    "    # Apply exponential decay\n",
    "    interactions['decay_weight'] = 1 + alpha * interactions['time_weight']\n",
    "    \n",
    "    # Create a time-decayed interaction matrix\n",
    "    time_decay_matrix = np.zeros((n_users, n_items))\n",
    "    for row in interactions.itertuples():\n",
    "        time_decay_matrix[row.u, row.i] = row.decay_weight\n",
    "    \n",
    "    return time_decay_matrix\n",
    "\n",
    "# Apply time decay to the training data\n",
    "time_decay_train_matrix = apply_time_decay(train_data, alpha=0.1)\n",
    "\n",
    "# Use the time-decayed matrix for predictions\n",
    "user_based_predictions_time_decay = user_based_predict(time_decay_train_matrix, user_similarity)\n",
    "item_based_predictions_time_decay = item_based_predict(time_decay_train_matrix, item_similarity)\n",
    "\n",
    "# Evaluate the new predictions\n",
    "precision_user_td, recall_user_td = precision_recall_at_k(user_based_predictions_time_decay, test_data_matrix, k=10)\n",
    "precision_item_td, recall_item_td = precision_recall_at_k(item_based_predictions_time_decay, test_data_matrix, k=10)\n",
    "\n",
    "print('User-based CF with Time Decay Precision@K:', precision_user_td)\n",
    "print('User-based CF with Time Decay Recall@K:', recall_user_td)\n",
    "print('Item-based CF with Time Decay Precision@K:', precision_item_td)\n",
    "print('Item-based CF with Time Decay Recall@K:', recall_item_td)\n",
    "\n",
    "\n",
    "'''This approach adjusts the interaction matrix by weighting interactions based on their recency, which can improve the relevance of recommendations.'''"
   ]
  },
  {
   "cell_type": "code",
   "execution_count": 135,
   "id": "eeb6f47b",
   "metadata": {},
   "outputs": [
    {
     "name": "stdout",
     "output_type": "stream",
     "text": [
      "Shape of weighted train matrix: (7838, 15109)\n",
      "Number of non-zero entries in weighted train matrix: 49689\n",
      "Maximum weight in the matrix: 51.0\n",
      "User-based CF with Weighted Interactions Precision@K: 0.059390150548612505\n",
      "User-based CF with Weighted Interactions Recall@K: 0.28768524553434666\n",
      "Item-based CF with Weighted Interactions Precision@K: 0.05523092625670089\n",
      "Item-based CF with Weighted Interactions Recall@K: 0.2624148835666018\n"
     ]
    }
   ],
   "source": [
    "def create_weighted_interaction_matrix(data, n_users, n_items):\n",
    "    \"\"\"\n",
    "    Creates a weighted user-item interaction matrix for implicit feedback.\n",
    "    Each entry is weighted based on the frequency of interactions.\n",
    "    \n",
    "    Parameters:\n",
    "        data (pd.DataFrame): The interaction data containing user, item, and interaction count.\n",
    "        n_users (int): The number of unique users.\n",
    "        n_items (int): The number of unique items.\n",
    "    \n",
    "    Returns:\n",
    "        np.ndarray: A weighted user-item interaction matrix.\n",
    "    \"\"\"\n",
    "    matrix = np.zeros((n_users, n_items))\n",
    "    for row in data.itertuples():\n",
    "        matrix[row.u, row.i] += 1  # Increment weight for repeated interactions\n",
    "    return matrix\n",
    "\n",
    "# Create the weighted interaction matrix for training data\n",
    "weighted_train_matrix = create_weighted_interaction_matrix(train_data, n_users, n_items)\n",
    "\n",
    "# Display the shape and some statistics of the weighted matrix\n",
    "print(f\"Shape of weighted train matrix: {weighted_train_matrix.shape}\")\n",
    "print(f\"Number of non-zero entries in weighted train matrix: {np.count_nonzero(weighted_train_matrix)}\")\n",
    "print(f\"Maximum weight in the matrix: {np.max(weighted_train_matrix)}\")\n",
    "\n",
    "# Use the weighted interaction matrix for predictions\n",
    "weighted_user_based_predictions = user_based_predict(weighted_train_matrix, user_similarity)\n",
    "weighted_item_based_predictions = item_based_predict(weighted_train_matrix, item_similarity)\n",
    "\n",
    "# Evaluate the new predictions\n",
    "precision_user_weighted, recall_user_weighted = precision_recall_at_k(weighted_user_based_predictions, test_data_matrix, k=10)\n",
    "precision_item_weighted, recall_item_weighted = precision_recall_at_k(weighted_item_based_predictions, test_data_matrix, k=10)\n",
    "\n",
    "print('User-based CF with Weighted Interactions Precision@K:', precision_user_weighted)\n",
    "print('User-based CF with Weighted Interactions Recall@K:', recall_user_weighted)\n",
    "print('Item-based CF with Weighted Interactions Precision@K:', precision_item_weighted)\n",
    "print('Item-based CF with Weighted Interactions Recall@K:', recall_item_weighted)"
   ]
  },
  {
   "cell_type": "code",
   "execution_count": null,
   "id": "a3438d27",
   "metadata": {
    "vscode": {
     "languageId": "markdown"
    }
   },
   "outputs": [],
   "source": []
  },
  {
   "cell_type": "code",
   "execution_count": null,
   "id": "b1cde92e",
   "metadata": {},
   "outputs": [],
   "source": []
  },
  {
   "cell_type": "code",
   "execution_count": 128,
   "id": "c2207ca3",
   "metadata": {},
   "outputs": [
    {
     "name": "stdout",
     "output_type": "stream",
     "text": [
      "Generating content-based recommendations...\n"
     ]
    },
    {
     "ename": "IndexError",
     "evalue": "index 12319 is out of bounds for axis 0 with size 12319",
     "output_type": "error",
     "traceback": [
      "\u001b[0;31m---------------------------------------------------------------------------\u001b[0m",
      "\u001b[0;31mIndexError\u001b[0m                                Traceback (most recent call last)",
      "\u001b[0;32m/var/folders/f5/kfhjr6d55t3f6fpgzj_trt340000gn/T/ipykernel_10063/3926524259.py\u001b[0m in \u001b[0;36m<module>\u001b[0;34m\u001b[0m\n\u001b[1;32m     76\u001b[0m \u001b[0;31m# Generate predictions\u001b[0m\u001b[0;34m\u001b[0m\u001b[0;34m\u001b[0m\u001b[0m\n\u001b[1;32m     77\u001b[0m \u001b[0mprint\u001b[0m\u001b[0;34m(\u001b[0m\u001b[0;34m\"Generating content-based recommendations...\"\u001b[0m\u001b[0;34m)\u001b[0m\u001b[0;34m\u001b[0m\u001b[0;34m\u001b[0m\u001b[0m\n\u001b[0;32m---> 78\u001b[0;31m \u001b[0mcontent_pred\u001b[0m \u001b[0;34m=\u001b[0m \u001b[0mcontent_based_recommender\u001b[0m\u001b[0;34m(\u001b[0m\u001b[0mall_items\u001b[0m\u001b[0;34m,\u001b[0m \u001b[0mn_users\u001b[0m\u001b[0;34m,\u001b[0m \u001b[0mn_items\u001b[0m\u001b[0;34m)\u001b[0m\u001b[0;34m\u001b[0m\u001b[0;34m\u001b[0m\u001b[0m\n\u001b[0m\u001b[1;32m     79\u001b[0m \u001b[0;34m\u001b[0m\u001b[0m\n\u001b[1;32m     80\u001b[0m \u001b[0mprint\u001b[0m\u001b[0;34m(\u001b[0m\u001b[0;34m\"Applying matrix factorization...\"\u001b[0m\u001b[0;34m)\u001b[0m\u001b[0;34m\u001b[0m\u001b[0;34m\u001b[0m\u001b[0m\n",
      "\u001b[0;32m/var/folders/f5/kfhjr6d55t3f6fpgzj_trt340000gn/T/ipykernel_10063/3926524259.py\u001b[0m in \u001b[0;36mcontent_based_recommender\u001b[0;34m(all_items, n_users, n_items)\u001b[0m\n\u001b[1;32m     28\u001b[0m             \u001b[0;32mfor\u001b[0m \u001b[0mitem_idx\u001b[0m \u001b[0;32min\u001b[0m \u001b[0mrange\u001b[0m\u001b[0;34m(\u001b[0m\u001b[0mn_items\u001b[0m\u001b[0;34m)\u001b[0m\u001b[0;34m:\u001b[0m\u001b[0;34m\u001b[0m\u001b[0;34m\u001b[0m\u001b[0m\n\u001b[1;32m     29\u001b[0m                 \u001b[0;32mif\u001b[0m \u001b[0mitem_idx\u001b[0m \u001b[0;32mnot\u001b[0m \u001b[0;32min\u001b[0m \u001b[0minteracted_items\u001b[0m\u001b[0;34m:\u001b[0m  \u001b[0;31m# Skip items the user has already interacted with\u001b[0m\u001b[0;34m\u001b[0m\u001b[0;34m\u001b[0m\u001b[0m\n\u001b[0;32m---> 30\u001b[0;31m                     \u001b[0msimilarities\u001b[0m \u001b[0;34m=\u001b[0m \u001b[0;34m[\u001b[0m\u001b[0mcontent_similarity\u001b[0m\u001b[0;34m[\u001b[0m\u001b[0mitem_idx\u001b[0m\u001b[0;34m,\u001b[0m \u001b[0minteracted_item\u001b[0m\u001b[0;34m]\u001b[0m \u001b[0;32mfor\u001b[0m \u001b[0minteracted_item\u001b[0m \u001b[0;32min\u001b[0m \u001b[0minteracted_items\u001b[0m\u001b[0;34m]\u001b[0m\u001b[0;34m\u001b[0m\u001b[0;34m\u001b[0m\u001b[0m\n\u001b[0m\u001b[1;32m     31\u001b[0m                     \u001b[0mcontent_pred\u001b[0m\u001b[0;34m[\u001b[0m\u001b[0muser_idx\u001b[0m\u001b[0;34m,\u001b[0m \u001b[0mitem_idx\u001b[0m\u001b[0;34m]\u001b[0m \u001b[0;34m=\u001b[0m \u001b[0mnp\u001b[0m\u001b[0;34m.\u001b[0m\u001b[0mmean\u001b[0m\u001b[0;34m(\u001b[0m\u001b[0msimilarities\u001b[0m\u001b[0;34m)\u001b[0m \u001b[0;32mif\u001b[0m \u001b[0msimilarities\u001b[0m \u001b[0;32melse\u001b[0m \u001b[0;36m0\u001b[0m\u001b[0;34m\u001b[0m\u001b[0;34m\u001b[0m\u001b[0m\n\u001b[1;32m     32\u001b[0m \u001b[0;34m\u001b[0m\u001b[0m\n",
      "\u001b[0;32m/var/folders/f5/kfhjr6d55t3f6fpgzj_trt340000gn/T/ipykernel_10063/3926524259.py\u001b[0m in \u001b[0;36m<listcomp>\u001b[0;34m(.0)\u001b[0m\n\u001b[1;32m     28\u001b[0m             \u001b[0;32mfor\u001b[0m \u001b[0mitem_idx\u001b[0m \u001b[0;32min\u001b[0m \u001b[0mrange\u001b[0m\u001b[0;34m(\u001b[0m\u001b[0mn_items\u001b[0m\u001b[0;34m)\u001b[0m\u001b[0;34m:\u001b[0m\u001b[0;34m\u001b[0m\u001b[0;34m\u001b[0m\u001b[0m\n\u001b[1;32m     29\u001b[0m                 \u001b[0;32mif\u001b[0m \u001b[0mitem_idx\u001b[0m \u001b[0;32mnot\u001b[0m \u001b[0;32min\u001b[0m \u001b[0minteracted_items\u001b[0m\u001b[0;34m:\u001b[0m  \u001b[0;31m# Skip items the user has already interacted with\u001b[0m\u001b[0;34m\u001b[0m\u001b[0;34m\u001b[0m\u001b[0m\n\u001b[0;32m---> 30\u001b[0;31m                     \u001b[0msimilarities\u001b[0m \u001b[0;34m=\u001b[0m \u001b[0;34m[\u001b[0m\u001b[0mcontent_similarity\u001b[0m\u001b[0;34m[\u001b[0m\u001b[0mitem_idx\u001b[0m\u001b[0;34m,\u001b[0m \u001b[0minteracted_item\u001b[0m\u001b[0;34m]\u001b[0m \u001b[0;32mfor\u001b[0m \u001b[0minteracted_item\u001b[0m \u001b[0;32min\u001b[0m \u001b[0minteracted_items\u001b[0m\u001b[0;34m]\u001b[0m\u001b[0;34m\u001b[0m\u001b[0;34m\u001b[0m\u001b[0m\n\u001b[0m\u001b[1;32m     31\u001b[0m                     \u001b[0mcontent_pred\u001b[0m\u001b[0;34m[\u001b[0m\u001b[0muser_idx\u001b[0m\u001b[0;34m,\u001b[0m \u001b[0mitem_idx\u001b[0m\u001b[0;34m]\u001b[0m \u001b[0;34m=\u001b[0m \u001b[0mnp\u001b[0m\u001b[0;34m.\u001b[0m\u001b[0mmean\u001b[0m\u001b[0;34m(\u001b[0m\u001b[0msimilarities\u001b[0m\u001b[0;34m)\u001b[0m \u001b[0;32mif\u001b[0m \u001b[0msimilarities\u001b[0m \u001b[0;32melse\u001b[0m \u001b[0;36m0\u001b[0m\u001b[0;34m\u001b[0m\u001b[0;34m\u001b[0m\u001b[0m\n\u001b[1;32m     32\u001b[0m \u001b[0;34m\u001b[0m\u001b[0m\n",
      "\u001b[0;31mIndexError\u001b[0m: index 12319 is out of bounds for axis 0 with size 12319"
     ]
    }
   ],
   "source": [
    "from sklearn.feature_extraction.text import TfidfVectorizer\n",
    "from sklearn.metrics.pairwise import cosine_similarity\n",
    "from scipy.sparse.linalg import svds\n",
    "import numpy as np  # Ensure NumPy is imported\n",
    "\n",
    "# 1. Content-Based Filtering using TF-IDF on book metadata\n",
    "def content_based_recommender(all_items, n_users, n_items):\n",
    "    \"\"\"\n",
    "    Create content-based recommendation scores using book metadata.\n",
    "    \"\"\"\n",
    "    # Combine relevant text fields\n",
    "    all_items['content'] = all_items['Title'] + ' ' + all_items['Author'].fillna('') + ' ' + all_items['Subjects'].fillna('')\n",
    "    \n",
    "    # Create TF-IDF vectors\n",
    "    tfidf = TfidfVectorizer(stop_words='english')\n",
    "    tfidf_matrix = tfidf.fit_transform(all_items['content'])\n",
    "    \n",
    "    # Calculate item-item similarity based on content\n",
    "    content_similarity = cosine_similarity(tfidf_matrix)\n",
    "    \n",
    "    # Create a prediction matrix from content similarity\n",
    "    content_pred = np.zeros((n_users, n_items))\n",
    "    for user_idx in range(n_users):\n",
    "        # Get items the user has interacted with\n",
    "        interacted_items = np.where(train_user_item_matrix[user_idx] > 0)[0]\n",
    "        if len(interacted_items) > 0:\n",
    "            # For each item, calculate recommendation score based on similarity to items the user has interacted with\n",
    "            for item_idx in range(n_items):\n",
    "                if item_idx not in interacted_items:  # Skip items the user has already interacted with\n",
    "                    similarities = [content_similarity[item_idx, interacted_item] for interacted_item in interacted_items]\n",
    "                    content_pred[user_idx, item_idx] = np.mean(similarities) if similarities else 0\n",
    "    \n",
    "    return content_pred\n",
    "\n",
    "# 2. Matrix Factorization using SVD\n",
    "def matrix_factorization(ratings_matrix, k=50):\n",
    "    \"\"\"\n",
    "    Performs matrix factorization using SVD.\n",
    "    \"\"\"\n",
    "    # Convert to float for numerical stability\n",
    "    ratings_matrix = ratings_matrix.astype('float')\n",
    "    \n",
    "    # Apply SVD\n",
    "    U, sigma, Vt = svds(ratings_matrix, k=k)\n",
    "    \n",
    "    # Convert sigma to diagonal matrix\n",
    "    sigma_diag = np.diag(sigma)\n",
    "    \n",
    "    # Reconstruct the prediction matrix\n",
    "    predictions = np.dot(np.dot(U, sigma_diag), Vt)\n",
    "    \n",
    "    return predictions\n",
    "\n",
    "# 3. Enhanced Hybrid Model\n",
    "def enhanced_hybrid_recommender(user_pred, item_pred, content_pred, mf_pred, weights=[0.3, 0.3, 0.2, 0.2]):\n",
    "    \"\"\"\n",
    "    Create an enhanced hybrid model that combines multiple recommendation approaches.\n",
    "    \"\"\"\n",
    "    # Normalize each prediction matrix to have similar scales\n",
    "    def normalize_matrix(matrix):\n",
    "        return (matrix - matrix.min()) / (matrix.max() - matrix.min() + 1e-10)\n",
    "    \n",
    "    user_pred_norm = normalize_matrix(user_pred)\n",
    "    item_pred_norm = normalize_matrix(item_pred)\n",
    "    content_pred_norm = normalize_matrix(content_pred)\n",
    "    mf_pred_norm = normalize_matrix(mf_pred)\n",
    "    \n",
    "    # Combine predictions using weights\n",
    "    hybrid_pred = (weights[0] * user_pred_norm + \n",
    "                   weights[1] * item_pred_norm + \n",
    "                   weights[2] * content_pred_norm + \n",
    "                   weights[3] * mf_pred_norm)\n",
    "    \n",
    "    return hybrid_pred\n",
    "\n",
    "# Generate predictions\n",
    "print(\"Generating content-based recommendations...\")\n",
    "content_pred = content_based_recommender(all_items, n_users, n_items)\n",
    "\n",
    "print(\"Applying matrix factorization...\")\n",
    "# Use the existing train_user_item_matrix variable\n",
    "mf_pred = matrix_factorization(train_user_item_matrix, k=50)\n",
    "\n",
    "print(\"Creating enhanced hybrid model...\")\n",
    "enhanced_hybrid_pred = enhanced_hybrid_recommender(user_based_predictions, item_based_predictions, content_pred, mf_pred)\n",
    "\n",
    "# Evaluate the enhanced hybrid model\n",
    "precision_hybrid, recall_hybrid = precision_recall_at_k(enhanced_hybrid_pred, test_data_matrix, k=10)\n",
    "\n",
    "print(\"Enhanced Hybrid Model Precision@K:\", precision_hybrid)\n",
    "print(\"Enhanced Hybrid Model Recall@K:\", recall_hybrid)"
   ]
  },
  {
   "cell_type": "code",
   "execution_count": 124,
   "id": "3ac1bef5",
   "metadata": {},
   "outputs": [
    {
     "name": "stdout",
     "output_type": "stream",
     "text": [
      "Generating recommendations with multiple approaches...\n",
      "1. Creating simple hybrid model...\n",
      "2. Creating content-based recommendations...\n"
     ]
    },
    {
     "ename": "IndexError",
     "evalue": "index 12319 is out of bounds for axis 0 with size 12319",
     "output_type": "error",
     "traceback": [
      "\u001b[0;31m---------------------------------------------------------------------------\u001b[0m",
      "\u001b[0;31mIndexError\u001b[0m                                Traceback (most recent call last)",
      "\u001b[0;32m/var/folders/f5/kfhjr6d55t3f6fpgzj_trt340000gn/T/ipykernel_10063/686587248.py\u001b[0m in \u001b[0;36m<module>\u001b[0;34m\u001b[0m\n\u001b[1;32m    155\u001b[0m \u001b[0;34m\u001b[0m\u001b[0m\n\u001b[1;32m    156\u001b[0m \u001b[0mprint\u001b[0m\u001b[0;34m(\u001b[0m\u001b[0;34m\"2. Creating content-based recommendations...\"\u001b[0m\u001b[0;34m)\u001b[0m\u001b[0;34m\u001b[0m\u001b[0;34m\u001b[0m\u001b[0m\n\u001b[0;32m--> 157\u001b[0;31m \u001b[0mcontent_pred\u001b[0m \u001b[0;34m=\u001b[0m \u001b[0mcontent_based_recommender\u001b[0m\u001b[0;34m(\u001b[0m\u001b[0mall_items\u001b[0m\u001b[0;34m,\u001b[0m \u001b[0mn_users\u001b[0m\u001b[0;34m,\u001b[0m \u001b[0mn_items\u001b[0m\u001b[0;34m)\u001b[0m\u001b[0;34m\u001b[0m\u001b[0;34m\u001b[0m\u001b[0m\n\u001b[0m\u001b[1;32m    158\u001b[0m \u001b[0;34m\u001b[0m\u001b[0m\n\u001b[1;32m    159\u001b[0m \u001b[0mprint\u001b[0m\u001b[0;34m(\u001b[0m\u001b[0;34m\"3. Applying matrix factorization...\"\u001b[0m\u001b[0;34m)\u001b[0m\u001b[0;34m\u001b[0m\u001b[0;34m\u001b[0m\u001b[0m\n",
      "\u001b[0;32m/var/folders/f5/kfhjr6d55t3f6fpgzj_trt340000gn/T/ipykernel_10063/686587248.py\u001b[0m in \u001b[0;36mcontent_based_recommender\u001b[0;34m(all_items, n_users, n_items)\u001b[0m\n\u001b[1;32m     53\u001b[0m             \u001b[0;32mfor\u001b[0m \u001b[0mitem_idx\u001b[0m \u001b[0;32min\u001b[0m \u001b[0mrange\u001b[0m\u001b[0;34m(\u001b[0m\u001b[0mn_items\u001b[0m\u001b[0;34m)\u001b[0m\u001b[0;34m:\u001b[0m\u001b[0;34m\u001b[0m\u001b[0;34m\u001b[0m\u001b[0m\n\u001b[1;32m     54\u001b[0m                 \u001b[0;32mif\u001b[0m \u001b[0mitem_idx\u001b[0m \u001b[0;32mnot\u001b[0m \u001b[0;32min\u001b[0m \u001b[0minteracted_items\u001b[0m\u001b[0;34m:\u001b[0m  \u001b[0;31m# Skip items the user has already interacted with\u001b[0m\u001b[0;34m\u001b[0m\u001b[0;34m\u001b[0m\u001b[0m\n\u001b[0;32m---> 55\u001b[0;31m                     \u001b[0msimilarities\u001b[0m \u001b[0;34m=\u001b[0m \u001b[0;34m[\u001b[0m\u001b[0mcontent_similarity\u001b[0m\u001b[0;34m[\u001b[0m\u001b[0mitem_idx\u001b[0m\u001b[0;34m,\u001b[0m \u001b[0minteracted_item\u001b[0m\u001b[0;34m]\u001b[0m \u001b[0;32mfor\u001b[0m \u001b[0minteracted_item\u001b[0m \u001b[0;32min\u001b[0m \u001b[0minteracted_items\u001b[0m\u001b[0;34m]\u001b[0m\u001b[0;34m\u001b[0m\u001b[0;34m\u001b[0m\u001b[0m\n\u001b[0m\u001b[1;32m     56\u001b[0m                     \u001b[0mcontent_pred\u001b[0m\u001b[0;34m[\u001b[0m\u001b[0muser_idx\u001b[0m\u001b[0;34m,\u001b[0m \u001b[0mitem_idx\u001b[0m\u001b[0;34m]\u001b[0m \u001b[0;34m=\u001b[0m \u001b[0mnp\u001b[0m\u001b[0;34m.\u001b[0m\u001b[0mmean\u001b[0m\u001b[0;34m(\u001b[0m\u001b[0msimilarities\u001b[0m\u001b[0;34m)\u001b[0m \u001b[0;32mif\u001b[0m \u001b[0msimilarities\u001b[0m \u001b[0;32melse\u001b[0m \u001b[0;36m0\u001b[0m\u001b[0;34m\u001b[0m\u001b[0;34m\u001b[0m\u001b[0m\n\u001b[1;32m     57\u001b[0m \u001b[0;34m\u001b[0m\u001b[0m\n",
      "\u001b[0;32m/var/folders/f5/kfhjr6d55t3f6fpgzj_trt340000gn/T/ipykernel_10063/686587248.py\u001b[0m in \u001b[0;36m<listcomp>\u001b[0;34m(.0)\u001b[0m\n\u001b[1;32m     53\u001b[0m             \u001b[0;32mfor\u001b[0m \u001b[0mitem_idx\u001b[0m \u001b[0;32min\u001b[0m \u001b[0mrange\u001b[0m\u001b[0;34m(\u001b[0m\u001b[0mn_items\u001b[0m\u001b[0;34m)\u001b[0m\u001b[0;34m:\u001b[0m\u001b[0;34m\u001b[0m\u001b[0;34m\u001b[0m\u001b[0m\n\u001b[1;32m     54\u001b[0m                 \u001b[0;32mif\u001b[0m \u001b[0mitem_idx\u001b[0m \u001b[0;32mnot\u001b[0m \u001b[0;32min\u001b[0m \u001b[0minteracted_items\u001b[0m\u001b[0;34m:\u001b[0m  \u001b[0;31m# Skip items the user has already interacted with\u001b[0m\u001b[0;34m\u001b[0m\u001b[0;34m\u001b[0m\u001b[0m\n\u001b[0;32m---> 55\u001b[0;31m                     \u001b[0msimilarities\u001b[0m \u001b[0;34m=\u001b[0m \u001b[0;34m[\u001b[0m\u001b[0mcontent_similarity\u001b[0m\u001b[0;34m[\u001b[0m\u001b[0mitem_idx\u001b[0m\u001b[0;34m,\u001b[0m \u001b[0minteracted_item\u001b[0m\u001b[0;34m]\u001b[0m \u001b[0;32mfor\u001b[0m \u001b[0minteracted_item\u001b[0m \u001b[0;32min\u001b[0m \u001b[0minteracted_items\u001b[0m\u001b[0;34m]\u001b[0m\u001b[0;34m\u001b[0m\u001b[0;34m\u001b[0m\u001b[0m\n\u001b[0m\u001b[1;32m     56\u001b[0m                     \u001b[0mcontent_pred\u001b[0m\u001b[0;34m[\u001b[0m\u001b[0muser_idx\u001b[0m\u001b[0;34m,\u001b[0m \u001b[0mitem_idx\u001b[0m\u001b[0;34m]\u001b[0m \u001b[0;34m=\u001b[0m \u001b[0mnp\u001b[0m\u001b[0;34m.\u001b[0m\u001b[0mmean\u001b[0m\u001b[0;34m(\u001b[0m\u001b[0msimilarities\u001b[0m\u001b[0;34m)\u001b[0m \u001b[0;32mif\u001b[0m \u001b[0msimilarities\u001b[0m \u001b[0;32melse\u001b[0m \u001b[0;36m0\u001b[0m\u001b[0;34m\u001b[0m\u001b[0;34m\u001b[0m\u001b[0m\n\u001b[1;32m     57\u001b[0m \u001b[0;34m\u001b[0m\u001b[0m\n",
      "\u001b[0;31mIndexError\u001b[0m: index 12319 is out of bounds for axis 0 with size 12319"
     ]
    }
   ],
   "source": [
    "from sklearn.feature_extraction.text import TfidfVectorizer\n",
    "from sklearn.metrics.pairwise import cosine_similarity\n",
    "from scipy.sparse.linalg import svds\n",
    "\n",
    "# Improving Recall and Precision of Recommender Systems\n",
    "\n",
    "# 1. Create a hybrid model combining user-based and item-based recommendations\n",
    "def hybrid_recommender(user_pred, item_pred, alpha=0.5):\n",
    "    \"\"\"\n",
    "    Combine user-based and item-based predictions with a weighted approach\n",
    "    \n",
    "    Parameters:\n",
    "        user_pred: User-based prediction matrix\n",
    "        item_pred: Item-based prediction matrix\n",
    "        alpha: Weight for user-based predictions (0-1)\n",
    "    \n",
    "    Returns:\n",
    "        Combined prediction matrix\n",
    "    \"\"\"\n",
    "    return alpha * user_pred + (1 - alpha) * item_pred\n",
    "\n",
    "# 2. Content-based filtering using TF-IDF on book metadata\n",
    "\n",
    "def content_based_recommender(all_items, n_users, n_items):\n",
    "    \"\"\"\n",
    "    Create content-based recommendation scores using book metadata\n",
    "    \n",
    "    Parameters:\n",
    "        all_items: DataFrame containing book metadata\n",
    "        n_users: Number of users\n",
    "        n_items: Number of items\n",
    "    \n",
    "    Returns:\n",
    "        Prediction matrix incorporating content similarity\n",
    "    \"\"\"\n",
    "    # Combine relevant text fields\n",
    "    all_items['content'] = all_items['Title'] + ' ' + all_items['Author'].fillna('') + ' ' + all_items['Subjects'].fillna('')\n",
    "    \n",
    "    # Create TF-IDF vectors\n",
    "    tfidf = TfidfVectorizer(stop_words='english')\n",
    "    tfidf_matrix = tfidf.fit_transform(all_items['content'])\n",
    "    \n",
    "    # Calculate item-item similarity based on content\n",
    "    content_similarity = cosine_similarity(tfidf_matrix)\n",
    "    \n",
    "    # Create a prediction matrix from content similarity\n",
    "    content_pred = np.zeros((n_users, n_items))\n",
    "    for user_idx in range(n_users):\n",
    "        # Get items the user has interacted with\n",
    "        interacted_items = np.where(train_user_item_matrix[user_idx] > 0)[0]\n",
    "        if len(interacted_items) > 0:\n",
    "            # For each item, calculate recommendation score based on similarity to items the user has interacted with\n",
    "            for item_idx in range(n_items):\n",
    "                if item_idx not in interacted_items:  # Skip items the user has already interacted with\n",
    "                    similarities = [content_similarity[item_idx, interacted_item] for interacted_item in interacted_items]\n",
    "                    content_pred[user_idx, item_idx] = np.mean(similarities) if similarities else 0\n",
    "    \n",
    "    return content_pred\n",
    "\n",
    "# 3. Matrix Factorization using SVD\n",
    "\n",
    "def matrix_factorization(ratings_matrix, k=50):\n",
    "    \"\"\"\n",
    "    Performs matrix factorization using SVD\n",
    "    \n",
    "    Parameters:\n",
    "        ratings_matrix: User-item interaction matrix\n",
    "        k: Number of latent factors\n",
    "    \n",
    "    Returns:\n",
    "        Predicted ratings matrix\n",
    "    \"\"\"\n",
    "    # Convert to float for numerical stability\n",
    "    ratings_matrix = ratings_matrix.astype('float')\n",
    "    \n",
    "    # Apply SVD\n",
    "    U, sigma, Vt = svds(ratings_matrix, k=k)\n",
    "    \n",
    "    # Convert sigma to diagonal matrix\n",
    "    sigma_diag = np.diag(sigma)\n",
    "    \n",
    "    # Reconstruct the prediction matrix\n",
    "    predictions = np.dot(np.dot(U, sigma_diag), Vt)\n",
    "    \n",
    "    return predictions\n",
    "\n",
    "# 4. Enhanced Hybrid Model with Content-Based Features\n",
    "def enhanced_hybrid_recommender(user_pred, item_pred, content_pred, mf_pred, weights=[0.3, 0.3, 0.2, 0.2]):\n",
    "    \"\"\"\n",
    "    Create an enhanced hybrid model that combines multiple recommendation approaches\n",
    "    \n",
    "    Parameters:\n",
    "        user_pred: User-based prediction matrix\n",
    "        item_pred: Item-based prediction matrix\n",
    "        content_pred: Content-based prediction matrix\n",
    "        mf_pred: Matrix factorization prediction matrix\n",
    "        weights: List of weights for each approach\n",
    "    \n",
    "    Returns:\n",
    "        Combined prediction matrix\n",
    "    \"\"\"\n",
    "    # Normalize each prediction matrix to have similar scales\n",
    "    def normalize_matrix(matrix):\n",
    "        # Handle zero division\n",
    "        if matrix.max() == matrix.min():\n",
    "            return np.zeros_like(matrix)\n",
    "        return (matrix - matrix.min()) / (matrix.max() - matrix.min() + 1e-10)\n",
    "    \n",
    "    user_pred_norm = normalize_matrix(user_pred)\n",
    "    item_pred_norm = normalize_matrix(item_pred)\n",
    "    content_pred_norm = normalize_matrix(content_pred)\n",
    "    mf_pred_norm = normalize_matrix(mf_pred)\n",
    "    \n",
    "    # Combine predictions using weights\n",
    "    hybrid_pred = (weights[0] * user_pred_norm + \n",
    "                   weights[1] * item_pred_norm + \n",
    "                   weights[2] * content_pred_norm + \n",
    "                   weights[3] * mf_pred_norm)\n",
    "    \n",
    "    return hybrid_pred\n",
    "\n",
    "# 5. Evaluate and compare all recommendation approaches\n",
    "def evaluate_recommenders(test_matrix, recommenders_dict, k_values=[5, 10, 20]):\n",
    "    \"\"\"\n",
    "    Evaluate multiple recommendation approaches with different k values\n",
    "    \n",
    "    Parameters:\n",
    "        test_matrix: Ground truth matrix for testing\n",
    "        recommenders_dict: Dictionary of recommendation matrices to evaluate\n",
    "        k_values: List of k values for precision@k and recall@k\n",
    "    \n",
    "    Returns:\n",
    "        DataFrame with evaluation results\n",
    "    \"\"\"\n",
    "    results = []\n",
    "    \n",
    "    for name, pred_matrix in recommenders_dict.items():\n",
    "        for k in k_values:\n",
    "            precision, recall = precision_recall_at_k(pred_matrix, test_matrix, k=k)\n",
    "            results.append({\n",
    "                'Model': name,\n",
    "                'K': k,\n",
    "                'Precision': precision,\n",
    "                'Recall': recall\n",
    "            })\n",
    "    \n",
    "    return pd.DataFrame(results)\n",
    "\n",
    "# Execute the code to generate and evaluate improved recommenders\n",
    "print(\"Generating recommendations with multiple approaches...\")\n",
    "\n",
    "# Generate different types of recommendations\n",
    "print(\"1. Creating simple hybrid model...\")\n",
    "simple_hybrid_pred = hybrid_recommender(user_prediction, item_prediction, alpha=0.6)\n",
    "\n",
    "print(\"2. Creating content-based recommendations...\")\n",
    "content_pred = content_based_recommender(all_items, n_users, n_items)\n",
    "\n",
    "print(\"3. Applying matrix factorization...\")\n",
    "mf_pred = matrix_factorization(train_user_item_matrix, k=50)\n",
    "\n",
    "print(\"4. Creating enhanced hybrid model...\")\n",
    "enhanced_hybrid_pred = enhanced_hybrid_recommender(\n",
    "    user_prediction, item_prediction, content_pred, mf_pred, \n",
    "    weights=[0.3, 0.3, 0.2, 0.2]\n",
    ")\n",
    "\n",
    "# Evaluate all recommendation approaches\n",
    "recommenders = {\n",
    "    'User-Based CF': user_prediction,\n",
    "    'Item-Based CF': item_prediction,\n",
    "    'Simple Hybrid (0.6/0.4)': simple_hybrid_pred,\n",
    "    'Content-Based': content_pred,\n",
    "    'Matrix Factorization': mf_pred,\n",
    "    'Enhanced Hybrid': enhanced_hybrid_pred\n",
    "}\n",
    "\n",
    "print(\"\\nEvaluating all recommendation approaches...\")\n",
    "results = evaluate_recommenders(test_data_matrix, recommenders, k_values=[5, 10, 20])\n",
    "\n",
    "# Display results\n",
    "print(\"\\nRecommendation Performance Results:\")\n",
    "print(results)\n",
    "\n",
    "# Plot the results\n",
    "plt.figure(figsize=(12, 8))\n",
    "for k in [5, 10, 20]:\n",
    "    k_results = results[results['K'] == k]\n",
    "    plt.subplot(1, 3, [5, 10, 20].index(k) + 1)\n",
    "    sns.barplot(x='Model', y='Recall', data=k_results, color='blue', alpha=0.6)\n",
    "    plt.title(f'Recall@{k} by Model')\n",
    "    plt.xticks(rotation=45, ha='right')\n",
    "    plt.tight_layout()\n",
    "\n",
    "plt.figure(figsize=(12, 8))\n",
    "for k in [5, 10, 20]:\n",
    "    k_results = results[results['K'] == k]\n",
    "    plt.subplot(1, 3, [5, 10, 20].index(k) + 1)\n",
    "    sns.barplot(x='Model', y='Precision', data=k_results, color='green', alpha=0.6)\n",
    "    plt.title(f'Precision@{k} by Model')\n",
    "    plt.xticks(rotation=45, ha='right')\n",
    "    plt.tight_layout()\n",
    "\n",
    "plt.show()"
   ]
  },
  {
   "cell_type": "code",
   "execution_count": null,
   "id": "40a9e7d4",
   "metadata": {},
   "outputs": [],
   "source": []
  },
  {
   "cell_type": "markdown",
   "id": "aa5d366f",
   "metadata": {},
   "source": [
    "### End of simple trial and beginning of old version "
   ]
  },
  {
   "cell_type": "markdown",
   "id": "e8d2b944",
   "metadata": {},
   "source": [
    "# Creating User-Item Matrices for Implicit Feedback from prof\n"
   ]
  },
  {
   "cell_type": "code",
   "execution_count": 89,
   "id": "5bc37171",
   "metadata": {},
   "outputs": [
    {
     "name": "stdout",
     "output_type": "stream",
     "text": [
      "number of users = 7838 | number of movies = 15109\n"
     ]
    }
   ],
   "source": [
    "print('number of users =', n_users, '| number of movies =', n_items)"
   ]
  },
  {
   "cell_type": "code",
   "execution_count": null,
   "id": "661a5d59",
   "metadata": {},
   "outputs": [],
   "source": [
    "# Function to visualize the item similarity matrix# Create mappings for user and item IDs\n",
    "user_id_mapping = {user_id: idx for idx, user_id in enumerate(interactions[\"u\"].unique())}\n",
    "item_id_mapping = {item_id: idx for idx, item_id in enumerate(interactions[\"i\"].unique())}\n",
    "\n",
    "# Map the user and item IDs in the dataset\n",
    "interactions[\"u\"] = interactions[\"u\"].map(user_id_mapping)\n",
    "interactions[\"i\"] = interactions[\"i\"].map(item_id_mapping)"
   ]
  },
  {
   "cell_type": "markdown",
   "id": "427f13bf",
   "metadata": {},
   "source": [
    "### Step 1: Define the Function to Create the Data Matrix"
   ]
  },
  {
   "cell_type": "code",
   "execution_count": 91,
   "id": "2979bc24",
   "metadata": {},
   "outputs": [],
   "source": [
    "n_users = interactions[\"u\"].nunique()\n",
    "n_items = interactions[\"i\"].nunique()"
   ]
  },
  {
   "cell_type": "code",
   "execution_count": 92,
   "id": "13e6557d",
   "metadata": {},
   "outputs": [
    {
     "data": {
      "text/plain": [
       "'# Check if train_data and test_data still have the original user and item IDs\\n# If not, we need to make sure they\\'re properly mapped before creating the matrices\\n# Since user and item IDs have been mapped in cell 20, we need to make sure\\n# train_data and test_data are using these mapped IDs\\ntrain_data_mapped = train_data.copy()\\ntest_data_mapped = test_data.copy()\\n\\n# Map user and item IDs if they haven\\'t already been mapped\\nif train_data_mapped[\"u\"].max() >= n_users or train_data_mapped[\"i\"].max() >= n_items:\\n    print(\"Mapping user and item IDs in train and test data...\")\\n    train_data_mapped[\"u\"] = train_data_mapped[\"u\"].map(user_id_mapping)\\n    train_data_mapped[\"i\"] = train_data_mapped[\"i\"].map(item_id_mapping)\\n    test_data_mapped[\"u\"] = test_data_mapped[\"u\"].map(user_id_mapping)\\n    test_data_mapped[\"i\"] = test_data_mapped[\"i\"].map(item_id_mapping)\\n\\n# Print shapes to understand the data dimensions\\nprint(f\"Number of unique users in mapped data: {train_data_mapped[\\'u\\'].nunique()}\")\\nprint(f\"Number of unique items in mapped data: {train_data_mapped[\\'i\\'].nunique()}\")\\nprint(f\"Shape of training data: {train_data_mapped.shape}\")\\nprint(f\"Shape of test data: {test_data_mapped.shape}\")\\n\\n# Create the matrices\\ntrain_data_matrix = create_data_matrix(train_data_mapped, n_users, n_items)\\ntest_data_matrix = create_data_matrix(test_data_mapped, n_users, n_items)\\n\\n# Quick check of the matrices\\nprint(f\"Shape of train matrix: {train_data_matrix.shape}\")\\nprint(f\"Shape of test matrix: {test_data_matrix.shape}\")\\nprint(f\"Number of non-zero entries in train matrix: {np.count_nonzero(train_data_matrix)}\")\\nprint(f\"Number of non-zero entries in test matrix: {np.count_nonzero(test_data_matrix)}\")'"
      ]
     },
     "execution_count": 92,
     "metadata": {},
     "output_type": "execute_result"
    }
   ],
   "source": [
    "'''# Check if train_data and test_data still have the original user and item IDs\n",
    "# If not, we need to make sure they're properly mapped before creating the matrices\n",
    "# Since user and item IDs have been mapped in cell 20, we need to make sure\n",
    "# train_data and test_data are using these mapped IDs\n",
    "train_data_mapped = train_data.copy()\n",
    "test_data_mapped = test_data.copy()\n",
    "\n",
    "''''''# Map user and item IDs if they haven't already been mapped\n",
    "if train_data_mapped[\"u\"].max() >= n_users or train_data_mapped[\"i\"].max() >= n_items:\n",
    "    print(\"Mapping user and item IDs in train and test data...\")\n",
    "    train_data_mapped[\"u\"] = train_data_mapped[\"u\"].map(user_id_mapping)\n",
    "    train_data_mapped[\"i\"] = train_data_mapped[\"i\"].map(item_id_mapping)\n",
    "    test_data_mapped[\"u\"] = test_data_mapped[\"u\"].map(user_id_mapping)\n",
    "    test_data_mapped[\"i\"] = test_data_mapped[\"i\"].map(item_id_mapping)''''''\n",
    "\n",
    "# Print shapes to understand the data dimensions\n",
    "print(f\"Number of unique users in mapped data: {train_data_mapped['u'].nunique()}\")\n",
    "print(f\"Number of unique items in mapped data: {train_data_mapped['i'].nunique()}\")\n",
    "print(f\"Shape of training data: {train_data_mapped.shape}\")\n",
    "print(f\"Shape of test data: {test_data_mapped.shape}\")\n",
    "\n",
    "# Create the matrices\n",
    "train_data_matrix = create_data_matrix(train_data_mapped, n_users, n_items)\n",
    "test_data_matrix = create_data_matrix(test_data_mapped, n_users, n_items)\n",
    "\n",
    "# Quick check of the matrices\n",
    "print(f\"Shape of train matrix: {train_data_matrix.shape}\")\n",
    "print(f\"Shape of test matrix: {test_data_matrix.shape}\")\n",
    "print(f\"Number of non-zero entries in train matrix: {np.count_nonzero(train_data_matrix)}\")\n",
    "print(f\"Number of non-zero entries in test matrix: {np.count_nonzero(test_data_matrix)}\")'''"
   ]
  },
  {
   "cell_type": "code",
   "execution_count": 93,
   "id": "38e94cc6",
   "metadata": {},
   "outputs": [
    {
     "name": "stdout",
     "output_type": "stream",
     "text": [
      "Shape of train matrix: (7838, 15109)\n",
      "Shape of test matrix: (7838, 15109)\n",
      "Number of non-zero entries in train matrix: 49689\n",
      "Train data size: 49689\n",
      "Number of non-zero entries in test matrix: 19409\n",
      "Test data size: 19409\n"
     ]
    }
   ],
   "source": [
    "def create_data_matrix(data, n_users, n_items):\n",
    "    \"\"\"\n",
    "    This function returns a numpy matrix with shape (n_users, n_items).\n",
    "    Each entry is a binary value indicating positive interaction.\n",
    "    \"\"\"\n",
    "    data_matrix = np.zeros((n_users, n_items))\n",
    "    for row in data.itertuples():\n",
    "        data_matrix[row.u, row.i] = 1  # Binary representation of interaction\n",
    "    return data_matrix\n",
    "\n",
    "\n",
    "\n",
    "# Map user and item IDs to zero-based indices\n",
    "user_id_mapping = {user_id: idx for idx, user_id in enumerate(interactions[\"u\"].unique())}\n",
    "item_id_mapping = {item_id: idx for idx, item_id in enumerate(interactions[\"i\"].unique())}\n",
    "\n",
    "interactions[\"u\"] = interactions[\"u\"].map(user_id_mapping)\n",
    "interactions[\"i\"] = interactions[\"i\"].map(item_id_mapping)\n",
    "\n",
    "# Split the data into training and testing sets\n",
    "interactions[\"pct_rank\"] = interactions.groupby(\"u\")[\"t\"].rank(pct=True, method='dense')\n",
    "train_data = interactions[interactions[\"pct_rank\"] < 0.8]\n",
    "test_data = interactions[interactions[\"pct_rank\"] >= 0.8]\n",
    "\n",
    "# Remove duplicate user-item pairs in train and test data\n",
    "train_data = train_data.drop_duplicates(subset=[\"u\", \"i\"])\n",
    "test_data = test_data.drop_duplicates(subset=[\"u\", \"i\"])\n",
    "\n",
    "# Get the number of unique users and items\n",
    "n_users = interactions[\"u\"].nunique()\n",
    "n_items = interactions[\"i\"].nunique()\n",
    "\n",
    "# Create the training and testing matrices\n",
    "train_data_matrix = create_data_matrix(train_data, n_users, n_items)\n",
    "test_data_matrix = create_data_matrix(test_data, n_users, n_items)\n",
    "\n",
    "# Print results\n",
    "print(f\"Shape of train matrix: {train_data_matrix.shape}\")\n",
    "print(f\"Shape of test matrix: {test_data_matrix.shape}\")\n",
    "print(f\"Number of non-zero entries in train matrix: {np.count_nonzero(train_data_matrix)}\")\n",
    "print(f\"Train data size: {train_data.shape[0]}\")\n",
    "print(f\"Number of non-zero entries in test matrix: {np.count_nonzero(test_data_matrix)}\")\n",
    "print(f\"Test data size: {test_data.shape[0]}\")"
   ]
  },
  {
   "cell_type": "markdown",
   "id": "0a52b159",
   "metadata": {},
   "source": [
    "### Step 2: Create the Training and Testing Matrices"
   ]
  },
  {
   "cell_type": "code",
   "execution_count": 94,
   "id": "d197edc6",
   "metadata": {},
   "outputs": [
    {
     "name": "stdout",
     "output_type": "stream",
     "text": [
      "train_data_matrix\n",
      "[[1. 1. 1. ... 0. 0. 0.]\n",
      " [0. 0. 0. ... 0. 0. 0.]\n",
      " [0. 0. 0. ... 0. 0. 0.]\n",
      " ...\n",
      " [0. 0. 0. ... 0. 0. 0.]\n",
      " [0. 0. 0. ... 0. 0. 0.]\n",
      " [0. 0. 0. ... 0. 0. 0.]]\n",
      "number of non-zero values:  49689.0\n",
      "test_data_matrix\n",
      "[[0. 0. 0. ... 0. 0. 0.]\n",
      " [0. 0. 0. ... 0. 0. 0.]\n",
      " [0. 0. 0. ... 0. 0. 0.]\n",
      " ...\n",
      " [0. 0. 0. ... 0. 0. 0.]\n",
      " [0. 0. 0. ... 0. 0. 0.]\n",
      " [0. 0. 0. ... 0. 0. 0.]]\n",
      "number of non-zero values:  19409.0\n"
     ]
    }
   ],
   "source": [
    "# Create the training and testing matrices\n",
    "\n",
    "# Display the matrices to understand their structure\n",
    "print('train_data_matrix')\n",
    "print(train_data_matrix)\n",
    "print(\"number of non-zero values: \", np.sum(train_data_matrix))\n",
    "print('test_data_matrix')\n",
    "print(test_data_matrix)\n",
    "print(\"number of non-zero values: \", np.sum(test_data_matrix))"
   ]
  },
  {
   "cell_type": "markdown",
   "id": "98e4e14e",
   "metadata": {},
   "source": [
    "### Step 3: Visualize the User-Item Interaction Matrices"
   ]
  },
  {
   "cell_type": "code",
   "execution_count": 95,
   "id": "16993b4e",
   "metadata": {},
   "outputs": [
    {
     "data": {
      "image/png": "[encoded data removed]",
      "text/plain": [
       "<Figure size 720x576 with 2 Axes>"
      ]
     },
     "metadata": {
      "needs_background": "light"
     },
     "output_type": "display_data"
    }
   ],
   "source": [
    "import matplotlib.pyplot as plt\n",
    "import seaborn as sns\n",
    "\n",
    "# Function to plot a heatmap for a subset of the user-item matrix\n",
    "def plot_interaction_heatmap(data_matrix, title, num_users=100, num_items=100):\n",
    "    \"\"\"\n",
    "    Plots a heatmap of a subset of the user-item interaction matrix.\n",
    "    Parameters:\n",
    "        data_matrix: The matrix to visualize.\n",
    "        title: The title of the plot.\n",
    "        num_users: The number of users to display (rows).\n",
    "        num_items: The number of items to display (columns).\n",
    "    \"\"\"\n",
    "    # Extract a subset of the matrix for visualization purposes\n",
    "    matrix_subset = data_matrix[:num_users, :num_items]\n",
    "\n",
    "    plt.figure(figsize=(10, 8))\n",
    "    sns.heatmap(matrix_subset, cmap=\"YlGnBu\", cbar=True, cbar_kws={'label': 'Interaction (1 = Positive, 0 = None)'})\n",
    "    plt.xlabel('Item ID')\n",
    "    plt.ylabel('User ID')\n",
    "    plt.title(title)\n",
    "    plt.show()\n",
    "\n",
    "# Visualize a subset of the training and testing matrices\n",
    "plot_interaction_heatmap(train_data_matrix, 'User-Item Interaction Matrix (Train Data)')"
   ]
  },
  {
   "cell_type": "markdown",
   "id": "4e9aecee",
   "metadata": {},
   "source": [
    "### Task 3: Item-to-Item Collaborative Filtering with Implicit Feedback"
   ]
  },
  {
   "cell_type": "code",
   "execution_count": 96,
   "id": "9ac94df9",
   "metadata": {},
   "outputs": [
    {
     "name": "stdout",
     "output_type": "stream",
     "text": [
      "Item-Item Similarity Matrix:\n",
      "[[1.         0.40824829 0.33333333 ... 0.         0.         0.        ]\n",
      " [0.40824829 1.         0.40824829 ... 0.         0.         0.        ]\n",
      " [0.33333333 0.40824829 1.         ... 0.         0.         0.        ]\n",
      " ...\n",
      " [0.         0.         0.         ... 1.         0.         0.        ]\n",
      " [0.         0.         0.         ... 0.         1.         0.        ]\n",
      " [0.         0.         0.         ... 0.         0.         1.        ]]\n",
      "(15109, 15109)\n"
     ]
    }
   ],
   "source": [
    "from sklearn.metrics.pairwise import cosine_similarity\n",
    "\n",
    "# Compute the item-item similarity matrix\n",
    "# Check sklearn documentation for cosine similarity to understand how we are\n",
    "# using this function.\n",
    "item_similarity = cosine_similarity(train_data_matrix.T)\n",
    "print(\"Item-Item Similarity Matrix:\")\n",
    "print(item_similarity)\n",
    "print(item_similarity.shape)\n"
   ]
  },
  {
   "cell_type": "code",
   "execution_count": 97,
   "id": "5e6045f0",
   "metadata": {},
   "outputs": [
    {
     "data": {
      "image/png": "[encoded data removed]",
      "text/plain": [
       "<Figure size 720x576 with 2 Axes>"
      ]
     },
     "metadata": {
      "needs_background": "light"
     },
     "output_type": "display_data"
    }
   ],
   "source": [
    "# Function to visualize the item similarity matrix\n",
    "def plot_item_similarity_heatmap(similarity_matrix, title, num_items=100):\n",
    "    \"\"\"\n",
    "    Plots a heatmap of a subset of the item similarity matrix.\n",
    "    Parameters:\n",
    "        similarity_matrix: The item-item similarity matrix.\n",
    "        title: The title of the plot.\n",
    "        num_items: The number of items to display (both rows and columns).\n",
    "    \"\"\"\n",
    "    # Extract a subset of the matrix for visualization\n",
    "    matrix_subset = similarity_matrix[:num_items, :num_items]\n",
    "\n",
    "    plt.figure(figsize=(10, 8))\n",
    "    sns.heatmap(matrix_subset, cmap=\"coolwarm\", cbar=True, cbar_kws={'label': 'Similarity Score'})\n",
    "    plt.xlabel('Item ID')\n",
    "    plt.ylabel('Item ID')\n",
    "    plt.title(title)\n",
    "    plt.show()\n",
    "\n",
    "# Visualize a subset of the item similarity matrix\n",
    "plot_item_similarity_heatmap(item_similarity, 'Item-Item Similarity Matrix')"
   ]
  },
  {
   "cell_type": "code",
   "execution_count": 98,
   "id": "f088bdc2",
   "metadata": {},
   "outputs": [
    {
     "name": "stdout",
     "output_type": "stream",
     "text": [
      "Predicted Interaction Matrix:\n",
      "[[0.46097255 0.85435984 0.71867834 ... 0.         0.         0.        ]\n",
      " [0.         0.         0.         ... 0.         0.         0.        ]\n",
      " [0.         0.         0.         ... 0.         0.         0.        ]\n",
      " ...\n",
      " [0.         0.         0.         ... 0.         0.         0.        ]\n",
      " [0.         0.         0.         ... 0.         0.         0.        ]\n",
      " [0.         0.         0.         ... 0.         0.         0.        ]]\n",
      "(7838, 15109)\n"
     ]
    }
   ],
   "source": [
    "import numpy as np\n",
    "\n",
    "# Define the function to predict interactions based on item similarity\n",
    "def item_based_predict(interactions, similarity, epsilon=1e-9):\n",
    "    \"\"\"\n",
    "    Predicts user-item interactions based on item-item similarity.\n",
    "    Parameters:\n",
    "        interactions (numpy array): The user-item interaction matrix.\n",
    "        similarity (numpy array): The item-item similarity matrix.\n",
    "        epsilon (float): Small constant added to the denominator to avoid division by zero.\n",
    "    Returns:\n",
    "        numpy array: The predicted interaction scores for each user-item pair.\n",
    "    \"\"\"\n",
    "    # np.dot does the matrix multiplication. Here we are calculating the\n",
    "    # weighted sum of interactions based on item similarity\n",
    "    pred = similarity.dot(interactions.T) / (similarity.sum(axis=1)[:, np.newaxis] + epsilon)\n",
    "    return pred.T  # Transpose to get users as rows and items as columns\n",
    "\n",
    "# Calculate the item-based predictions for positive interactions\n",
    "item_prediction = item_based_predict(train_data_matrix, item_similarity)\n",
    "print(\"Predicted Interaction Matrix:\")\n",
    "print(item_prediction)\n",
    "print(item_prediction.shape)"
   ]
  },
  {
   "cell_type": "code",
   "execution_count": 99,
   "id": "55b0dc0b",
   "metadata": {},
   "outputs": [
    {
     "data": {
      "image/png": "[encoded data removed]",
      "text/plain": [
       "<Figure size 720x576 with 2 Axes>"
      ]
     },
     "metadata": {
      "needs_background": "light"
     },
     "output_type": "display_data"
    }
   ],
   "source": [
    "# Function to visualize the predicted interaction matrix for a subset of users and items\n",
    "def plot_interaction_prediction_heatmap(prediction_matrix, title, num_users=300, num_items=300):\n",
    "    \"\"\"\n",
    "    Plots a heatmap of a subset of the user-item predicted interaction matrix.\n",
    "    Parameters:\n",
    "        prediction_matrix: The predicted interaction matrix.\n",
    "        title: The title of the plot.\n",
    "        num_users: The number of users to display (rows).\n",
    "        num_items: The number of items to display (columns).\n",
    "    \"\"\"\n",
    "    # Extract a subset of the matrix for visualization\n",
    "    matrix_subset = prediction_matrix[:num_users, :num_items]\n",
    "\n",
    "    plt.figure(figsize=(10, 8))\n",
    "    sns.heatmap(matrix_subset, cmap=\"YlGnBu\", cbar=True, cbar_kws={'label': 'Predicted Interaction Score'})\n",
    "    plt.xlabel('Item ID')\n",
    "    plt.ylabel('User ID')\n",
    "    plt.title(title)\n",
    "    plt.show()\n",
    "\n",
    "# Visualize a subset of the predicted interaction matrix\n",
    "plot_interaction_prediction_heatmap(item_prediction, 'User-Item Predicted Interaction Matrix')"
   ]
  },
  {
   "cell_type": "markdown",
   "id": "95103940",
   "metadata": {},
   "source": [
    "### Task 4: User-to-User Collaborative Filtering with Implicit Feedback"
   ]
  },
  {
   "cell_type": "code",
   "execution_count": 100,
   "id": "e24d3c92",
   "metadata": {},
   "outputs": [
    {
     "name": "stdout",
     "output_type": "stream",
     "text": [
      "User-User Similarity Matrix:\n",
      "[[1. 0. 0. ... 0. 0. 0.]\n",
      " [0. 1. 0. ... 0. 0. 0.]\n",
      " [0. 0. 1. ... 0. 0. 0.]\n",
      " ...\n",
      " [0. 0. 0. ... 1. 0. 0.]\n",
      " [0. 0. 0. ... 0. 1. 0.]\n",
      " [0. 0. 0. ... 0. 0. 1.]]\n",
      "Shape of User Similarity Matrix: (7838, 7838)\n"
     ]
    }
   ],
   "source": [
    "# Compute the user-user similarity matrix\n",
    "user_similarity = cosine_similarity(train_data_matrix)\n",
    "print(\"User-User Similarity Matrix:\")\n",
    "print(user_similarity)\n",
    "\n",
    "# Check the shape as a sanity check\n",
    "print(\"Shape of User Similarity Matrix:\", user_similarity.shape)"
   ]
  },
  {
   "cell_type": "code",
   "execution_count": 101,
   "id": "814e6837",
   "metadata": {},
   "outputs": [
    {
     "data": {
      "image/png": "[encoded data removed]",
      "text/plain": [
       "<Figure size 720x576 with 2 Axes>"
      ]
     },
     "metadata": {
      "needs_background": "light"
     },
     "output_type": "display_data"
    }
   ],
   "source": [
    "# Function to plot the user similarity matrix\n",
    "def plot_user_similarity_heatmap(similarity_matrix, title, num_users=100):\n",
    "    \"\"\"\n",
    "    Plots a heatmap of a subset of the user similarity matrix.\n",
    "    Parameters:\n",
    "        similarity_matrix: The user-user similarity matrix.\n",
    "        title: The title of the plot.\n",
    "        num_users: The number of users to display (both rows and columns).\n",
    "    \"\"\"\n",
    "    # Extract a subset of the matrix for visualization\n",
    "    matrix_subset = similarity_matrix[:num_users, :num_users]\n",
    "\n",
    "    plt.figure(figsize=(10, 8))\n",
    "    sns.heatmap(matrix_subset, cmap=\"coolwarm\", cbar=True, cbar_kws={'label': 'Similarity Score'})\n",
    "    plt.xlabel('User ID')\n",
    "    plt.ylabel('User ID')\n",
    "    plt.title(title)\n",
    "    plt.show()\n",
    "\n",
    "# Visualize a subset of the user similarity matrix\n",
    "plot_user_similarity_heatmap(user_similarity, 'User-User Similarity Matrix')"
   ]
  },
  {
   "cell_type": "code",
   "execution_count": 102,
   "id": "de4ac81a",
   "metadata": {},
   "outputs": [
    {
     "name": "stdout",
     "output_type": "stream",
     "text": [
      "Predicted Interaction Matrix (User-Based):\n",
      "[[0.13171649 0.13259591 0.14274867 ... 0.         0.         0.        ]\n",
      " [0.         0.         0.         ... 0.         0.         0.        ]\n",
      " [0.         0.         0.         ... 0.         0.         0.        ]\n",
      " ...\n",
      " [0.         0.         0.         ... 0.         0.         0.        ]\n",
      " [0.         0.         0.         ... 0.         0.         0.        ]\n",
      " [0.         0.         0.         ... 0.         0.         0.        ]]\n",
      "(7838, 15109)\n"
     ]
    }
   ],
   "source": [
    "# Define the function to predict interactions based on user similarity\n",
    "def user_based_predict(interactions, similarity, epsilon=1e-9):\n",
    "    \"\"\"\n",
    "    Predicts user-item interactions based on user-user similarity.\n",
    "    Parameters:\n",
    "        interactions (numpy array): The user-item interaction matrix.\n",
    "        similarity (numpy array): The user-user similarity matrix.\n",
    "        epsilon (float): Small constant added to the denominator to avoid division by zero.\n",
    "    Returns:\n",
    "        numpy array: The predicted interaction scores for each user-item pair.\n",
    "    \"\"\"\n",
    "    # Calculate the weighted sum of interactions based on user similarity\n",
    "    pred = similarity.dot(interactions) / (np.abs(similarity).sum(axis=1)[:, np.newaxis] + epsilon)\n",
    "    return pred\n",
    "\n",
    "# Calculate the user-based predictions for positive interactions\n",
    "user_prediction = user_based_predict(train_data_matrix, user_similarity)\n",
    "print(\"Predicted Interaction Matrix (User-Based):\")\n",
    "print(user_prediction)\n",
    "print(user_prediction.shape)"
   ]
  },
  {
   "cell_type": "code",
   "execution_count": 103,
   "id": "a0bd88c2",
   "metadata": {},
   "outputs": [
    {
     "data": {
      "image/png": "[encoded data removed]",
      "text/plain": [
       "<Figure size 720x576 with 2 Axes>"
      ]
     },
     "metadata": {
      "needs_background": "light"
     },
     "output_type": "display_data"
    }
   ],
   "source": [
    "# Function to visualize the predicted interaction matrix for a subset of users and items\n",
    "def plot_interaction_prediction_heatmap(prediction_matrix, title, num_users=300, num_items=300):\n",
    "    \"\"\"\n",
    "    Plots a heatmap of a subset of the user-item predicted interaction matrix.\n",
    "    Parameters:\n",
    "        prediction_matrix: The predicted interaction matrix.\n",
    "        title: The title of the plot.\n",
    "        num_users: The number of users to display (rows).\n",
    "        num_items: The number of items to display (columns).\n",
    "    \"\"\"\n",
    "    # Extract a subset of the matrix for visualization\n",
    "    matrix_subset = prediction_matrix[:num_users, :num_items]\n",
    "\n",
    "    plt.figure(figsize=(10, 8))\n",
    "    sns.heatmap(matrix_subset, cmap=\"YlGnBu\", cbar=True, cbar_kws={'label': 'Predicted Interaction Score'})\n",
    "    plt.xlabel('Item ID')\n",
    "    plt.ylabel('User ID')\n",
    "    plt.title(title)\n",
    "    plt.show()\n",
    "\n",
    "# Visualize a subset of the predicted interaction matrix\n",
    "plot_interaction_prediction_heatmap(user_prediction, 'User-Item Predicted Interaction Matrix (User-Based)')"
   ]
  },
  {
   "cell_type": "markdown",
   "id": "9c3b9379",
   "metadata": {},
   "source": [
    "### Task 5: Evaluating Our Recommenders"
   ]
  },
  {
   "cell_type": "code",
   "execution_count": 104,
   "id": "b08ff6a6",
   "metadata": {},
   "outputs": [],
   "source": [
    "def precision_recall_at_k(prediction, ground_truth, k=10):\n",
    "    \"\"\"\n",
    "    Calculates Precision@K and Recall@K for top-K recommendations.\n",
    "    Parameters:\n",
    "        prediction (numpy array): The predicted interaction matrix with scores.\n",
    "        ground_truth (numpy array): The ground truth interaction matrix (binary).\n",
    "        k (int): Number of top recommendations to consider.\n",
    "    Returns:\n",
    "        precision_at_k (float): The average precision@K over all users.\n",
    "        recall_at_k (float): The average recall@K over all users.\n",
    "    \"\"\"\n",
    "    num_users = prediction.shape[0]\n",
    "    precision_at_k, recall_at_k = 0, 0\n",
    "\n",
    "    for user in range(num_users):\n",
    "        # Get the indices of the top-K items for the user based on predicted scores\n",
    "        top_k_items = np.argsort(prediction[user, :])[-k:]\n",
    "\n",
    "        # Calculate the number of relevant items in the top-K items for the user\n",
    "        relevant_items_in_top_k = np.isin(top_k_items, np.where(ground_truth[user, :] == 1)[0]).sum()\n",
    "\n",
    "        # Calculate the total number of relevant items for the user\n",
    "        total_relevant_items = ground_truth[user, :].sum()\n",
    "\n",
    "        # Precision@K and Recall@K for this user\n",
    "        precision_at_k += relevant_items_in_top_k / k\n",
    "        recall_at_k += relevant_items_in_top_k / total_relevant_items if total_relevant_items > 0 else 0\n",
    "\n",
    "    # Average Precision@K and Recall@K over all users\n",
    "    precision_at_k /= num_users\n",
    "    recall_at_k /= num_users\n",
    "\n",
    "    return precision_at_k, recall_at_k"
   ]
  },
  {
   "cell_type": "code",
   "execution_count": 105,
   "id": "5558e75e",
   "metadata": {},
   "outputs": [
    {
     "name": "stdout",
     "output_type": "stream",
     "text": [
      "User-based CF Precision@K: 0.056455728502171655\n",
      "User-based CF Recall@K: 0.2899013913583887\n",
      "Item-based CF Precision@K: 0.05567746874202883\n",
      "Item-based CF Recall@K: 0.2640441131423877\n"
     ]
    }
   ],
   "source": [
    "# Run this line after implementing the function\n",
    "precision_user_k, recall_user_k = precision_recall_at_k(user_prediction, test_data_matrix, k=10)\n",
    "precision_item_k, recall_item_k = precision_recall_at_k(item_prediction, test_data_matrix, k=10)\n",
    "\n",
    "print('User-based CF Precision@K:', precision_user_k)\n",
    "print('User-based CF Recall@K:', recall_user_k)\n",
    "print('Item-based CF Precision@K:', precision_item_k)\n",
    "print('Item-based CF Recall@K:', recall_item_k)"
   ]
  },
  {
   "cell_type": "code",
   "execution_count": 106,
   "id": "a7c246ac",
   "metadata": {},
   "outputs": [
    {
     "name": "stdout",
     "output_type": "stream",
     "text": [
      "Selected User ID: 51\n"
     ]
    },
    {
     "data": {
      "text/plain": [
       "array([915, 924, 925, 932, 930, 933, 914, 927, 931, 929])"
      ]
     },
     "metadata": {},
     "output_type": "display_data"
    },
    {
     "data": {
      "text/plain": [
       "array([921, 918, 920, 916, 928, 926, 936, 934, 935, 919])"
      ]
     },
     "metadata": {},
     "output_type": "display_data"
    }
   ],
   "source": [
    "import random\n",
    "\n",
    "# Pick a user at random\n",
    "user_id = random.choice(range(user_prediction.shape[0]))\n",
    "print(\"Selected User ID:\", user_id)\n",
    "\n",
    "# Get top-10 recommendations for the user from User-to-User CF\n",
    "user_top_10 = np.argsort(user_prediction[user_id, :])[-10:][::-1]\n",
    "\n",
    "# Get top-10 recommendations for the user from Item-to-Item CF\n",
    "item_top_10 = np.argsort(item_prediction[user_id, :])[-10:][::-1]\n",
    "\n",
    "# Display top-10 recommended movie IDs for both models\n",
    "display(user_top_10)\n",
    "display(item_top_10)"
   ]
  },
  {
   "cell_type": "code",
   "execution_count": 107,
   "id": "39e89956",
   "metadata": {},
   "outputs": [
    {
     "ename": "NameError",
     "evalue": "name 'links' is not defined",
     "output_type": "error",
     "traceback": [
      "\u001b[0;31m---------------------------------------------------------------------------\u001b[0m",
      "\u001b[0;31mNameError\u001b[0m                                 Traceback (most recent call last)",
      "\u001b[0;32m/var/folders/f5/kfhjr6d55t3f6fpgzj_trt340000gn/T/ipykernel_10063/123660245.py\u001b[0m in \u001b[0;36m<module>\u001b[0;34m\u001b[0m\n\u001b[1;32m      4\u001b[0m \u001b[0;34m\u001b[0m\u001b[0m\n\u001b[1;32m      5\u001b[0m \u001b[0;31m# Merge with links_df to get the tmdbId\u001b[0m\u001b[0;34m\u001b[0m\u001b[0;34m\u001b[0m\u001b[0m\n\u001b[0;32m----> 6\u001b[0;31m \u001b[0muser_recommendations_df\u001b[0m \u001b[0;34m=\u001b[0m \u001b[0muser_top_10_df\u001b[0m\u001b[0;34m.\u001b[0m\u001b[0mmerge\u001b[0m\u001b[0;34m(\u001b[0m\u001b[0mlinks\u001b[0m\u001b[0;34m,\u001b[0m \u001b[0mleft_on\u001b[0m\u001b[0;34m=\u001b[0m\u001b[0;34m'movie_id'\u001b[0m\u001b[0;34m,\u001b[0m \u001b[0mright_on\u001b[0m\u001b[0;34m=\u001b[0m\u001b[0;34m'movie_id'\u001b[0m\u001b[0;34m)\u001b[0m\u001b[0;34m\u001b[0m\u001b[0;34m\u001b[0m\u001b[0m\n\u001b[0m\u001b[1;32m      7\u001b[0m \u001b[0mitem_recommendations_df\u001b[0m \u001b[0;34m=\u001b[0m \u001b[0mitem_top_10_df\u001b[0m\u001b[0;34m.\u001b[0m\u001b[0mmerge\u001b[0m\u001b[0;34m(\u001b[0m\u001b[0mlinks\u001b[0m\u001b[0;34m,\u001b[0m \u001b[0mleft_on\u001b[0m\u001b[0;34m=\u001b[0m\u001b[0;34m'movie_id'\u001b[0m\u001b[0;34m,\u001b[0m \u001b[0mright_on\u001b[0m\u001b[0;34m=\u001b[0m\u001b[0;34m'movie_id'\u001b[0m\u001b[0;34m)\u001b[0m\u001b[0;34m\u001b[0m\u001b[0;34m\u001b[0m\u001b[0m\n\u001b[1;32m      8\u001b[0m \u001b[0;34m\u001b[0m\u001b[0m\n",
      "\u001b[0;31mNameError\u001b[0m: name 'links' is not defined"
     ]
    }
   ],
   "source": [
    "# Convert user_top_10 and item_top_10 arrays into DataFrames\n",
    "user_top_10_df = pd.DataFrame({'movie_id': user_top_10})\n",
    "item_top_10_df = pd.DataFrame({'movie_id': item_top_10})\n",
    "\n",
    "# Merge with links_df to get the tmdbId\n",
    "user_recommendations_df = user_top_10_df.merge(links, left_on='movie_id', right_on='movie_id')\n",
    "item_recommendations_df = item_top_10_df.merge(links, left_on='movie_id', right_on='movie_id')\n",
    "\n",
    "# Merge with movies_df to add the title column\n",
    "user_recommendations_df = user_recommendations_df.merge(movies[['movie_id', 'title']], left_on='movie_id', right_on='movie_id')\n",
    "item_recommendations_df = item_recommendations_df.merge(movies[['movie_id', 'title']], left_on='movie_id', right_on='movie_id')\n",
    "\n",
    "# Select only the columns we want to display\n",
    "user_recommendations_df = user_recommendations_df[['movie_id', 'title', 'tmdbId']]\n",
    "item_recommendations_df = item_recommendations_df[['movie_id', 'title', 'tmdbId']]\n",
    "\n",
    "# Display the results\n",
    "display(user_recommendations_df)\n",
    "display(item_recommendations_df)"
   ]
  },
  {
   "cell_type": "code",
   "execution_count": null,
   "id": "7cb8e403",
   "metadata": {},
   "outputs": [],
   "source": []
  },
  {
   "cell_type": "markdown",
   "id": "5947e87d",
   "metadata": {},
   "source": [
    "### prova da kaggle\n"
   ]
  },
  {
   "cell_type": "code",
   "execution_count": null,
   "id": "087df1e8",
   "metadata": {},
   "outputs": [
    {
     "name": "stdout",
     "output_type": "stream",
     "text": [
      "<class 'pandas.core.frame.DataFrame'>\n",
      "RangeIndex: 87045 entries, 0 to 87044\n",
      "Data columns (total 8 columns):\n",
      " #   Column      Non-Null Count  Dtype  \n",
      "---  ------      --------------  -----  \n",
      " 0   u           87045 non-null  int64  \n",
      " 1   i           87045 non-null  int64  \n",
      " 2   t           87045 non-null  float64\n",
      " 3   Title       87045 non-null  object \n",
      " 4   Author      71915 non-null  object \n",
      " 5   ISBN Valid  83508 non-null  object \n",
      " 6   Publisher   86922 non-null  object \n",
      " 7   Subjects    76169 non-null  object \n",
      "dtypes: float64(1), int64(2), object(5)\n",
      "memory usage: 5.3+ MB\n"
     ]
    }
   ],
   "source": [
    "interactions_with_items = interactions.merge(items, on='i', how='left')\n",
    "interactions_with_items.info()"
   ]
  },
  {
   "cell_type": "code",
   "execution_count": null,
   "id": "50ac89f4",
   "metadata": {},
   "outputs": [
    {
     "name": "stdout",
     "output_type": "stream",
     "text": [
      "['Title', 'Author', 'Subjects']\n"
     ]
    }
   ],
   "source": [
    "selected_features = ['Title','Author','Subjects']\n",
    "print(selected_features)"
   ]
  },
  {
   "cell_type": "code",
   "execution_count": null,
   "id": "a75f5374",
   "metadata": {},
   "outputs": [],
   "source": [
    "for feature in selected_features:\n",
    "    interactions_with_items[feature] = interactions_with_items[feature].fillna('')"
   ]
  },
  {
   "cell_type": "code",
   "execution_count": null,
   "id": "7ed113c7",
   "metadata": {},
   "outputs": [
    {
     "data": {
      "text/plain": [
       "0                Ashes falling for the sky /  Gorman, Nine\n",
       "1         La page blanche / Bandes dessinées Boulet, 1975-\n",
       "2        Aysuun : roman / Vengeance; Thriller (roman) M...\n",
       "3        Le cercle des rêveurs éveillés / Roman policie...\n",
       "4        L'examen clinique de l'aîné : guide d'évaluati...\n",
       "                               ...                        \n",
       "87040    Différence & souffrance de l'adulte surdoué / ...\n",
       "87041    Replay : mémoires d'une famille /  Mechner, Jo...\n",
       "87042    Vers une gestion éducative de la classe / Clas...\n",
       "87043    A Short History of the World in 50 Lies /  Tid...\n",
       "87044    L'art dans l'espace public : une analyse socio...\n",
       "Length: 87045, dtype: object"
      ]
     },
     "execution_count": 13,
     "metadata": {},
     "output_type": "execute_result"
    }
   ],
   "source": [
    "combined_features = interactions_with_items['Title'] + ' ' + interactions_with_items['Subjects'] + ' ' + interactions_with_items['Author'] \n",
    "combined_features"
   ]
  },
  {
   "cell_type": "code",
   "execution_count": null,
   "id": "004a3f5d",
   "metadata": {},
   "outputs": [],
   "source": [
    "# converting the text data to feature vectors\n",
    "vectorizer = TfidfVectorizer()\n",
    "\n",
    "feature_vectors = vectorizer.fit_transform(combined_features)"
   ]
  },
  {
   "cell_type": "code",
   "execution_count": null,
   "id": "06f8d361",
   "metadata": {},
   "outputs": [
    {
     "name": "stdout",
     "output_type": "stream",
     "text": [
      "  (0, 2736)\t0.4354595998602811\n",
      "  (0, 11326)\t0.4354595998602811\n",
      "  (0, 11983)\t0.3021019517028073\n",
      "  (0, 29825)\t0.20691232962850672\n",
      "  (0, 28070)\t0.4354595998602811\n",
      "  (0, 13343)\t0.3885002985213019\n",
      "  (0, 21562)\t0.3822486459655414\n",
      "  (1, 17363)\t0.1277918218774901\n",
      "  (1, 22558)\t0.4886068542614903\n",
      "  (1, 4342)\t0.4684281509849102\n",
      "  (1, 3453)\t0.17460260546889483\n",
      "  (1, 8625)\t0.17577687508604878\n",
      "  (1, 4673)\t0.5899747335784243\n",
      "  (1, 591)\t0.34066683678090115\n",
      "  (2, 3266)\t0.5075176192202946\n",
      "  (2, 26241)\t0.3222152587018927\n",
      "  (2, 31282)\t0.421284373450545\n",
      "  (2, 29913)\t0.30896317095770204\n",
      "  (2, 19019)\t0.4576470285054414\n",
      "  (2, 15004)\t0.3952513456256913\n",
      "  (3, 26241)\t0.1333258894958066\n",
      "  (3, 17681)\t0.11258157136137736\n",
      "  (3, 5887)\t0.3847104654410857\n",
      "  (3, 8558)\t0.11956116272543785\n",
      "  (3, 26784)\t0.43173692202981934\n",
      "  :\t:\n",
      "  (87043, 785)\t0.3013320609589157\n",
      "  (87043, 32483)\t0.3036073681424916\n",
      "  (87043, 21207)\t0.37561942359480816\n",
      "  (87043, 14550)\t0.2450110164864916\n",
      "  (87043, 18048)\t0.3707786624153032\n",
      "  (87043, 27831)\t0.3796520466368581\n",
      "  (87043, 29979)\t0.45546231723181985\n",
      "  (87044, 8207)\t0.09631149642293169\n",
      "  (87044, 2670)\t0.4184932950888991\n",
      "  (87044, 30865)\t0.09041464976617984\n",
      "  (87044, 29020)\t0.1333507524535487\n",
      "  (87044, 28154)\t0.22656461880511838\n",
      "  (87044, 2006)\t0.14454281886849238\n",
      "  (87044, 1925)\t0.138073362136894\n",
      "  (87044, 29944)\t0.128614779870415\n",
      "  (87044, 28130)\t0.11239509398225626\n",
      "  (87044, 24778)\t0.41507669867438635\n",
      "  (87044, 563)\t0.1386065166939325\n",
      "  (87044, 31673)\t0.2894095553898388\n",
      "  (87044, 12897)\t0.1502579241327507\n",
      "  (87044, 10795)\t0.4629895821010247\n",
      "  (87044, 28156)\t0.17739636544308007\n",
      "  (87044, 30964)\t0.1734554262365394\n",
      "  (87044, 5201)\t0.19639401471176723\n",
      "  (87044, 9468)\t0.23842276779938779\n"
     ]
    }
   ],
   "source": [
    "print(feature_vectors)"
   ]
  },
  {
   "cell_type": "code",
   "execution_count": null,
   "id": "9833df0c",
   "metadata": {},
   "outputs": [],
   "source": [
    "similarity = cosine_similarity(feature_vectors, feature_vectors)"
   ]
  },
  {
   "cell_type": "code",
   "execution_count": null,
   "id": "fd610c56",
   "metadata": {},
   "outputs": [],
   "source": [
    "print(similarity)"
   ]
  },
  {
   "cell_type": "code",
   "execution_count": null,
   "id": "2ffa8bf4",
   "metadata": {},
   "outputs": [],
   "source": [
    "list_of_all_titles = df['title'].tolist()\n",
    "print(list_of_all_titles)"
   ]
  },
  {
   "cell_type": "code",
   "execution_count": null,
   "id": "e421eee4",
   "metadata": {},
   "outputs": [],
   "source": [
    "book_name = input(' Enter your favourite book name : ')"
   ]
  },
  {
   "cell_type": "code",
   "execution_count": null,
   "id": "c8825b5e",
   "metadata": {},
   "outputs": [],
   "source": [
    "find_close_match = difflib.get_close_matches(book_name, list_of_all_titles)\n",
    "print(find_close_match)"
   ]
  },
  {
   "cell_type": "code",
   "execution_count": null,
   "id": "d730995c",
   "metadata": {},
   "outputs": [],
   "source": [
    "close_match = find_close_match[0]\n",
    "index_of_the_book = df[df.title == close_match].index[0]"
   ]
  },
  {
   "cell_type": "code",
   "execution_count": null,
   "id": "eb2a065c",
   "metadata": {},
   "outputs": [],
   "source": []
  }
 ],
 "metadata": {
  "kernelspec": {
   "display_name": "base",
   "language": "python",
   "name": "python3"
  },
  "language_info": {
   "codemirror_mode": {
    "name": "ipython",
    "version": 3
   },
   "file_extension": ".py",
   "mimetype": "text/x-python",
   "name": "python",
   "nbconvert_exporter": "python",
   "pygments_lexer": "ipython3",
   "version": "3.9.7"
  }
 },
 "nbformat": 4,
 "nbformat_minor": 5
}
